{
 "cells": [
  {
   "cell_type": "code",
   "execution_count": 232,
   "metadata": {},
   "outputs": [],
   "source": [
    "import random\n",
    "import numpy as np\n",
    "import pandas as pd\n",
    "from matplotlib import pyplot as plt\n",
    "from copy import deepcopy\n",
    "import data_generation as dg"
   ]
  },
  {
   "cell_type": "code",
   "execution_count": 233,
   "metadata": {},
   "outputs": [],
   "source": [
    "graph, random_solution, total_edge_length = dg.read_instance('data\\data20.txt')"
   ]
  },
  {
   "cell_type": "code",
   "execution_count": 234,
   "metadata": {},
   "outputs": [],
   "source": [
    "def make_change_swap(graph, solution):\n",
    "    new_solution = solution.copy()\n",
    "    \n",
    "    # Choose two distinct random indices\n",
    "    index1, index2 = random.sample(range(len(solution)), 2)\n",
    "    \n",
    "    # Swap the positions of the selected nodes\n",
    "    new_solution[index1], new_solution[index2] = new_solution[index2], new_solution[index1]\n",
    "\n",
    "    return new_solution"
   ]
  },
  {
   "cell_type": "code",
   "execution_count": 235,
   "metadata": {},
   "outputs": [],
   "source": [
    "def make_change_inverse(graph, solution):\n",
    "    new_solution = solution.copy()\n",
    "    \n",
    "    # Choose two distinct random indices\n",
    "    index1, index2 = sorted(random.sample(range(len(solution)), 2))\n",
    "    \n",
    "    # Reverse the subset of nodes between index1 and index2\n",
    "    new_solution[index1:index2+1] = reversed(new_solution[index1:index2+1])\n",
    "\n",
    "    return new_solution"
   ]
  },
  {
   "cell_type": "code",
   "execution_count": 236,
   "metadata": {},
   "outputs": [],
   "source": [
    "def make_change_next_permutation(graph, solution):\n",
    "    #based on the classic next permutation algorithm\n",
    "    new_solution = deepcopy(solution)\n",
    "    \n",
    "    n = len(new_solution)\n",
    "    \n",
    "    # Find the largest index k such that a[k] < a[k+1]\n",
    "    k = n - 2\n",
    "    while k >= 0 and new_solution[k] >= new_solution[k + 1]:\n",
    "        k -= 1\n",
    "\n",
    "    # If no such index exists, the permutation is the last one\n",
    "    if k == -1:\n",
    "        return sorted(new_solution)\n",
    "\n",
    "    # Find the largest index l greater than k such that a[k] < a[l]\n",
    "    l = n - 1\n",
    "    while new_solution[k] >= new_solution[l]:\n",
    "        l -= 1\n",
    "\n",
    "    # Swap a[k] and a[l]\n",
    "    new_solution[k], new_solution[l] = new_solution[l], new_solution[k]\n",
    "\n",
    "    # Reverse the sequence from a[k+1] up to and including the final element a[n-1]\n",
    "    new_solution[k + 1:] = reversed(new_solution[k + 1:])\n",
    "\n",
    "    return new_solution\n"
   ]
  },
  {
   "cell_type": "code",
   "execution_count": 237,
   "metadata": {},
   "outputs": [],
   "source": [
    "def make_change_scramble(graph, solution):\n",
    "    new_solution = deepcopy(solution)\n",
    "    \n",
    "    start, end = sorted(random.sample(range(len(solution)), 2))\n",
    "\n",
    "    subset = solution[start:end+1]\n",
    "\n",
    "    random.shuffle(subset)\n",
    "\n",
    "    new_solution[start:end+1] = subset\n",
    "\n",
    "    return new_solution"
   ]
  },
  {
   "cell_type": "code",
   "execution_count": 238,
   "metadata": {},
   "outputs": [],
   "source": [
    "def local_search(graph, random_solution, value, num_iters, change_func):\n",
    "    solution = deepcopy(random_solution)\n",
    "    best_solution = deepcopy(solution)\n",
    "    best_value = value\n",
    "    best_i = None\n",
    "\n",
    "    for i in range(num_iters):\n",
    "        #print(solution, value, i)\n",
    "        new_solution = change_func(graph, solution)\n",
    "        new_value = dg.calculate_total_edge_length(graph, new_solution)\n",
    "\n",
    "        if new_value < value:\n",
    "            value = new_value\n",
    "            solution = deepcopy(new_solution)\n",
    "\n",
    "            if new_value < best_value:\n",
    "                best_i = i\n",
    "                best_value = new_value\n",
    "                best_solution = deepcopy(new_solution)\n",
    "\n",
    "    return best_solution, best_value, best_i"
   ]
  },
  {
   "cell_type": "code",
   "execution_count": 239,
   "metadata": {},
   "outputs": [
    {
     "data": {
      "text/plain": [
       "([2, 1, 16, 13, 17, 8, 7, 6, 4, 11, 12, 9, 14, 18, 3, 10, 19, 5, 0, 15],\n",
       " 429,\n",
       " 499)"
      ]
     },
     "execution_count": 239,
     "metadata": {},
     "output_type": "execute_result"
    }
   ],
   "source": [
    "local_search(graph, random_solution, total_edge_length, 500, change_func=make_change_swap)"
   ]
  },
  {
   "cell_type": "code",
   "execution_count": 240,
   "metadata": {},
   "outputs": [
    {
     "data": {
      "text/plain": [
       "([8, 1, 2, 16, 11, 13, 18, 4, 6, 17, 12, 9, 14, 7, 5, 3, 19, 0, 10, 15],\n",
       " 417,\n",
       " 493)"
      ]
     },
     "execution_count": 240,
     "metadata": {},
     "output_type": "execute_result"
    }
   ],
   "source": [
    "local_search(graph, random_solution, total_edge_length, 500, change_func=make_change_inverse)"
   ]
  },
  {
   "cell_type": "code",
   "execution_count": 241,
   "metadata": {},
   "outputs": [
    {
     "data": {
      "text/plain": [
       "([13, 16, 17, 7, 4, 12, 3, 6, 14, 10, 9, 2, 0, 5, 19, 18, 11, 1, 8, 15],\n",
       " 431,\n",
       " 439)"
      ]
     },
     "execution_count": 241,
     "metadata": {},
     "output_type": "execute_result"
    }
   ],
   "source": [
    "local_search(graph, random_solution, total_edge_length, 500, change_func=make_change_scramble)"
   ]
  },
  {
   "cell_type": "code",
   "execution_count": 242,
   "metadata": {},
   "outputs": [],
   "source": [
    "def local_search_with_permutation(graph, random_solution, value, num_iters, change_func):\n",
    "    solution = deepcopy(random_solution)\n",
    "    best_solution = deepcopy(solution)\n",
    "    best_value = value\n",
    "    best_i = None\n",
    "\n",
    "    for i in range(num_iters):\n",
    "        #print(solution, value, i)\n",
    "        new_solution = change_func(graph, solution)\n",
    "        new_value = dg.calculate_total_edge_length(graph, new_solution)\n",
    "\n",
    "        if new_value < value:\n",
    "            value = new_value\n",
    "            solution = deepcopy(new_solution)\n",
    "\n",
    "            if new_value < best_value:\n",
    "                best_i = i\n",
    "                best_value = new_value\n",
    "                best_solution = deepcopy(new_solution)\n",
    "\n",
    "        else:\n",
    "            perm_counter = 0\n",
    "            perm_limit = num_iters / (i+1)\n",
    "            while new_value >= value and perm_counter < perm_limit:    \n",
    "                new_solution = make_change_next_permutation(graph, new_solution)\n",
    "                new_value = dg.calculate_total_edge_length(graph, new_solution)\n",
    "                perm_counter += 1\n",
    "\n",
    "            if new_value < value:\n",
    "                value = new_value\n",
    "                solution = deepcopy(new_solution)\n",
    "\n",
    "                if new_value < best_value:\n",
    "                    best_i = i\n",
    "                    best_value = new_value\n",
    "                    best_solution = deepcopy(new_solution)\n",
    "              \n",
    "\n",
    "    return best_solution, best_value, best_i"
   ]
  },
  {
   "cell_type": "code",
   "execution_count": 243,
   "metadata": {},
   "outputs": [
    {
     "data": {
      "text/plain": [
       "([15, 10, 0, 19, 14, 5, 2, 3, 18, 12, 9, 4, 7, 17, 6, 16, 13, 11, 1, 8],\n",
       " 418,\n",
       " 334)"
      ]
     },
     "execution_count": 243,
     "metadata": {},
     "output_type": "execute_result"
    }
   ],
   "source": [
    "local_search_with_permutation(graph, random_solution, total_edge_length, 500, change_func=make_change_inverse)"
   ]
  },
  {
   "cell_type": "code",
   "execution_count": 244,
   "metadata": {},
   "outputs": [
    {
     "data": {
      "text/plain": [
       "([1, 16, 2, 8, 13, 17, 11, 6, 9, 7, 4, 14, 12, 18, 3, 5, 19, 0, 10, 15],\n",
       " 421,\n",
       " 426)"
      ]
     },
     "execution_count": 244,
     "metadata": {},
     "output_type": "execute_result"
    }
   ],
   "source": [
    "local_search_with_permutation(graph, random_solution, total_edge_length, 500, change_func=make_change_swap)"
   ]
  },
  {
   "cell_type": "code",
   "execution_count": 245,
   "metadata": {},
   "outputs": [
    {
     "data": {
      "text/plain": [
       "([8, 1, 2, 16, 11, 18, 9, 19, 5, 14, 12, 17, 3, 6, 0, 4, 10, 13, 7, 15],\n",
       " 410,\n",
       " 474)"
      ]
     },
     "execution_count": 245,
     "metadata": {},
     "output_type": "execute_result"
    }
   ],
   "source": [
    "local_search_with_permutation(graph, random_solution, total_edge_length, 500, change_func=make_change_scramble)"
   ]
  },
  {
   "cell_type": "code",
   "execution_count": 246,
   "metadata": {},
   "outputs": [],
   "source": [
    "def simulated_annealing(graph, random_solution, value, num_iters, change_func):\n",
    "    solution = deepcopy(random_solution)\n",
    "    best_solution = deepcopy(solution)\n",
    "    best_value = value\n",
    "    best_i = None\n",
    "\n",
    "    for i in range(1, num_iters + 1):\n",
    "        #print(solution, value)\n",
    "        new_solution = change_func(graph, solution)\n",
    "        new_value = dg.calculate_total_edge_length(graph, new_solution)\n",
    "\n",
    "        if new_value < value:\n",
    "            value = new_value\n",
    "            solution = deepcopy(new_solution)\n",
    "\n",
    "            if new_value < best_value:\n",
    "                best_i = i\n",
    "                best_value = new_value\n",
    "                best_solution = deepcopy(new_solution)\n",
    "\n",
    "        #elif random.random() < 1 / (i**0.5):\n",
    "        elif random.random() < 1 / i:\n",
    "            #print('divs')\n",
    "            value = new_value\n",
    "            solution = deepcopy(new_solution)\n",
    "\n",
    "    return best_solution, best_value, best_i"
   ]
  },
  {
   "cell_type": "code",
   "execution_count": 247,
   "metadata": {},
   "outputs": [
    {
     "data": {
      "text/plain": [
       "([8, 1, 2, 11, 18, 19, 5, 14, 9, 0, 12, 3, 6, 17, 16, 4, 7, 13, 10, 15],\n",
       " 411,\n",
       " 176)"
      ]
     },
     "execution_count": 247,
     "metadata": {},
     "output_type": "execute_result"
    }
   ],
   "source": [
    "simulated_annealing(graph, random_solution, total_edge_length, 500, change_func=make_change_swap)"
   ]
  },
  {
   "cell_type": "code",
   "execution_count": 248,
   "metadata": {},
   "outputs": [
    {
     "data": {
      "text/plain": [
       "([15, 13, 7, 16, 17, 4, 10, 3, 12, 14, 6, 9, 5, 19, 11, 0, 18, 2, 1, 8],\n",
       " 419,\n",
       " 415)"
      ]
     },
     "execution_count": 248,
     "metadata": {},
     "output_type": "execute_result"
    }
   ],
   "source": [
    "simulated_annealing(graph, random_solution, total_edge_length, 500, change_func=make_change_inverse)"
   ]
  },
  {
   "cell_type": "code",
   "execution_count": 249,
   "metadata": {},
   "outputs": [
    {
     "data": {
      "text/plain": [
       "([1, 8, 15, 11, 13, 7, 6, 4, 17, 9, 2, 16, 12, 18, 3, 14, 0, 10, 19, 5],\n",
       " 432,\n",
       " 498)"
      ]
     },
     "execution_count": 249,
     "metadata": {},
     "output_type": "execute_result"
    }
   ],
   "source": [
    "simulated_annealing(graph, random_solution, total_edge_length, 500, change_func=make_change_scramble)"
   ]
  },
  {
   "cell_type": "code",
   "execution_count": 250,
   "metadata": {},
   "outputs": [],
   "source": [
    "def shaking_swap(graph, solution, k):\n",
    "    new_solution = deepcopy(solution)\n",
    "    selected = random.sample(range(len(solution)), 2*k)\n",
    "    for i in range(0,len(selected), 2):\n",
    "        index1, index2 = selected[i], selected[i+1]\n",
    "        new_solution[index1], new_solution[index2] = new_solution[index2], new_solution[index1]\n",
    "    return new_solution    \n",
    "    "
   ]
  },
  {
   "cell_type": "code",
   "execution_count": 251,
   "metadata": {},
   "outputs": [],
   "source": [
    "def shaking_inverse(graph, solution, k):\n",
    "    new_solution = deepcopy(solution)\n",
    "    index1 = random.randint(0, len(solution))\n",
    "    if(index1 + k > len(solution)):\n",
    "        index1 = len(solution) - k\n",
    "    index2 = index1 + k                       \n",
    "    new_solution[index1:index2+1] = reversed(new_solution[index1:index2+1])  \n",
    "\n",
    "    return new_solution"
   ]
  },
  {
   "cell_type": "code",
   "execution_count": 252,
   "metadata": {},
   "outputs": [],
   "source": [
    "def vns(graph, random_solution, value, num_iters, change_func, shaking_func, local_search_func, k_min, k_max, move_prob):\n",
    "    solution = deepcopy(random_solution)\n",
    "    best_i = None\n",
    "    for i in range(num_iters):\n",
    "        for k in range(k_min, k_max):\n",
    "            #print('vns: ', solution, value, i)\n",
    "            new_solution = shaking_func(graph, solution, k) #diversification  \n",
    "\n",
    "            new_value = dg.calculate_total_edge_length(graph, new_solution)\n",
    "\n",
    "            #print('post shaking: ', new_solution, new_value, i)\n",
    "            new_solution, new_value, _= local_search_func(graph, new_solution, total_edge_length, 10, change_func)\n",
    "\n",
    "            if new_value < value or (new_value == value and random.random() < move_prob):\n",
    "                if(new_value < value):\n",
    "                    best_i = i\n",
    "\n",
    "                value = new_value\n",
    "\n",
    "                solution = deepcopy(new_solution)\n",
    "                \n",
    "    return solution, value, best_i"
   ]
  },
  {
   "cell_type": "code",
   "execution_count": 253,
   "metadata": {},
   "outputs": [
    {
     "data": {
      "text/plain": [
       "([8, 1, 11, 2, 18, 19, 5, 9, 14, 16, 12, 3, 6, 17, 4, 0, 10, 13, 7, 15],\n",
       " 409,\n",
       " 350)"
      ]
     },
     "execution_count": 253,
     "metadata": {},
     "output_type": "execute_result"
    }
   ],
   "source": [
    "vns(graph, random_solution, total_edge_length, 500, change_func=make_change_inverse, shaking_func=shaking_swap, local_search_func = local_search, k_min=1, k_max=3, move_prob=0.4)"
   ]
  },
  {
   "cell_type": "code",
   "execution_count": 254,
   "metadata": {},
   "outputs": [
    {
     "data": {
      "text/plain": [
       "([15, 10, 0, 19, 5, 3, 14, 18, 12, 6, 9, 7, 17, 4, 13, 11, 16, 2, 8, 1],\n",
       " 412,\n",
       " 452)"
      ]
     },
     "execution_count": 254,
     "metadata": {},
     "output_type": "execute_result"
    }
   ],
   "source": [
    "vns(graph, random_solution, total_edge_length, 500, change_func=make_change_inverse, shaking_func=shaking_inverse, local_search_func = local_search, k_min=3, k_max=6, move_prob=0.4)"
   ]
  },
  {
   "cell_type": "code",
   "execution_count": 255,
   "metadata": {},
   "outputs": [
    {
     "data": {
      "text/plain": [
       "([15, 13, 7, 10, 0, 4, 6, 17, 3, 16, 12, 14, 9, 19, 5, 11, 18, 2, 8, 1],\n",
       " 410,\n",
       " 240)"
      ]
     },
     "execution_count": 255,
     "metadata": {},
     "output_type": "execute_result"
    }
   ],
   "source": [
    "vns(graph, random_solution, total_edge_length, 500, change_func=make_change_swap, shaking_func=shaking_swap, local_search_func = local_search, k_min=1, k_max=3, move_prob=0.4)"
   ]
  },
  {
   "cell_type": "code",
   "execution_count": 256,
   "metadata": {},
   "outputs": [
    {
     "data": {
      "text/plain": [
       "([1, 8, 2, 11, 18, 14, 19, 9, 5, 12, 17, 16, 6, 3, 7, 4, 13, 0, 10, 15],\n",
       " 415,\n",
       " 176)"
      ]
     },
     "execution_count": 256,
     "metadata": {},
     "output_type": "execute_result"
    }
   ],
   "source": [
    "vns(graph, random_solution, total_edge_length, 500, change_func=make_change_swap, shaking_func=shaking_inverse, local_search_func = local_search, k_min=3, k_max=6, move_prob=0.4)"
   ]
  },
  {
   "cell_type": "code",
   "execution_count": 257,
   "metadata": {},
   "outputs": [
    {
     "data": {
      "text/plain": [
       "([15, 0, 10, 19, 5, 3, 14, 12, 18, 7, 4, 6, 9, 17, 13, 2, 16, 11, 1, 8],\n",
       " 411,\n",
       " 355)"
      ]
     },
     "execution_count": 257,
     "metadata": {},
     "output_type": "execute_result"
    }
   ],
   "source": [
    "vns(graph, random_solution, total_edge_length, 500, change_func=make_change_scramble, shaking_func=shaking_swap, local_search_func = local_search, k_min=1, k_max=3, move_prob=0.4)"
   ]
  },
  {
   "cell_type": "code",
   "execution_count": 258,
   "metadata": {},
   "outputs": [
    {
     "data": {
      "text/plain": [
       "([8, 1, 11, 13, 16, 6, 4, 17, 9, 7, 12, 2, 18, 14, 3, 5, 19, 0, 10, 15],\n",
       " 411,\n",
       " 423)"
      ]
     },
     "execution_count": 258,
     "metadata": {},
     "output_type": "execute_result"
    }
   ],
   "source": [
    "vns(graph, random_solution, total_edge_length, 500, change_func=make_change_scramble, shaking_func=shaking_inverse, local_search_func = local_search, k_min=3, k_max=6, move_prob=0.4)"
   ]
  },
  {
   "cell_type": "code",
   "execution_count": 259,
   "metadata": {},
   "outputs": [
    {
     "data": {
      "text/plain": [
       "([15, 7, 13, 10, 4, 0, 3, 6, 17, 16, 12, 14, 9, 19, 2, 5, 18, 11, 1, 8],\n",
       " 409,\n",
       " 290)"
      ]
     },
     "execution_count": 259,
     "metadata": {},
     "output_type": "execute_result"
    }
   ],
   "source": [
    "vns(graph, random_solution, total_edge_length, 500, change_func=make_change_swap, shaking_func=shaking_swap, local_search_func = local_search_with_permutation, k_min=1, k_max=3, move_prob=0.4)"
   ]
  },
  {
   "cell_type": "code",
   "execution_count": 260,
   "metadata": {},
   "outputs": [
    {
     "data": {
      "text/plain": [
       "([13, 7, 16, 17, 12, 3, 4, 6, 10, 14, 9, 19, 5, 0, 11, 18, 2, 1, 8, 15],\n",
       " 430,\n",
       " 217)"
      ]
     },
     "execution_count": 260,
     "metadata": {},
     "output_type": "execute_result"
    }
   ],
   "source": [
    "vns(graph, random_solution, total_edge_length, 500, change_func=make_change_swap, shaking_func=shaking_inverse, local_search_func = local_search_with_permutation, k_min=3, k_max=6, move_prob=0.4)"
   ]
  },
  {
   "cell_type": "code",
   "execution_count": 261,
   "metadata": {},
   "outputs": [
    {
     "data": {
      "text/plain": [
       "([8, 1, 11, 2, 18, 16, 9, 17, 12, 6, 4, 7, 13, 14, 3, 5, 19, 0, 10, 15],\n",
       " 414,\n",
       " 146)"
      ]
     },
     "execution_count": 261,
     "metadata": {},
     "output_type": "execute_result"
    }
   ],
   "source": [
    "vns(graph, random_solution, total_edge_length, 500, change_func=make_change_inverse, shaking_func=shaking_swap, local_search_func = local_search_with_permutation, k_min=1, k_max=3, move_prob=0.4)"
   ]
  },
  {
   "cell_type": "code",
   "execution_count": 262,
   "metadata": {},
   "outputs": [
    {
     "data": {
      "text/plain": [
       "([15, 10, 0, 19, 5, 3, 14, 12, 7, 13, 6, 17, 4, 9, 18, 11, 16, 2, 1, 8],\n",
       " 409,\n",
       " 460)"
      ]
     },
     "execution_count": 262,
     "metadata": {},
     "output_type": "execute_result"
    }
   ],
   "source": [
    "vns(graph, random_solution, total_edge_length, 500, change_func=make_change_inverse, shaking_func=shaking_inverse, local_search_func = local_search_with_permutation, k_min=3, k_max=6, move_prob=0.4)"
   ]
  },
  {
   "cell_type": "code",
   "execution_count": 263,
   "metadata": {},
   "outputs": [
    {
     "data": {
      "text/plain": [
       "([15, 5, 0, 10, 19, 3, 14, 12, 18, 11, 9, 6, 4, 7, 17, 13, 2, 16, 1, 8],\n",
       " 417,\n",
       " 460)"
      ]
     },
     "execution_count": 263,
     "metadata": {},
     "output_type": "execute_result"
    }
   ],
   "source": [
    "vns(graph, random_solution, total_edge_length, 500, change_func=make_change_scramble, shaking_func=shaking_swap, local_search_func = local_search_with_permutation, k_min=1, k_max=3, move_prob=0.4)"
   ]
  },
  {
   "cell_type": "code",
   "execution_count": 264,
   "metadata": {},
   "outputs": [
    {
     "data": {
      "text/plain": [
       "([15, 7, 13, 10, 0, 4, 6, 3, 17, 16, 12, 5, 14, 9, 19, 2, 18, 11, 1, 8],\n",
       " 407,\n",
       " 321)"
      ]
     },
     "execution_count": 264,
     "metadata": {},
     "output_type": "execute_result"
    }
   ],
   "source": [
    "vns(graph, random_solution, total_edge_length, 500, change_func=make_change_scramble, shaking_func=shaking_inverse, local_search_func = local_search_with_permutation, k_min=3, k_max=6, move_prob=0.4)"
   ]
  },
  {
   "cell_type": "code",
   "execution_count": null,
   "metadata": {},
   "outputs": [],
   "source": []
  }
 ],
 "metadata": {
  "kernelspec": {
   "display_name": "Python 3",
   "language": "python",
   "name": "python3"
  },
  "language_info": {
   "codemirror_mode": {
    "name": "ipython",
    "version": 3
   },
   "file_extension": ".py",
   "mimetype": "text/x-python",
   "name": "python",
   "nbconvert_exporter": "python",
   "pygments_lexer": "ipython3",
   "version": "3.10.11"
  }
 },
 "nbformat": 4,
 "nbformat_minor": 2
}
