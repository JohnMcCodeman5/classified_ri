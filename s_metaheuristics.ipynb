{
 "cells": [
  {
   "cell_type": "code",
   "execution_count": 1,
   "metadata": {},
   "outputs": [],
   "source": [
    "import random\n",
    "import numpy as np\n",
    "import pandas as pd\n",
    "from matplotlib import pyplot as plt\n",
    "from copy import deepcopy\n",
    "import data_generation as dg\n",
    "import time"
   ]
  },
  {
   "cell_type": "code",
   "execution_count": 533,
   "metadata": {},
   "outputs": [],
   "source": [
    "graph, random_solution, total_edge_length = dg.read_scientific_instance('data\\\\nug_30_5.txt')\n",
    "num_nodes = len(graph)"
   ]
  },
  {
   "cell_type": "code",
   "execution_count": 534,
   "metadata": {},
   "outputs": [],
   "source": [
    "sols = []\n",
    "values = []\n",
    "iters = []\n",
    "times = []"
   ]
  },
  {
   "cell_type": "markdown",
   "metadata": {},
   "source": [
    "<span style=\"font-size: larger;\">Classic local search</span>"
   ]
  },
  {
   "cell_type": "code",
   "execution_count": 535,
   "metadata": {},
   "outputs": [],
   "source": [
    "def make_change_swap(graph, solution):\n",
    "    new_solution = solution.copy()\n",
    "    \n",
    "    index1, index2 = random.sample(range(len(solution)), 2)\n",
    "    \n",
    "    new_solution[index1], new_solution[index2] = new_solution[index2], new_solution[index1]\n",
    "\n",
    "    return new_solution"
   ]
  },
  {
   "cell_type": "code",
   "execution_count": 536,
   "metadata": {},
   "outputs": [],
   "source": [
    "def make_change_inverse(graph, solution):\n",
    "    new_solution = solution.copy()\n",
    "    \n",
    "    index1, index2 = sorted(random.sample(range(len(solution)), 2))\n",
    "    \n",
    "    new_solution[index1:index2+1] = reversed(new_solution[index1:index2+1])\n",
    "\n",
    "    return new_solution"
   ]
  },
  {
   "cell_type": "code",
   "execution_count": 537,
   "metadata": {},
   "outputs": [],
   "source": [
    "def make_change_next_permutation(graph, solution):\n",
    "    #based on the classic next permutation algorithm\n",
    "    #we will be using this in a modified local search when regular methods get stuck in hopes of finding\n",
    "    #a better solution close to the current one\n",
    "    new_solution = deepcopy(solution)\n",
    "    \n",
    "    n = len(new_solution)\n",
    "    \n",
    "    k = n - 2\n",
    "    while k >= 0 and new_solution[k] >= new_solution[k + 1]:\n",
    "        k -= 1\n",
    "\n",
    "    if k == -1:\n",
    "        return sorted(new_solution)\n",
    "\n",
    "    l = n - 1\n",
    "    while new_solution[k] >= new_solution[l]:\n",
    "        l -= 1\n",
    "\n",
    "    new_solution[k], new_solution[l] = new_solution[l], new_solution[k]\n",
    "\n",
    "    new_solution[k + 1:] = reversed(new_solution[k + 1:])\n",
    "\n",
    "    return new_solution\n"
   ]
  },
  {
   "cell_type": "code",
   "execution_count": 538,
   "metadata": {},
   "outputs": [],
   "source": [
    "def make_change_scramble(graph, solution):\n",
    "    #another change function, as the name suggest, this one will scramble a section of the solution\n",
    "    #this wouldn't be the method we use if we only tested one version, but since there are plenty of change functions and combinations,\n",
    "    #this one might prove most useful in larger dimension\n",
    "    new_solution = deepcopy(solution)\n",
    "    \n",
    "    start, end = sorted(random.sample(range(len(solution)), 2))\n",
    "\n",
    "    subset = solution[start:end+1]\n",
    "\n",
    "    random.shuffle(subset)\n",
    "\n",
    "    new_solution[start:end+1] = subset\n",
    "\n",
    "    return new_solution"
   ]
  },
  {
   "cell_type": "code",
   "execution_count": 539,
   "metadata": {},
   "outputs": [],
   "source": [
    "def local_search(graph, random_solution, value, num_iters, change_func):\n",
    "    solution = deepcopy(random_solution)\n",
    "    best_solution = deepcopy(solution)\n",
    "    best_value = value\n",
    "    best_i = None\n",
    "\n",
    "    for i in range(num_iters):\n",
    "        #print(solution, value, i)\n",
    "        new_solution = change_func(graph, solution)\n",
    "        new_value = dg.calculate_total_edge_length(graph, new_solution)\n",
    "\n",
    "        if new_value < value:\n",
    "            value = new_value\n",
    "            solution = deepcopy(new_solution)\n",
    "\n",
    "            if new_value < best_value:\n",
    "                best_i = i\n",
    "                best_value = new_value\n",
    "                best_solution = deepcopy(new_solution)\n",
    "\n",
    "    return best_solution, best_value, best_i"
   ]
  },
  {
   "cell_type": "code",
   "execution_count": 540,
   "metadata": {},
   "outputs": [
    {
     "name": "stdout",
     "output_type": "stream",
     "text": [
      "[5, 25, 1, 6, 27, 17, 29, 10, 22, 18, 13, 8, 20, 3, 19, 15, 14, 9, 21, 16, 7, 28, 11, 24, 2, 26, 12, 23, 0, 4] 3435 455\n"
     ]
    }
   ],
   "source": [
    "start = time.time()\n",
    "solution, value, iter = local_search(graph, random_solution, total_edge_length, 500, change_func=make_change_swap)\n",
    "end = time.time()\n",
    "duration = float(\"{:.2f}\".format(end - start))\n",
    "print(solution, value, iter)\n",
    "sols.append(solution)\n",
    "values.append(value)\n",
    "iters.append(iter)\n",
    "times.append(duration)"
   ]
  },
  {
   "cell_type": "code",
   "execution_count": 541,
   "metadata": {},
   "outputs": [
    {
     "name": "stdout",
     "output_type": "stream",
     "text": [
      "[25, 17, 29, 6, 27, 1, 3, 18, 10, 13, 22, 20, 5, 24, 28, 8, 15, 9, 21, 14, 7, 19, 0, 16, 2, 23, 11, 12, 26, 4] 3462 499\n"
     ]
    }
   ],
   "source": [
    "start = time.time()\n",
    "solution, value, iter = local_search(graph, random_solution, total_edge_length, 500, change_func=make_change_inverse)\n",
    "end = time.time()\n",
    "duration = float(\"{:.2f}\".format(end - start))\n",
    "print(solution, value, iter)\n",
    "sols.append(solution)\n",
    "values.append(value)\n",
    "iters.append(iter)\n",
    "times.append(duration)"
   ]
  },
  {
   "cell_type": "code",
   "execution_count": 542,
   "metadata": {},
   "outputs": [
    {
     "name": "stdout",
     "output_type": "stream",
     "text": [
      "[23, 12, 0, 2, 11, 24, 28, 26, 4, 7, 16, 19, 9, 14, 1, 21, 15, 29, 8, 20, 10, 18, 13, 5, 22, 27, 3, 6, 17, 25] 3443 492\n"
     ]
    }
   ],
   "source": [
    "start = time.time()\n",
    "solution, value, iter = local_search(graph, random_solution, total_edge_length, 500, change_func=make_change_scramble)\n",
    "end = time.time()\n",
    "duration = float(\"{:.2f}\".format(end - start))\n",
    "print(solution, value, iter)\n",
    "sols.append(solution)\n",
    "values.append(value)\n",
    "iters.append(iter)\n",
    "times.append(duration)"
   ]
  },
  {
   "cell_type": "code",
   "execution_count": 543,
   "metadata": {},
   "outputs": [
    {
     "data": {
      "text/html": [
       "<div>\n",
       "<style scoped>\n",
       "    .dataframe tbody tr th:only-of-type {\n",
       "        vertical-align: middle;\n",
       "    }\n",
       "\n",
       "    .dataframe tbody tr th {\n",
       "        vertical-align: top;\n",
       "    }\n",
       "\n",
       "    .dataframe thead th {\n",
       "        text-align: right;\n",
       "    }\n",
       "</style>\n",
       "<table border=\"1\" class=\"dataframe\">\n",
       "  <thead>\n",
       "    <tr style=\"text-align: right;\">\n",
       "      <th></th>\n",
       "      <th>Dim</th>\n",
       "      <th>Method</th>\n",
       "      <th>Value</th>\n",
       "      <th>Time</th>\n",
       "    </tr>\n",
       "  </thead>\n",
       "  <tbody>\n",
       "    <tr>\n",
       "      <th>0</th>\n",
       "      <td>30</td>\n",
       "      <td>make_change_swap</td>\n",
       "      <td>3435</td>\n",
       "      <td>0.10</td>\n",
       "    </tr>\n",
       "    <tr>\n",
       "      <th>1</th>\n",
       "      <td>30</td>\n",
       "      <td>make_change_inverse</td>\n",
       "      <td>3462</td>\n",
       "      <td>0.10</td>\n",
       "    </tr>\n",
       "    <tr>\n",
       "      <th>2</th>\n",
       "      <td>30</td>\n",
       "      <td>make_change_scramble</td>\n",
       "      <td>3443</td>\n",
       "      <td>0.11</td>\n",
       "    </tr>\n",
       "  </tbody>\n",
       "</table>\n",
       "</div>"
      ],
      "text/plain": [
       "   Dim                Method  Value  Time\n",
       "0   30      make_change_swap   3435  0.10\n",
       "1   30   make_change_inverse   3462  0.10\n",
       "2   30  make_change_scramble   3443  0.11"
      ]
     },
     "metadata": {},
     "output_type": "display_data"
    }
   ],
   "source": [
    "#generating comparison table\n",
    "from IPython.display import display\n",
    "import pandas as pd\n",
    "dim = num_nodes\n",
    "\n",
    "results = []\n",
    "\n",
    "best = float('inf')\n",
    "best_i = -1\n",
    "\n",
    "average = [0,0,0]\n",
    "\n",
    "number_of_combinations = 0\n",
    "\n",
    "solution_generation = [make_change_swap, make_change_inverse, make_change_scramble]\n",
    "for i, sg in enumerate(solution_generation):\n",
    "    method = sg.__name__\n",
    "    results.append({'Dim': dim, 'Method': method, 'Value': values[i], 'Time': times[i], 'Best_Iter': iters[i]})\n",
    "\n",
    "    if values[i] == best:\n",
    "        if times[i] <= times[best_i]:\n",
    "            best = values[i]\n",
    "            best_i = i\n",
    "\n",
    "    if values[i] < best:\n",
    "        best = values[i]\n",
    "        best_i = i\n",
    "\n",
    "    average[0] += values[i]\n",
    "    average[1] += times[i] \n",
    "    average[2] += iters[i]\n",
    "\n",
    "    number_of_combinations += 1\n",
    "\n",
    "df = pd.DataFrame(results)\n",
    "#display(df)\n",
    "display(df.drop('Best_Iter', axis=1)) "
   ]
  },
  {
   "cell_type": "code",
   "execution_count": 544,
   "metadata": {},
   "outputs": [
    {
     "name": "stdout",
     "output_type": "stream",
     "text": [
      "best: make_change_swap 3435 0.1 455\n"
     ]
    },
    {
     "data": {
      "text/html": [
       "<div>\n",
       "<style scoped>\n",
       "    .dataframe tbody tr th:only-of-type {\n",
       "        vertical-align: middle;\n",
       "    }\n",
       "\n",
       "    .dataframe tbody tr th {\n",
       "        vertical-align: top;\n",
       "    }\n",
       "\n",
       "    .dataframe thead th {\n",
       "        text-align: right;\n",
       "    }\n",
       "</style>\n",
       "<table border=\"1\" class=\"dataframe\">\n",
       "  <thead>\n",
       "    <tr style=\"text-align: right;\">\n",
       "      <th></th>\n",
       "      <th>Dim</th>\n",
       "      <th>Method</th>\n",
       "      <th>Value</th>\n",
       "      <th>Time</th>\n",
       "      <th>Best_Iter</th>\n",
       "    </tr>\n",
       "  </thead>\n",
       "  <tbody>\n",
       "    <tr>\n",
       "      <th>0</th>\n",
       "      <td>30</td>\n",
       "      <td>make_change_swap</td>\n",
       "      <td>3435</td>\n",
       "      <td>0.1</td>\n",
       "      <td>455</td>\n",
       "    </tr>\n",
       "  </tbody>\n",
       "</table>\n",
       "</div>"
      ],
      "text/plain": [
       "   Dim            Method  Value  Time  Best_Iter\n",
       "0   30  make_change_swap   3435   0.1        455"
      ]
     },
     "metadata": {},
     "output_type": "display_data"
    }
   ],
   "source": [
    "print('best:', solution_generation[best_i].__name__, values[best_i], times[best_i], iters[best_i])\n",
    "df_best = pd.DataFrame({'Dim': dim, 'Method':  solution_generation[best_i].__name__, 'Value': values[best_i], 'Time': times[best_i], 'Best_Iter': iters[best_i]}, index=[0])\n",
    "display(df_best)"
   ]
  },
  {
   "cell_type": "code",
   "execution_count": 545,
   "metadata": {},
   "outputs": [],
   "source": [
    "df = pd.read_csv('comparison_tables/bests.csv')\n",
    "row_to_update = df[df['Dim'] == num_nodes]\n",
    "\n",
    "#check if first write to the specified row\n",
    "if not row_to_update.empty:\n",
    "    #update specific columns in the located row\n",
    "    df.loc[row_to_update.index, 'local_search'] = values[best_i]\n",
    "    df.loc[row_to_update.index, 'local_search_time'] = times[best_i]\n",
    "\n",
    "    #save the updated DataFrame back to the CSV file\n",
    "    df.to_csv('comparison_tables/bests.csv', index=False)\n",
    "else:\n",
    "    new_row_data = {'Dim': num_nodes, 'local_search': values[best_i], 'local_search_time': times[best_i]}\n",
    "    df.loc[len(df)] = new_row_data\n",
    "    df.to_csv('comparison_tables/bests.csv', index=False)"
   ]
  },
  {
   "cell_type": "code",
   "execution_count": 546,
   "metadata": {},
   "outputs": [
    {
     "name": "stdout",
     "output_type": "stream",
     "text": [
      "average: [3446.67, 0.1, 482.0]\n"
     ]
    },
    {
     "data": {
      "text/html": [
       "<div>\n",
       "<style scoped>\n",
       "    .dataframe tbody tr th:only-of-type {\n",
       "        vertical-align: middle;\n",
       "    }\n",
       "\n",
       "    .dataframe tbody tr th {\n",
       "        vertical-align: top;\n",
       "    }\n",
       "\n",
       "    .dataframe thead th {\n",
       "        text-align: right;\n",
       "    }\n",
       "</style>\n",
       "<table border=\"1\" class=\"dataframe\">\n",
       "  <thead>\n",
       "    <tr style=\"text-align: right;\">\n",
       "      <th></th>\n",
       "      <th>Dim</th>\n",
       "      <th>Value</th>\n",
       "      <th>Time</th>\n",
       "      <th>Best_Iter</th>\n",
       "    </tr>\n",
       "  </thead>\n",
       "  <tbody>\n",
       "    <tr>\n",
       "      <th>0</th>\n",
       "      <td>30</td>\n",
       "      <td>3446.67</td>\n",
       "      <td>0.1</td>\n",
       "      <td>482.0</td>\n",
       "    </tr>\n",
       "  </tbody>\n",
       "</table>\n",
       "</div>"
      ],
      "text/plain": [
       "   Dim    Value  Time  Best_Iter\n",
       "0   30  3446.67   0.1      482.0"
      ]
     },
     "metadata": {},
     "output_type": "display_data"
    }
   ],
   "source": [
    "average = [average[0] / number_of_combinations, average[1] / number_of_combinations, average[2] / number_of_combinations]\n",
    "average = [round(num, 2) for num in average]\n",
    "print('average:', average)\n",
    "df_avg = pd.DataFrame({'Dim': dim, 'Value': average[0], 'Time': average[1], 'Best_Iter': average[2]}, index=[0])\n",
    "display(df_avg)"
   ]
  },
  {
   "cell_type": "code",
   "execution_count": 547,
   "metadata": {},
   "outputs": [],
   "source": [
    "df = pd.read_csv('comparison_tables/averages.csv')\n",
    "row_to_update = df[df['Dim'] == num_nodes]\n",
    "\n",
    "if not row_to_update.empty:\n",
    "    df.loc[row_to_update.index, 'local_search'] = average[0]\n",
    "    df.loc[row_to_update.index, 'local_search_time'] = average[1]\n",
    "\n",
    "\n",
    "    df.to_csv('comparison_tables/averages.csv', index=False)\n",
    "else:\n",
    "    df.loc[len(df)] = {'Dim': num_nodes, 'local_search': average[0], 'local_search_time': average[1]}\n",
    "    df.to_csv('comparison_tables/averages.csv', index=False)"
   ]
  },
  {
   "cell_type": "markdown",
   "metadata": {},
   "source": [
    "<span style=\"font-size: larger;\">Local search with next permutation help</span>"
   ]
  },
  {
   "cell_type": "code",
   "execution_count": 548,
   "metadata": {},
   "outputs": [],
   "source": [
    "sols = []\n",
    "values = []\n",
    "iters = []\n",
    "times = []\n",
    "\n",
    "def local_search_with_permutation(graph, random_solution, value, num_iters, change_func):\n",
    "    solution = deepcopy(random_solution)\n",
    "    best_solution = deepcopy(solution)\n",
    "    best_value = value\n",
    "    best_i = None\n",
    "\n",
    "    for i in range(num_iters):\n",
    "        #print(solution, value, i)\n",
    "        new_solution = change_func(graph, solution)\n",
    "        new_value = dg.calculate_total_edge_length(graph, new_solution)\n",
    "\n",
    "        if new_value < value:\n",
    "            value = new_value\n",
    "            solution = deepcopy(new_solution)\n",
    "\n",
    "            if new_value < best_value:\n",
    "                best_i = i\n",
    "                best_value = new_value\n",
    "                best_solution = deepcopy(new_solution)\n",
    "\n",
    "        else:\n",
    "            perm_counter = 0\n",
    "            perm_limit = num_iters / (i+1)\n",
    "            while new_value >= value and perm_counter < perm_limit:    \n",
    "                new_solution = make_change_next_permutation(graph, new_solution)\n",
    "                new_value = dg.calculate_total_edge_length(graph, new_solution)\n",
    "                perm_counter += 1\n",
    "\n",
    "            if new_value < value:\n",
    "                value = new_value\n",
    "                solution = deepcopy(new_solution)\n",
    "\n",
    "                if new_value < best_value:\n",
    "                    best_i = i\n",
    "                    best_value = new_value\n",
    "                    best_solution = deepcopy(new_solution)\n",
    "              \n",
    "\n",
    "    return best_solution, best_value, best_i"
   ]
  },
  {
   "cell_type": "code",
   "execution_count": 549,
   "metadata": {},
   "outputs": [
    {
     "name": "stdout",
     "output_type": "stream",
     "text": [
      "[23, 26, 0, 12, 28, 19, 24, 11, 7, 4, 9, 21, 2, 22, 16, 29, 14, 10, 15, 8, 20, 3, 5, 13, 1, 6, 17, 18, 25, 27] 3466 496\n"
     ]
    }
   ],
   "source": [
    "start = time.time()\n",
    "solution, value, iter = local_search_with_permutation(graph, random_solution, total_edge_length, 500, change_func=make_change_inverse)\n",
    "end = time.time()\n",
    "duration = float(\"{:.2f}\".format(end - start))\n",
    "print(solution, value, iter)\n",
    "sols.append(solution)\n",
    "values.append(value)\n",
    "iters.append(iter)\n",
    "times.append(duration)"
   ]
  },
  {
   "cell_type": "code",
   "execution_count": 550,
   "metadata": {},
   "outputs": [
    {
     "name": "stdout",
     "output_type": "stream",
     "text": [
      "[27, 29, 1, 18, 3, 25, 17, 6, 5, 22, 13, 20, 8, 15, 10, 14, 21, 9, 7, 19, 11, 23, 16, 2, 12, 28, 24, 0, 4, 26] 3422 473\n"
     ]
    }
   ],
   "source": [
    "start = time.time()\n",
    "solution, value, iter = local_search_with_permutation(graph, random_solution, total_edge_length, 500, change_func=make_change_swap)\n",
    "end = time.time()\n",
    "duration = float(\"{:.2f}\".format(end - start))\n",
    "print(solution, value, iter)\n",
    "sols.append(solution)\n",
    "values.append(value)\n",
    "iters.append(iter)\n",
    "times.append(duration)"
   ]
  },
  {
   "cell_type": "code",
   "execution_count": 551,
   "metadata": {},
   "outputs": [
    {
     "name": "stdout",
     "output_type": "stream",
     "text": [
      "[24, 6, 17, 27, 18, 25, 10, 5, 13, 20, 29, 22, 8, 26, 21, 14, 3, 16, 1, 9, 0, 19, 28, 15, 11, 7, 23, 12, 2, 4] 3528 480\n"
     ]
    }
   ],
   "source": [
    "start = time.time()\n",
    "solution, value, iter = local_search_with_permutation(graph, random_solution, total_edge_length, 500, change_func=make_change_scramble)\n",
    "end = time.time()\n",
    "duration = float(\"{:.2f}\".format(end - start))\n",
    "print(solution, value, iter)\n",
    "sols.append(solution)\n",
    "values.append(value)\n",
    "iters.append(iter)\n",
    "times.append(duration)"
   ]
  },
  {
   "cell_type": "code",
   "execution_count": 552,
   "metadata": {},
   "outputs": [
    {
     "data": {
      "text/html": [
       "<div>\n",
       "<style scoped>\n",
       "    .dataframe tbody tr th:only-of-type {\n",
       "        vertical-align: middle;\n",
       "    }\n",
       "\n",
       "    .dataframe tbody tr th {\n",
       "        vertical-align: top;\n",
       "    }\n",
       "\n",
       "    .dataframe thead th {\n",
       "        text-align: right;\n",
       "    }\n",
       "</style>\n",
       "<table border=\"1\" class=\"dataframe\">\n",
       "  <thead>\n",
       "    <tr style=\"text-align: right;\">\n",
       "      <th></th>\n",
       "      <th>Dim</th>\n",
       "      <th>Method</th>\n",
       "      <th>Value</th>\n",
       "      <th>Time</th>\n",
       "    </tr>\n",
       "  </thead>\n",
       "  <tbody>\n",
       "    <tr>\n",
       "      <th>0</th>\n",
       "      <td>30</td>\n",
       "      <td>make_change_swap_with_permutation</td>\n",
       "      <td>3466</td>\n",
       "      <td>0.56</td>\n",
       "    </tr>\n",
       "    <tr>\n",
       "      <th>1</th>\n",
       "      <td>30</td>\n",
       "      <td>make_change_inverse_with_permutation</td>\n",
       "      <td>3422</td>\n",
       "      <td>0.55</td>\n",
       "    </tr>\n",
       "    <tr>\n",
       "      <th>2</th>\n",
       "      <td>30</td>\n",
       "      <td>make_change_scramble_with_permutation</td>\n",
       "      <td>3528</td>\n",
       "      <td>0.61</td>\n",
       "    </tr>\n",
       "  </tbody>\n",
       "</table>\n",
       "</div>"
      ],
      "text/plain": [
       "   Dim                                 Method  Value  Time\n",
       "0   30      make_change_swap_with_permutation   3466  0.56\n",
       "1   30   make_change_inverse_with_permutation   3422  0.55\n",
       "2   30  make_change_scramble_with_permutation   3528  0.61"
      ]
     },
     "metadata": {},
     "output_type": "display_data"
    }
   ],
   "source": [
    "#generating comparison table\n",
    "from IPython.display import display\n",
    "import pandas as pd\n",
    "dim = num_nodes\n",
    "\n",
    "results = []\n",
    "\n",
    "best = float('inf')\n",
    "best_i = -1\n",
    "\n",
    "average = [0,0,0]\n",
    "\n",
    "number_of_combinations = 0\n",
    "\n",
    "solution_generation = [make_change_swap, make_change_inverse, make_change_scramble]\n",
    "for i, sg in enumerate(solution_generation):\n",
    "    method = sg.__name__ + '_with_permutation'\n",
    "    results.append({'Dim': dim, 'Method': method, 'Value': values[i], 'Time': times[i], 'Best_Iter': iters[i]})\n",
    "\n",
    "    if values[i] == best:\n",
    "        if times[i] <= times[best_i]:\n",
    "            best = values[i]\n",
    "            best_i = i\n",
    "\n",
    "    if values[i] < best:\n",
    "        best = values[i]\n",
    "        best_i = i    \n",
    "\n",
    "    average[0] += values[i]\n",
    "    average[1] += times[i] \n",
    "    average[2] += iters[i]\n",
    "\n",
    "    number_of_combinations += 1\n",
    "\n",
    "df = pd.DataFrame(results)\n",
    "#display(df)\n",
    "display(df.drop('Best_Iter', axis=1)) "
   ]
  },
  {
   "cell_type": "code",
   "execution_count": 553,
   "metadata": {},
   "outputs": [
    {
     "name": "stdout",
     "output_type": "stream",
     "text": [
      "best: make_change_inverse 3422 0.55 473\n"
     ]
    },
    {
     "data": {
      "text/html": [
       "<div>\n",
       "<style scoped>\n",
       "    .dataframe tbody tr th:only-of-type {\n",
       "        vertical-align: middle;\n",
       "    }\n",
       "\n",
       "    .dataframe tbody tr th {\n",
       "        vertical-align: top;\n",
       "    }\n",
       "\n",
       "    .dataframe thead th {\n",
       "        text-align: right;\n",
       "    }\n",
       "</style>\n",
       "<table border=\"1\" class=\"dataframe\">\n",
       "  <thead>\n",
       "    <tr style=\"text-align: right;\">\n",
       "      <th></th>\n",
       "      <th>Dim</th>\n",
       "      <th>Method</th>\n",
       "      <th>Value</th>\n",
       "      <th>Time</th>\n",
       "      <th>Best_Iter</th>\n",
       "    </tr>\n",
       "  </thead>\n",
       "  <tbody>\n",
       "    <tr>\n",
       "      <th>0</th>\n",
       "      <td>30</td>\n",
       "      <td>make_change_inverse_with_permutation</td>\n",
       "      <td>3422</td>\n",
       "      <td>0.55</td>\n",
       "      <td>473</td>\n",
       "    </tr>\n",
       "  </tbody>\n",
       "</table>\n",
       "</div>"
      ],
      "text/plain": [
       "   Dim                                Method  Value  Time  Best_Iter\n",
       "0   30  make_change_inverse_with_permutation   3422  0.55        473"
      ]
     },
     "metadata": {},
     "output_type": "display_data"
    }
   ],
   "source": [
    "print('best:', solution_generation[best_i].__name__, values[best_i], times[best_i], iters[best_i])\n",
    "df_best = pd.DataFrame({'Dim': dim, 'Method':  solution_generation[best_i].__name__ + '_with_permutation', 'Value': values[best_i], 'Time': times[best_i], 'Best_Iter': iters[best_i]}, index=[0])\n",
    "display(df_best)"
   ]
  },
  {
   "cell_type": "code",
   "execution_count": 554,
   "metadata": {},
   "outputs": [],
   "source": [
    "df = pd.read_csv('comparison_tables/bests.csv')\n",
    "row_to_update = df[df['Dim'] == num_nodes]\n",
    "\n",
    "if not row_to_update.empty:\n",
    "    df.loc[row_to_update.index, 'local_search_perm'] = values[best_i]\n",
    "    df.loc[row_to_update.index, 'local_search_perm_time'] = times[best_i]\n",
    "\n",
    "    df.to_csv('comparison_tables/bests.csv', index=False)\n",
    "else:\n",
    "    new_row_data = {'Dim': num_nodes, 'local_search_perm': values[best_i], 'local_search_perm_time': times[best_i]}\n",
    "    df.loc[len(df)] = new_row_data\n",
    "    df.to_csv('comparison_tables/bests.csv', index=False)"
   ]
  },
  {
   "cell_type": "code",
   "execution_count": 555,
   "metadata": {},
   "outputs": [
    {
     "name": "stdout",
     "output_type": "stream",
     "text": [
      "average: [3472.0, 0.57, 483.0]\n"
     ]
    },
    {
     "data": {
      "text/html": [
       "<div>\n",
       "<style scoped>\n",
       "    .dataframe tbody tr th:only-of-type {\n",
       "        vertical-align: middle;\n",
       "    }\n",
       "\n",
       "    .dataframe tbody tr th {\n",
       "        vertical-align: top;\n",
       "    }\n",
       "\n",
       "    .dataframe thead th {\n",
       "        text-align: right;\n",
       "    }\n",
       "</style>\n",
       "<table border=\"1\" class=\"dataframe\">\n",
       "  <thead>\n",
       "    <tr style=\"text-align: right;\">\n",
       "      <th></th>\n",
       "      <th>Dim</th>\n",
       "      <th>Value</th>\n",
       "      <th>Time</th>\n",
       "      <th>Best_Iter</th>\n",
       "    </tr>\n",
       "  </thead>\n",
       "  <tbody>\n",
       "    <tr>\n",
       "      <th>0</th>\n",
       "      <td>30</td>\n",
       "      <td>3472.0</td>\n",
       "      <td>0.57</td>\n",
       "      <td>483.0</td>\n",
       "    </tr>\n",
       "  </tbody>\n",
       "</table>\n",
       "</div>"
      ],
      "text/plain": [
       "   Dim   Value  Time  Best_Iter\n",
       "0   30  3472.0  0.57      483.0"
      ]
     },
     "metadata": {},
     "output_type": "display_data"
    }
   ],
   "source": [
    "average = [average[0] / number_of_combinations, average[1] / number_of_combinations, average[2] / number_of_combinations]\n",
    "average = [round(num, 2) for num in average]\n",
    "print('average:', average)\n",
    "df_avg = pd.DataFrame({'Dim': dim, 'Value': average[0], 'Time': average[1], 'Best_Iter': average[2]}, index=[0])\n",
    "display(df_avg)"
   ]
  },
  {
   "cell_type": "code",
   "execution_count": 556,
   "metadata": {},
   "outputs": [],
   "source": [
    "df = pd.read_csv('comparison_tables/averages.csv')\n",
    "row_to_update = df[df['Dim'] == num_nodes]\n",
    "\n",
    "if not row_to_update.empty:\n",
    "    df.loc[row_to_update.index, 'local_search_perm'] = average[0]\n",
    "    df.loc[row_to_update.index, 'local_search_perm_time'] = average[1]\n",
    "\n",
    "    df.to_csv('comparison_tables/averages.csv', index=False)\n",
    "else:\n",
    "    df.loc[len(df)] = {'Dim': num_nodes, 'local_search_perm': average[0], 'local_search_perm_time': average[1]}\n",
    "    df.to_csv('comparison_tables/averages.csv', index=False)"
   ]
  },
  {
   "cell_type": "markdown",
   "metadata": {},
   "source": [
    "<span style=\"font-size: larger;\">Simulated annealing</span>"
   ]
  },
  {
   "cell_type": "code",
   "execution_count": 557,
   "metadata": {},
   "outputs": [],
   "source": [
    "sols = []\n",
    "values = []\n",
    "iters = []\n",
    "times = []\n",
    "\n",
    "def simulated_annealing(graph, random_solution, value, num_iters, change_func):\n",
    "    solution = deepcopy(random_solution)\n",
    "    best_solution = deepcopy(solution)\n",
    "    best_value = value\n",
    "    best_i = None\n",
    "\n",
    "    for i in range(1, num_iters + 1):\n",
    "        #print(solution, value)\n",
    "        new_solution = change_func(graph, solution)\n",
    "        new_value = dg.calculate_total_edge_length(graph, new_solution)\n",
    "\n",
    "        if new_value < value:\n",
    "            value = new_value\n",
    "            solution = deepcopy(new_solution)\n",
    "\n",
    "            if new_value < best_value:\n",
    "                best_i = i\n",
    "                best_value = new_value\n",
    "                best_solution = deepcopy(new_solution)\n",
    "\n",
    "        #elif random.random() < 1 / (i**0.5):\n",
    "        elif random.random() < 1 / i:\n",
    "            #print('divs')\n",
    "            value = new_value\n",
    "            solution = deepcopy(new_solution)\n",
    "\n",
    "    return best_solution, best_value, best_i"
   ]
  },
  {
   "cell_type": "code",
   "execution_count": 558,
   "metadata": {},
   "outputs": [
    {
     "name": "stdout",
     "output_type": "stream",
     "text": [
      "[25, 27, 1, 6, 29, 3, 18, 17, 10, 22, 13, 5, 20, 8, 15, 14, 21, 9, 16, 7, 19, 28, 11, 12, 24, 26, 0, 4, 23, 2] 3419 497\n"
     ]
    }
   ],
   "source": [
    "start = time.time()\n",
    "solution, value, iter = simulated_annealing(graph, random_solution, total_edge_length, 500, change_func=make_change_swap)\n",
    "end = time.time()\n",
    "duration = float(\"{:.2f}\".format(end - start))\n",
    "print(solution, value, iter)\n",
    "sols.append(solution)\n",
    "values.append(value)\n",
    "iters.append(iter)\n",
    "times.append(duration)"
   ]
  },
  {
   "cell_type": "code",
   "execution_count": 559,
   "metadata": {},
   "outputs": [
    {
     "name": "stdout",
     "output_type": "stream",
     "text": [
      "[24, 11, 4, 26, 23, 0, 2, 7, 19, 12, 16, 21, 9, 28, 14, 15, 29, 18, 20, 10, 13, 8, 27, 22, 5, 3, 25, 17, 6, 1] 3442 481\n"
     ]
    }
   ],
   "source": [
    "start = time.time()\n",
    "solution, value, iter = simulated_annealing(graph, random_solution, total_edge_length, 500, change_func=make_change_inverse)\n",
    "end = time.time()\n",
    "duration = float(\"{:.2f}\".format(end - start))\n",
    "print(solution, value, iter)\n",
    "sols.append(solution)\n",
    "values.append(value)\n",
    "iters.append(iter)\n",
    "times.append(duration)"
   ]
  },
  {
   "cell_type": "code",
   "execution_count": 560,
   "metadata": {},
   "outputs": [
    {
     "name": "stdout",
     "output_type": "stream",
     "text": [
      "[6, 29, 18, 1, 27, 17, 25, 22, 3, 20, 13, 10, 8, 15, 21, 5, 28, 14, 19, 9, 7, 12, 16, 24, 0, 2, 23, 11, 4, 26] 3446 477\n"
     ]
    }
   ],
   "source": [
    "start = time.time()\n",
    "solution, value, iter = simulated_annealing(graph, random_solution, total_edge_length, 500, change_func=make_change_scramble)\n",
    "end = time.time()\n",
    "duration = float(\"{:.2f}\".format(end - start))\n",
    "print(solution, value, iter)\n",
    "sols.append(solution)\n",
    "values.append(value)\n",
    "iters.append(iter)\n",
    "times.append(duration)"
   ]
  },
  {
   "cell_type": "code",
   "execution_count": 561,
   "metadata": {},
   "outputs": [
    {
     "data": {
      "text/html": [
       "<div>\n",
       "<style scoped>\n",
       "    .dataframe tbody tr th:only-of-type {\n",
       "        vertical-align: middle;\n",
       "    }\n",
       "\n",
       "    .dataframe tbody tr th {\n",
       "        vertical-align: top;\n",
       "    }\n",
       "\n",
       "    .dataframe thead th {\n",
       "        text-align: right;\n",
       "    }\n",
       "</style>\n",
       "<table border=\"1\" class=\"dataframe\">\n",
       "  <thead>\n",
       "    <tr style=\"text-align: right;\">\n",
       "      <th></th>\n",
       "      <th>Dim</th>\n",
       "      <th>Method</th>\n",
       "      <th>Value</th>\n",
       "      <th>Time</th>\n",
       "    </tr>\n",
       "  </thead>\n",
       "  <tbody>\n",
       "    <tr>\n",
       "      <th>0</th>\n",
       "      <td>30</td>\n",
       "      <td>simulated_annealing, make_change_swap</td>\n",
       "      <td>3419</td>\n",
       "      <td>0.10</td>\n",
       "    </tr>\n",
       "    <tr>\n",
       "      <th>1</th>\n",
       "      <td>30</td>\n",
       "      <td>simulated_annealing, make_change_inverse</td>\n",
       "      <td>3442</td>\n",
       "      <td>0.10</td>\n",
       "    </tr>\n",
       "    <tr>\n",
       "      <th>2</th>\n",
       "      <td>30</td>\n",
       "      <td>simulated_annealing, make_change_scramble</td>\n",
       "      <td>3446</td>\n",
       "      <td>0.13</td>\n",
       "    </tr>\n",
       "  </tbody>\n",
       "</table>\n",
       "</div>"
      ],
      "text/plain": [
       "   Dim                                     Method  Value  Time\n",
       "0   30      simulated_annealing, make_change_swap   3419  0.10\n",
       "1   30   simulated_annealing, make_change_inverse   3442  0.10\n",
       "2   30  simulated_annealing, make_change_scramble   3446  0.13"
      ]
     },
     "metadata": {},
     "output_type": "display_data"
    }
   ],
   "source": [
    "#generating comparison table\n",
    "from IPython.display import display\n",
    "import pandas as pd\n",
    "dim = num_nodes\n",
    "\n",
    "results = []\n",
    "\n",
    "best = float('inf')\n",
    "best_i = -1\n",
    "\n",
    "average = [0,0,0]\n",
    "\n",
    "number_of_combinations = 0\n",
    "\n",
    "solution_generation = [make_change_swap, make_change_inverse, make_change_scramble]\n",
    "for i, sg in enumerate(solution_generation):\n",
    "    method = sg.__name__\n",
    "    results.append({'Dim': dim, 'Method': 'simulated_annealing' + ', '  + method, 'Value': values[i], 'Time': times[i], 'Best_Iter': iters[i]})\n",
    "\n",
    "    if values[i] == best:\n",
    "        if times[i] <= times[best_i]:\n",
    "            best = values[i]\n",
    "            best_i = i\n",
    "\n",
    "    if values[i] < best:\n",
    "        best = values[i]\n",
    "        best_i = i\n",
    "\n",
    "    average[0] += values[i]\n",
    "    average[1] += times[i] \n",
    "    average[2] += iters[i]\n",
    "\n",
    "    number_of_combinations += 1\n",
    "\n",
    "df = pd.DataFrame(results)\n",
    "#display(df)\n",
    "display(df.drop('Best_Iter', axis=1)) "
   ]
  },
  {
   "cell_type": "code",
   "execution_count": 562,
   "metadata": {},
   "outputs": [
    {
     "name": "stdout",
     "output_type": "stream",
     "text": [
      "best: make_change_swap 3419 0.1 497\n"
     ]
    },
    {
     "data": {
      "text/html": [
       "<div>\n",
       "<style scoped>\n",
       "    .dataframe tbody tr th:only-of-type {\n",
       "        vertical-align: middle;\n",
       "    }\n",
       "\n",
       "    .dataframe tbody tr th {\n",
       "        vertical-align: top;\n",
       "    }\n",
       "\n",
       "    .dataframe thead th {\n",
       "        text-align: right;\n",
       "    }\n",
       "</style>\n",
       "<table border=\"1\" class=\"dataframe\">\n",
       "  <thead>\n",
       "    <tr style=\"text-align: right;\">\n",
       "      <th></th>\n",
       "      <th>Dim</th>\n",
       "      <th>Method</th>\n",
       "      <th>Value</th>\n",
       "      <th>Time</th>\n",
       "      <th>Best_Iter</th>\n",
       "    </tr>\n",
       "  </thead>\n",
       "  <tbody>\n",
       "    <tr>\n",
       "      <th>0</th>\n",
       "      <td>30</td>\n",
       "      <td>simulated_annealing, make_change_swap</td>\n",
       "      <td>3419</td>\n",
       "      <td>0.1</td>\n",
       "      <td>497</td>\n",
       "    </tr>\n",
       "  </tbody>\n",
       "</table>\n",
       "</div>"
      ],
      "text/plain": [
       "   Dim                                 Method  Value  Time  Best_Iter\n",
       "0   30  simulated_annealing, make_change_swap   3419   0.1        497"
      ]
     },
     "metadata": {},
     "output_type": "display_data"
    }
   ],
   "source": [
    "print('best:', solution_generation[best_i].__name__, values[best_i], times[best_i], iters[best_i])\n",
    "df_best = pd.DataFrame({'Dim': dim, 'Method':  'simulated_annealing' + ', '  + solution_generation[best_i].__name__, 'Value': values[best_i], 'Time': times[best_i], 'Best_Iter': iters[best_i]}, index=[0])\n",
    "display(df_best)"
   ]
  },
  {
   "cell_type": "code",
   "execution_count": 563,
   "metadata": {},
   "outputs": [],
   "source": [
    "df = pd.read_csv('comparison_tables/bests.csv')\n",
    "row_to_update = df[df['Dim'] == num_nodes]\n",
    "\n",
    "# Check if the row exists\n",
    "if not row_to_update.empty:\n",
    "    # Update specific columns in the located row\n",
    "    df.loc[row_to_update.index, 'sim_annealing'] = values[best_i]\n",
    "    df.loc[row_to_update.index, 'sim_annealing_time'] = times[best_i]\n",
    "\n",
    "    # Save the updated DataFrame back to the CSV file\n",
    "    df.to_csv('comparison_tables/bests.csv', index=False)\n",
    "else:\n",
    "    new_row_data = {'Dim': num_nodes, 'sim_annealing': values[best_i], 'sim_annealing_time': times[best_i]}\n",
    "    df.loc[len(df)] = new_row_data\n",
    "    df.to_csv('comparison_tables/bests.csv', index=False)"
   ]
  },
  {
   "cell_type": "code",
   "execution_count": 564,
   "metadata": {},
   "outputs": [
    {
     "name": "stdout",
     "output_type": "stream",
     "text": [
      "average: [3435.67, 0.11, 485.0]\n"
     ]
    },
    {
     "data": {
      "text/html": [
       "<div>\n",
       "<style scoped>\n",
       "    .dataframe tbody tr th:only-of-type {\n",
       "        vertical-align: middle;\n",
       "    }\n",
       "\n",
       "    .dataframe tbody tr th {\n",
       "        vertical-align: top;\n",
       "    }\n",
       "\n",
       "    .dataframe thead th {\n",
       "        text-align: right;\n",
       "    }\n",
       "</style>\n",
       "<table border=\"1\" class=\"dataframe\">\n",
       "  <thead>\n",
       "    <tr style=\"text-align: right;\">\n",
       "      <th></th>\n",
       "      <th>Dim</th>\n",
       "      <th>Value</th>\n",
       "      <th>Time</th>\n",
       "      <th>Best_Iter</th>\n",
       "    </tr>\n",
       "  </thead>\n",
       "  <tbody>\n",
       "    <tr>\n",
       "      <th>0</th>\n",
       "      <td>30</td>\n",
       "      <td>3435.67</td>\n",
       "      <td>0.11</td>\n",
       "      <td>485.0</td>\n",
       "    </tr>\n",
       "  </tbody>\n",
       "</table>\n",
       "</div>"
      ],
      "text/plain": [
       "   Dim    Value  Time  Best_Iter\n",
       "0   30  3435.67  0.11      485.0"
      ]
     },
     "metadata": {},
     "output_type": "display_data"
    }
   ],
   "source": [
    "average = [average[0] / number_of_combinations, average[1] / number_of_combinations, average[2] / number_of_combinations]\n",
    "average = [round(num, 2) for num in average]\n",
    "print('average:', average)\n",
    "df_avg = pd.DataFrame({'Dim': dim, 'Value': average[0], 'Time': average[1], 'Best_Iter': average[2]}, index=[0])\n",
    "display(df_avg)"
   ]
  },
  {
   "cell_type": "code",
   "execution_count": 565,
   "metadata": {},
   "outputs": [],
   "source": [
    "df = pd.read_csv('comparison_tables/averages.csv')\n",
    "row_to_update = df[df['Dim'] == num_nodes]\n",
    "\n",
    "# Check if the row exists\n",
    "if not row_to_update.empty:\n",
    "    # Update specific columns in the located row\n",
    "    df.loc[row_to_update.index, 'sim_annealing'] = average[0]\n",
    "    df.loc[row_to_update.index, 'sim_annealing_time'] = average[1]\n",
    "\n",
    "    # Save the updated DataFrame back to the CSV file\n",
    "    df.to_csv('comparison_tables/averages.csv', index=False)\n",
    "else:\n",
    "    df.loc[len(df)] = {'Dim': num_nodes, 'sim_annealing_perm': average[0], 'sim_annealing_time': average[1]}\n",
    "    df.to_csv('comparison_tables/averages.csv', index=False)"
   ]
  },
  {
   "cell_type": "markdown",
   "metadata": {},
   "source": [
    "<span style=\"font-size: larger;\">Variable neigborhood search</span>"
   ]
  },
  {
   "cell_type": "code",
   "execution_count": 566,
   "metadata": {},
   "outputs": [],
   "source": [
    "def shaking_swap(graph, solution, k):\n",
    "    new_solution = deepcopy(solution)\n",
    "    selected = random.sample(range(len(solution)), 2*k)\n",
    "    for i in range(0,len(selected), 2):\n",
    "        index1, index2 = selected[i], selected[i+1]\n",
    "        new_solution[index1], new_solution[index2] = new_solution[index2], new_solution[index1]\n",
    "    return new_solution    \n",
    "    "
   ]
  },
  {
   "cell_type": "code",
   "execution_count": 567,
   "metadata": {},
   "outputs": [],
   "source": [
    "def shaking_inverse(graph, solution, k):\n",
    "    new_solution = deepcopy(solution)\n",
    "    index1 = random.randint(0, len(solution))\n",
    "    if(index1 + k > len(solution)):\n",
    "        index1 = len(solution) - k\n",
    "    index2 = index1 + k                       \n",
    "    new_solution[index1:index2+1] = reversed(new_solution[index1:index2+1])  \n",
    "\n",
    "    return new_solution"
   ]
  },
  {
   "cell_type": "code",
   "execution_count": 568,
   "metadata": {},
   "outputs": [],
   "source": [
    "def vns(graph, random_solution, value, num_iters, change_func, shaking_func, local_search_func, k_min, k_max, move_prob):\n",
    "    solution = deepcopy(random_solution)\n",
    "    best_i = None\n",
    "    for i in range(num_iters):\n",
    "        for k in range(k_min, k_max):\n",
    "            #print('vns: ', solution, value, i)\n",
    "            #diversification\n",
    "            new_solution = shaking_func(graph, solution, k)   \n",
    "\n",
    "            new_value = dg.calculate_total_edge_length(graph, new_solution)\n",
    "\n",
    "            #print('post shaking: ', new_solution, new_value, i)\n",
    "            new_solution, new_value, _= local_search_func(graph, new_solution, total_edge_length, 10, change_func)\n",
    "\n",
    "            if new_value < value or (new_value == value and random.random() < move_prob):\n",
    "                if(new_value < value):\n",
    "                    best_i = i\n",
    "\n",
    "                value = new_value\n",
    "\n",
    "                solution = deepcopy(new_solution)\n",
    "                \n",
    "    return solution, value, best_i"
   ]
  },
  {
   "cell_type": "code",
   "execution_count": 569,
   "metadata": {},
   "outputs": [
    {
     "name": "stdout",
     "output_type": "stream",
     "text": [
      "shaking_swap make_change_swap local_search  :  [4, 24, 28, 23, 0, 11, 26, 2, 7, 12, 16, 21, 19, 14, 9, 15, 8, 22, 27, 6, 20, 13, 25, 10, 5, 18, 1, 3, 17, 29] 3429 412 \n",
      "\n",
      "shaking_swap make_change_swap local_search_with_permutation  :  [3, 5, 25, 18, 13, 1, 27, 10, 6, 29, 15, 17, 20, 8, 22, 14, 21, 9, 16, 24, 19, 2, 26, 12, 0, 7, 23, 11, 4, 28] 3439 352 \n",
      "\n",
      "shaking_swap make_change_inverse local_search  :  [4, 24, 2, 12, 28, 11, 7, 26, 0, 23, 16, 9, 21, 19, 14, 8, 13, 5, 20, 29, 15, 22, 27, 10, 17, 25, 6, 1, 3, 18] 3439 471 \n",
      "\n",
      "shaking_swap make_change_inverse local_search_with_permutation  :  [12, 0, 26, 23, 16, 4, 7, 19, 28, 9, 2, 24, 21, 11, 20, 14, 10, 8, 15, 1, 13, 29, 22, 25, 27, 6, 5, 3, 17, 18] 3450 467 \n",
      "\n",
      "shaking_swap make_change_scramble local_search  :  [27, 1, 5, 3, 18, 6, 29, 25, 17, 13, 22, 15, 10, 20, 8, 14, 21, 9, 16, 7, 26, 11, 12, 24, 19, 2, 4, 23, 0, 28] 3424 347 \n",
      "\n",
      "shaking_swap make_change_scramble local_search_with_permutation  :  [29, 18, 3, 17, 6, 27, 1, 10, 22, 25, 5, 13, 20, 8, 15, 14, 21, 9, 7, 11, 28, 26, 16, 19, 2, 24, 0, 23, 12, 4] 3426 361 \n",
      "\n",
      "shaking_inverse make_change_swap local_search  :  [1, 29, 3, 5, 6, 17, 22, 27, 25, 10, 13, 18, 20, 8, 14, 15, 21, 9, 16, 19, 7, 11, 12, 0, 4, 2, 26, 23, 28, 24] 3425 270 \n",
      "\n",
      "shaking_inverse make_change_swap local_search_with_permutation  :  [29, 5, 3, 25, 17, 6, 27, 1, 18, 10, 22, 13, 20, 8, 15, 9, 14, 21, 11, 19, 16, 7, 0, 2, 26, 24, 28, 12, 23, 4] 3420 61 \n",
      "\n",
      "shaking_inverse make_change_inverse local_search  :  [24, 11, 23, 26, 2, 28, 12, 4, 0, 16, 19, 7, 21, 9, 14, 15, 8, 20, 22, 10, 13, 25, 6, 3, 1, 18, 29, 27, 5, 17] 3416 462 \n",
      "\n",
      "shaking_inverse make_change_inverse local_search_with_permutation  :  [26, 23, 12, 0, 4, 24, 2, 11, 28, 19, 7, 9, 21, 16, 14, 20, 15, 8, 10, 22, 5, 13, 27, 1, 6, 25, 3, 17, 18, 29] 3420 294 \n",
      "\n",
      "shaking_inverse make_change_scramble local_search  :  [0, 11, 12, 23, 4, 28, 24, 2, 19, 26, 16, 7, 9, 21, 14, 15, 8, 20, 10, 13, 25, 22, 18, 17, 3, 1, 6, 27, 5, 29] 3418 60 \n",
      "\n",
      "shaking_inverse make_change_scramble local_search_with_permutation  :  [6, 5, 25, 17, 27, 1, 18, 3, 13, 22, 29, 10, 8, 20, 15, 14, 21, 7, 9, 19, 16, 26, 23, 12, 2, 4, 24, 0, 11, 28] 3419 355 \n",
      "\n"
     ]
    }
   ],
   "source": [
    "#too many combos for VNS, we will iterrate\n",
    "#this soulution SHOULD NOT be used regularly, as the cell execution time will be MUCH longer than the sum of it's parts for some reason (notebook problem?)\n",
    "#for example, for a certain n, if we split this into seperate cells the sum of exec time would be 3mins, this way it's around 5-6mins\n",
    "#hopefully this doesn't seem to affect individual duration calculations...\n",
    "n = len(graph)\n",
    "\n",
    "oc = False\n",
    "\n",
    "shakings = [shaking_swap, shaking_inverse]\n",
    "changes_funcs = [make_change_swap, make_change_inverse, make_change_scramble]\n",
    "search_funcs = [local_search, local_search_with_permutation]\n",
    "\n",
    "number_of_combinations = 0\n",
    "\n",
    "sols = []\n",
    "values =[]\n",
    "times = []\n",
    "\n",
    "methods = []\n",
    "\n",
    "results = []\n",
    "\n",
    "best = float('inf')\n",
    "best_i = -1\n",
    "\n",
    "average = [0,0]\n",
    "\n",
    "k_min = int(0.1 * num_nodes)\n",
    "k_max = int(0.3 * num_nodes)\n",
    "for shake in shakings:\n",
    "    for change in changes_funcs:\n",
    "        for search in search_funcs:\n",
    "            if shake.__name__ == 'shaking_inverse':\n",
    "                k_min = int(0.3 * num_nodes)\n",
    "                k_max = int(0.6 * num_nodes)\n",
    "\n",
    "            start = time.time()    \n",
    "            sol, value, iter = vns(graph, \n",
    "                                   random_solution, \n",
    "                                   total_edge_length, \n",
    "                                   500, \n",
    "                                   change_func=change, \n",
    "                                   shaking_func=shake, \n",
    "                                   local_search_func = search, \n",
    "                                   k_min=k_min,\n",
    "                                   k_max=k_max, \n",
    "                                   move_prob=0.4)\n",
    "            end = time.time()\n",
    "            duration = float(\"{:.2f}\".format(end - start))\n",
    "            \n",
    "            print(shake.__name__, change.__name__, search.__name__, ' : ', sol, value, iter, '\\n')\n",
    "            \n",
    "            k_min = int(0.1 * num_nodes)\n",
    "            k_max = int(0.3 * num_nodes)\n",
    "\n",
    "            sols.append(sol)\n",
    "            values.append(value)\n",
    "            iters.append(iter)\n",
    "            times.append(duration)\n",
    "\n",
    "            methods.append(str(shake.__name__ + ', ' + change.__name__ + ', ' + search.__name__))\n",
    "\n",
    "            results.append({'Dim': num_nodes, 'Method': methods[number_of_combinations], 'Value': abs(value), 'Time': duration})\n",
    "\n",
    "            if value == best:\n",
    "                if duration <= times[best_i]:    \n",
    "                    best = value\n",
    "                    best_i = number_of_combinations\n",
    "\n",
    "            if value < best:\n",
    "                best = value\n",
    "                best_i = number_of_combinations            \n",
    "\n",
    "            average[0] += value\n",
    "            average[1] += duration\n",
    "\n",
    "            number_of_combinations += 1    \n"
   ]
  },
  {
   "cell_type": "code",
   "execution_count": 570,
   "metadata": {},
   "outputs": [
    {
     "data": {
      "text/html": [
       "<div>\n",
       "<style scoped>\n",
       "    .dataframe tbody tr th:only-of-type {\n",
       "        vertical-align: middle;\n",
       "    }\n",
       "\n",
       "    .dataframe tbody tr th {\n",
       "        vertical-align: top;\n",
       "    }\n",
       "\n",
       "    .dataframe thead th {\n",
       "        text-align: right;\n",
       "    }\n",
       "</style>\n",
       "<table border=\"1\" class=\"dataframe\">\n",
       "  <thead>\n",
       "    <tr style=\"text-align: right;\">\n",
       "      <th></th>\n",
       "      <th>Dim</th>\n",
       "      <th>Method</th>\n",
       "      <th>Value</th>\n",
       "      <th>Time</th>\n",
       "    </tr>\n",
       "  </thead>\n",
       "  <tbody>\n",
       "    <tr>\n",
       "      <th>0</th>\n",
       "      <td>30</td>\n",
       "      <td>shaking_swap, make_change_swap, local_search</td>\n",
       "      <td>3429</td>\n",
       "      <td>6.53</td>\n",
       "    </tr>\n",
       "    <tr>\n",
       "      <th>1</th>\n",
       "      <td>30</td>\n",
       "      <td>shaking_swap, make_change_swap, local_search_w...</td>\n",
       "      <td>3439</td>\n",
       "      <td>17.68</td>\n",
       "    </tr>\n",
       "    <tr>\n",
       "      <th>2</th>\n",
       "      <td>30</td>\n",
       "      <td>shaking_swap, make_change_inverse, local_search</td>\n",
       "      <td>3439</td>\n",
       "      <td>6.57</td>\n",
       "    </tr>\n",
       "    <tr>\n",
       "      <th>3</th>\n",
       "      <td>30</td>\n",
       "      <td>shaking_swap, make_change_inverse, local_searc...</td>\n",
       "      <td>3450</td>\n",
       "      <td>18.67</td>\n",
       "    </tr>\n",
       "    <tr>\n",
       "      <th>4</th>\n",
       "      <td>30</td>\n",
       "      <td>shaking_swap, make_change_scramble, local_search</td>\n",
       "      <td>3424</td>\n",
       "      <td>7.12</td>\n",
       "    </tr>\n",
       "    <tr>\n",
       "      <th>5</th>\n",
       "      <td>30</td>\n",
       "      <td>shaking_swap, make_change_scramble, local_sear...</td>\n",
       "      <td>3426</td>\n",
       "      <td>18.58</td>\n",
       "    </tr>\n",
       "    <tr>\n",
       "      <th>6</th>\n",
       "      <td>30</td>\n",
       "      <td>shaking_inverse, make_change_swap, local_search</td>\n",
       "      <td>3425</td>\n",
       "      <td>9.78</td>\n",
       "    </tr>\n",
       "    <tr>\n",
       "      <th>7</th>\n",
       "      <td>30</td>\n",
       "      <td>shaking_inverse, make_change_swap, local_searc...</td>\n",
       "      <td>3420</td>\n",
       "      <td>26.37</td>\n",
       "    </tr>\n",
       "    <tr>\n",
       "      <th>8</th>\n",
       "      <td>30</td>\n",
       "      <td>shaking_inverse, make_change_inverse, local_se...</td>\n",
       "      <td>3416</td>\n",
       "      <td>9.80</td>\n",
       "    </tr>\n",
       "    <tr>\n",
       "      <th>9</th>\n",
       "      <td>30</td>\n",
       "      <td>shaking_inverse, make_change_inverse, local_se...</td>\n",
       "      <td>3420</td>\n",
       "      <td>26.31</td>\n",
       "    </tr>\n",
       "    <tr>\n",
       "      <th>10</th>\n",
       "      <td>30</td>\n",
       "      <td>shaking_inverse, make_change_scramble, local_s...</td>\n",
       "      <td>3418</td>\n",
       "      <td>10.64</td>\n",
       "    </tr>\n",
       "    <tr>\n",
       "      <th>11</th>\n",
       "      <td>30</td>\n",
       "      <td>shaking_inverse, make_change_scramble, local_s...</td>\n",
       "      <td>3419</td>\n",
       "      <td>27.32</td>\n",
       "    </tr>\n",
       "  </tbody>\n",
       "</table>\n",
       "</div>"
      ],
      "text/plain": [
       "    Dim                                             Method  Value   Time\n",
       "0    30       shaking_swap, make_change_swap, local_search   3429   6.53\n",
       "1    30  shaking_swap, make_change_swap, local_search_w...   3439  17.68\n",
       "2    30    shaking_swap, make_change_inverse, local_search   3439   6.57\n",
       "3    30  shaking_swap, make_change_inverse, local_searc...   3450  18.67\n",
       "4    30   shaking_swap, make_change_scramble, local_search   3424   7.12\n",
       "5    30  shaking_swap, make_change_scramble, local_sear...   3426  18.58\n",
       "6    30    shaking_inverse, make_change_swap, local_search   3425   9.78\n",
       "7    30  shaking_inverse, make_change_swap, local_searc...   3420  26.37\n",
       "8    30  shaking_inverse, make_change_inverse, local_se...   3416   9.80\n",
       "9    30  shaking_inverse, make_change_inverse, local_se...   3420  26.31\n",
       "10   30  shaking_inverse, make_change_scramble, local_s...   3418  10.64\n",
       "11   30  shaking_inverse, make_change_scramble, local_s...   3419  27.32"
      ]
     },
     "metadata": {},
     "output_type": "display_data"
    }
   ],
   "source": [
    "df = pd.DataFrame(results)\n",
    "display(df)\n",
    "df.to_csv('comparison_tables/vns.csv', mode='a', header=not pd.io.common.file_exists('comparison_tables/vns.csv'), index=False)"
   ]
  },
  {
   "cell_type": "code",
   "execution_count": 571,
   "metadata": {},
   "outputs": [
    {
     "name": "stdout",
     "output_type": "stream",
     "text": [
      "best: shaking_inverse, make_change_inverse, local_search 3416 9.8\n"
     ]
    },
    {
     "data": {
      "text/html": [
       "<div>\n",
       "<style scoped>\n",
       "    .dataframe tbody tr th:only-of-type {\n",
       "        vertical-align: middle;\n",
       "    }\n",
       "\n",
       "    .dataframe tbody tr th {\n",
       "        vertical-align: top;\n",
       "    }\n",
       "\n",
       "    .dataframe thead th {\n",
       "        text-align: right;\n",
       "    }\n",
       "</style>\n",
       "<table border=\"1\" class=\"dataframe\">\n",
       "  <thead>\n",
       "    <tr style=\"text-align: right;\">\n",
       "      <th></th>\n",
       "      <th>Dim</th>\n",
       "      <th>Method</th>\n",
       "      <th>Value</th>\n",
       "      <th>Time</th>\n",
       "    </tr>\n",
       "  </thead>\n",
       "  <tbody>\n",
       "    <tr>\n",
       "      <th>0</th>\n",
       "      <td>30</td>\n",
       "      <td>shaking_inverse, make_change_inverse, local_se...</td>\n",
       "      <td>3416</td>\n",
       "      <td>9.8</td>\n",
       "    </tr>\n",
       "  </tbody>\n",
       "</table>\n",
       "</div>"
      ],
      "text/plain": [
       "   Dim                                             Method  Value  Time\n",
       "0   30  shaking_inverse, make_change_inverse, local_se...   3416   9.8"
      ]
     },
     "metadata": {},
     "output_type": "display_data"
    }
   ],
   "source": [
    "print('best:', methods[best_i], values[best_i], times[best_i])\n",
    "df_best = pd.DataFrame({'Dim': num_nodes, 'Method':  methods[best_i], 'Value': values[best_i], 'Time': times[best_i]}, index=[0])\n",
    "display(df_best)"
   ]
  },
  {
   "cell_type": "code",
   "execution_count": 572,
   "metadata": {},
   "outputs": [],
   "source": [
    "df = pd.read_csv('comparison_tables/bests.csv')\n",
    "row_to_update = df[df['Dim'] == num_nodes]\n",
    "\n",
    "if not row_to_update.empty:\n",
    "    \n",
    "    df.loc[row_to_update.index, 'vns'] = values[best_i]\n",
    "    df.loc[row_to_update.index, 'vns_time'] = times[best_i]\n",
    "\n",
    "    df.to_csv('comparison_tables/bests.csv', index=False)\n",
    "else:\n",
    "    new_row_data = {'Dim': num_nodes, 'vns': value, 'vns_time': duration}\n",
    "    df.loc[len(df)] = new_row_data\n",
    "    df.to_csv('comparison_tables/bests.csv', index=False)"
   ]
  },
  {
   "cell_type": "code",
   "execution_count": 573,
   "metadata": {},
   "outputs": [
    {
     "name": "stdout",
     "output_type": "stream",
     "text": [
      "average: [3427.08, 15.45]\n"
     ]
    },
    {
     "data": {
      "text/html": [
       "<div>\n",
       "<style scoped>\n",
       "    .dataframe tbody tr th:only-of-type {\n",
       "        vertical-align: middle;\n",
       "    }\n",
       "\n",
       "    .dataframe tbody tr th {\n",
       "        vertical-align: top;\n",
       "    }\n",
       "\n",
       "    .dataframe thead th {\n",
       "        text-align: right;\n",
       "    }\n",
       "</style>\n",
       "<table border=\"1\" class=\"dataframe\">\n",
       "  <thead>\n",
       "    <tr style=\"text-align: right;\">\n",
       "      <th></th>\n",
       "      <th>Dim</th>\n",
       "      <th>Value</th>\n",
       "      <th>Time</th>\n",
       "    </tr>\n",
       "  </thead>\n",
       "  <tbody>\n",
       "    <tr>\n",
       "      <th>0</th>\n",
       "      <td>30</td>\n",
       "      <td>3427.08</td>\n",
       "      <td>15.45</td>\n",
       "    </tr>\n",
       "  </tbody>\n",
       "</table>\n",
       "</div>"
      ],
      "text/plain": [
       "   Dim    Value   Time\n",
       "0   30  3427.08  15.45"
      ]
     },
     "metadata": {},
     "output_type": "display_data"
    }
   ],
   "source": [
    "average = [average[0] / number_of_combinations, average[1] / number_of_combinations]\n",
    "average = [round(num, 2) for num in average]\n",
    "print('average:', average)\n",
    "df_avg = pd.DataFrame({'Dim': num_nodes, 'Value': average[0], 'Time': average[1]}, index=[0])\n",
    "display(df_avg)"
   ]
  },
  {
   "cell_type": "code",
   "execution_count": 574,
   "metadata": {},
   "outputs": [],
   "source": [
    "df = pd.read_csv('comparison_tables/averages.csv')\n",
    "row_to_update = df[df['Dim'] == num_nodes]\n",
    "\n",
    "if not row_to_update.empty:\n",
    "\n",
    "    df.loc[row_to_update.index, 'vns'] = average[0]\n",
    "    df.loc[row_to_update.index, 'vns_time'] = average[1]\n",
    "\n",
    "    df.to_csv('comparison_tables/averages.csv', index=False)\n",
    "else:\n",
    "    df.loc[len(df)] = {'Dim': num_nodes, 'vns_perm': average[0], 'vns_time': average[1]}\n",
    "    df.to_csv('comparison_tables/averages.csv', index=False)"
   ]
  }
 ],
 "metadata": {
  "kernelspec": {
   "display_name": "Python 3",
   "language": "python",
   "name": "python3"
  },
  "language_info": {
   "codemirror_mode": {
    "name": "ipython",
    "version": 3
   },
   "file_extension": ".py",
   "mimetype": "text/x-python",
   "name": "python",
   "nbconvert_exporter": "python",
   "pygments_lexer": "ipython3",
   "version": "3.10.11"
  }
 },
 "nbformat": 4,
 "nbformat_minor": 2
}
