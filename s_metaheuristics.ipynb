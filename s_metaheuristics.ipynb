{
 "cells": [
  {
   "cell_type": "code",
   "execution_count": 1,
   "metadata": {},
   "outputs": [],
   "source": [
    "import random\n",
    "import numpy as np\n",
    "import pandas as pd\n",
    "from matplotlib import pyplot as plt\n",
    "from copy import deepcopy\n",
    "import data_generation as dg\n",
    "import time"
   ]
  },
  {
   "cell_type": "code",
   "execution_count": 2,
   "metadata": {},
   "outputs": [],
   "source": [
    "graph, random_solution, total_edge_length = dg.read_instance('data\\data70.txt')\n",
    "num_nodes = len(graph)"
   ]
  },
  {
   "cell_type": "code",
   "execution_count": 3,
   "metadata": {},
   "outputs": [],
   "source": [
    "sols = []\n",
    "values = []\n",
    "iters = []\n",
    "times = []"
   ]
  },
  {
   "cell_type": "markdown",
   "metadata": {},
   "source": [
    "<span style=\"font-size: larger;\">Classic local search</span>"
   ]
  },
  {
   "cell_type": "code",
   "execution_count": 4,
   "metadata": {},
   "outputs": [],
   "source": [
    "def make_change_swap(graph, solution):\n",
    "    new_solution = solution.copy()\n",
    "    \n",
    "    # Choose two distinct random indices\n",
    "    index1, index2 = random.sample(range(len(solution)), 2)\n",
    "    \n",
    "    # Swap the positions of the selected nodes\n",
    "    new_solution[index1], new_solution[index2] = new_solution[index2], new_solution[index1]\n",
    "\n",
    "    return new_solution"
   ]
  },
  {
   "cell_type": "code",
   "execution_count": 5,
   "metadata": {},
   "outputs": [],
   "source": [
    "def make_change_inverse(graph, solution):\n",
    "    new_solution = solution.copy()\n",
    "    \n",
    "    # Choose two distinct random indices\n",
    "    index1, index2 = sorted(random.sample(range(len(solution)), 2))\n",
    "    \n",
    "    # Reverse the subset of nodes between index1 and index2\n",
    "    new_solution[index1:index2+1] = reversed(new_solution[index1:index2+1])\n",
    "\n",
    "    return new_solution"
   ]
  },
  {
   "cell_type": "code",
   "execution_count": 6,
   "metadata": {},
   "outputs": [],
   "source": [
    "def make_change_next_permutation(graph, solution):\n",
    "    #based on the classic next permutation algorithm\n",
    "    new_solution = deepcopy(solution)\n",
    "    \n",
    "    n = len(new_solution)\n",
    "    \n",
    "    # Find the largest index k such that a[k] < a[k+1]\n",
    "    k = n - 2\n",
    "    while k >= 0 and new_solution[k] >= new_solution[k + 1]:\n",
    "        k -= 1\n",
    "\n",
    "    # If no such index exists, the permutation is the last one\n",
    "    if k == -1:\n",
    "        return sorted(new_solution)\n",
    "\n",
    "    # Find the largest index l greater than k such that a[k] < a[l]\n",
    "    l = n - 1\n",
    "    while new_solution[k] >= new_solution[l]:\n",
    "        l -= 1\n",
    "\n",
    "    # Swap a[k] and a[l]\n",
    "    new_solution[k], new_solution[l] = new_solution[l], new_solution[k]\n",
    "\n",
    "    # Reverse the sequence from a[k+1] up to and including the final element a[n-1]\n",
    "    new_solution[k + 1:] = reversed(new_solution[k + 1:])\n",
    "\n",
    "    return new_solution\n"
   ]
  },
  {
   "cell_type": "code",
   "execution_count": 7,
   "metadata": {},
   "outputs": [],
   "source": [
    "def make_change_scramble(graph, solution):\n",
    "    new_solution = deepcopy(solution)\n",
    "    \n",
    "    start, end = sorted(random.sample(range(len(solution)), 2))\n",
    "\n",
    "    subset = solution[start:end+1]\n",
    "\n",
    "    random.shuffle(subset)\n",
    "\n",
    "    new_solution[start:end+1] = subset\n",
    "\n",
    "    return new_solution"
   ]
  },
  {
   "cell_type": "code",
   "execution_count": 8,
   "metadata": {},
   "outputs": [],
   "source": [
    "def local_search(graph, random_solution, value, num_iters, change_func):\n",
    "    solution = deepcopy(random_solution)\n",
    "    best_solution = deepcopy(solution)\n",
    "    best_value = value\n",
    "    best_i = None\n",
    "\n",
    "    for i in range(num_iters):\n",
    "        #print(solution, value, i)\n",
    "        new_solution = change_func(graph, solution)\n",
    "        new_value = dg.calculate_total_edge_length(graph, new_solution)\n",
    "\n",
    "        if new_value < value:\n",
    "            value = new_value\n",
    "            solution = deepcopy(new_solution)\n",
    "\n",
    "            if new_value < best_value:\n",
    "                best_i = i\n",
    "                best_value = new_value\n",
    "                best_solution = deepcopy(new_solution)\n",
    "\n",
    "    return best_solution, best_value, best_i"
   ]
  },
  {
   "cell_type": "code",
   "execution_count": 9,
   "metadata": {},
   "outputs": [
    {
     "name": "stdout",
     "output_type": "stream",
     "text": [
      "[14, 55, 20, 22, 1, 67, 7, 64, 6, 19, 13, 68, 10, 58, 53, 63, 17, 31, 51, 27, 41, 65, 57, 40, 44, 32, 21, 5, 11, 47, 29, 60, 69, 59, 61, 8, 0, 35, 16, 12, 66, 2, 48, 56, 34, 52, 37, 46, 15, 36, 54, 18, 33, 38, 25, 30, 4, 9, 43, 26, 28, 62, 23, 42, 45, 39, 50, 24, 49, 3] 24923 483\n"
     ]
    }
   ],
   "source": [
    "start = time.time()\n",
    "solution, value, iter = local_search(graph, random_solution, total_edge_length, 500, change_func=make_change_swap)\n",
    "end = time.time()\n",
    "duration = float(\"{:.2f}\".format(end - start))\n",
    "print(solution, value, iter)\n",
    "sols.append(solution)\n",
    "values.append(value)\n",
    "iters.append(iter)\n",
    "times.append(duration)"
   ]
  },
  {
   "cell_type": "code",
   "execution_count": 10,
   "metadata": {},
   "outputs": [
    {
     "name": "stdout",
     "output_type": "stream",
     "text": [
      "[1, 55, 20, 10, 3, 30, 22, 57, 9, 68, 33, 29, 32, 27, 14, 53, 67, 44, 42, 13, 31, 36, 18, 35, 21, 26, 54, 40, 49, 41, 51, 46, 17, 69, 63, 2, 37, 64, 4, 6, 12, 15, 7, 24, 39, 66, 60, 11, 65, 0, 47, 5, 59, 19, 48, 34, 61, 56, 52, 8, 50, 62, 16, 23, 45, 58, 28, 25, 43, 38] 25783 495\n"
     ]
    }
   ],
   "source": [
    "start = time.time()\n",
    "solution, value, iter = local_search(graph, random_solution, total_edge_length, 500, change_func=make_change_inverse)\n",
    "end = time.time()\n",
    "duration = float(\"{:.2f}\".format(end - start))\n",
    "print(solution, value, iter)\n",
    "sols.append(solution)\n",
    "values.append(value)\n",
    "iters.append(iter)\n",
    "times.append(duration)"
   ]
  },
  {
   "cell_type": "code",
   "execution_count": 11,
   "metadata": {},
   "outputs": [
    {
     "name": "stdout",
     "output_type": "stream",
     "text": [
      "[30, 28, 56, 43, 41, 23, 45, 57, 58, 54, 1, 39, 62, 34, 7, 47, 22, 61, 59, 38, 32, 11, 46, 6, 69, 5, 8, 21, 51, 12, 35, 36, 16, 63, 2, 52, 4, 29, 55, 24, 26, 42, 67, 48, 33, 19, 44, 53, 65, 0, 13, 66, 18, 60, 25, 40, 9, 31, 64, 27, 10, 15, 37, 68, 20, 17, 50, 49, 14, 3] 25560 498\n"
     ]
    }
   ],
   "source": [
    "start = time.time()\n",
    "solution, value, iter = local_search(graph, random_solution, total_edge_length, 500, change_func=make_change_scramble)\n",
    "end = time.time()\n",
    "duration = float(\"{:.2f}\".format(end - start))\n",
    "print(solution, value, iter)\n",
    "sols.append(solution)\n",
    "values.append(value)\n",
    "iters.append(iter)\n",
    "times.append(duration)"
   ]
  },
  {
   "cell_type": "code",
   "execution_count": 12,
   "metadata": {},
   "outputs": [
    {
     "data": {
      "text/html": [
       "<div>\n",
       "<style scoped>\n",
       "    .dataframe tbody tr th:only-of-type {\n",
       "        vertical-align: middle;\n",
       "    }\n",
       "\n",
       "    .dataframe tbody tr th {\n",
       "        vertical-align: top;\n",
       "    }\n",
       "\n",
       "    .dataframe thead th {\n",
       "        text-align: right;\n",
       "    }\n",
       "</style>\n",
       "<table border=\"1\" class=\"dataframe\">\n",
       "  <thead>\n",
       "    <tr style=\"text-align: right;\">\n",
       "      <th></th>\n",
       "      <th>Dim</th>\n",
       "      <th>Method</th>\n",
       "      <th>Value</th>\n",
       "      <th>Time</th>\n",
       "    </tr>\n",
       "  </thead>\n",
       "  <tbody>\n",
       "    <tr>\n",
       "      <th>0</th>\n",
       "      <td>70</td>\n",
       "      <td>make_change_swap</td>\n",
       "      <td>24923</td>\n",
       "      <td>0.97</td>\n",
       "    </tr>\n",
       "    <tr>\n",
       "      <th>1</th>\n",
       "      <td>70</td>\n",
       "      <td>make_change_inverse</td>\n",
       "      <td>25783</td>\n",
       "      <td>0.96</td>\n",
       "    </tr>\n",
       "    <tr>\n",
       "      <th>2</th>\n",
       "      <td>70</td>\n",
       "      <td>make_change_scramble</td>\n",
       "      <td>25560</td>\n",
       "      <td>0.85</td>\n",
       "    </tr>\n",
       "  </tbody>\n",
       "</table>\n",
       "</div>"
      ],
      "text/plain": [
       "   Dim                Method  Value  Time\n",
       "0   70      make_change_swap  24923  0.97\n",
       "1   70   make_change_inverse  25783  0.96\n",
       "2   70  make_change_scramble  25560  0.85"
      ]
     },
     "metadata": {},
     "output_type": "display_data"
    }
   ],
   "source": [
    "#generating comparison table\n",
    "from IPython.display import display\n",
    "import pandas as pd\n",
    "dim = num_nodes\n",
    "\n",
    "results = []\n",
    "\n",
    "best = float('inf')\n",
    "best_i = -1\n",
    "\n",
    "average = [0,0,0]\n",
    "\n",
    "number_of_combinations = 0\n",
    "\n",
    "solution_generation = [make_change_swap, make_change_inverse, make_change_scramble]\n",
    "for i, sg in enumerate(solution_generation):\n",
    "    method = sg.__name__\n",
    "    results.append({'Dim': dim, 'Method': method, 'Value': values[i], 'Time': times[i], 'Best_Iter': iters[i]})\n",
    "\n",
    "    if values[i] == best:\n",
    "        if times[i] <= times[best_i]:\n",
    "            best = values[i]\n",
    "            best_i = i\n",
    "\n",
    "    if values[i] < best:\n",
    "        best = values[i]\n",
    "        best_i = i\n",
    "\n",
    "    average[0] += values[i]\n",
    "    average[1] += times[i] \n",
    "    average[2] += iters[i]\n",
    "\n",
    "    number_of_combinations += 1\n",
    "\n",
    "df = pd.DataFrame(results)\n",
    "#display(df)\n",
    "display(df.drop('Best_Iter', axis=1)) "
   ]
  },
  {
   "cell_type": "code",
   "execution_count": 13,
   "metadata": {},
   "outputs": [
    {
     "name": "stdout",
     "output_type": "stream",
     "text": [
      "best: make_change_swap 24923 0.97 483\n"
     ]
    },
    {
     "data": {
      "text/html": [
       "<div>\n",
       "<style scoped>\n",
       "    .dataframe tbody tr th:only-of-type {\n",
       "        vertical-align: middle;\n",
       "    }\n",
       "\n",
       "    .dataframe tbody tr th {\n",
       "        vertical-align: top;\n",
       "    }\n",
       "\n",
       "    .dataframe thead th {\n",
       "        text-align: right;\n",
       "    }\n",
       "</style>\n",
       "<table border=\"1\" class=\"dataframe\">\n",
       "  <thead>\n",
       "    <tr style=\"text-align: right;\">\n",
       "      <th></th>\n",
       "      <th>Dim</th>\n",
       "      <th>Method</th>\n",
       "      <th>Value</th>\n",
       "      <th>Time</th>\n",
       "      <th>Best_Iter</th>\n",
       "    </tr>\n",
       "  </thead>\n",
       "  <tbody>\n",
       "    <tr>\n",
       "      <th>0</th>\n",
       "      <td>70</td>\n",
       "      <td>make_change_swap</td>\n",
       "      <td>24923</td>\n",
       "      <td>0.97</td>\n",
       "      <td>483</td>\n",
       "    </tr>\n",
       "  </tbody>\n",
       "</table>\n",
       "</div>"
      ],
      "text/plain": [
       "   Dim            Method  Value  Time  Best_Iter\n",
       "0   70  make_change_swap  24923  0.97        483"
      ]
     },
     "metadata": {},
     "output_type": "display_data"
    }
   ],
   "source": [
    "print('best:', solution_generation[best_i].__name__, values[best_i], times[best_i], iters[best_i])\n",
    "df_best = pd.DataFrame({'Dim': dim, 'Method':  solution_generation[best_i].__name__, 'Value': values[best_i], 'Time': times[best_i], 'Best_Iter': iters[best_i]}, index=[0])\n",
    "display(df_best)"
   ]
  },
  {
   "cell_type": "code",
   "execution_count": 14,
   "metadata": {},
   "outputs": [],
   "source": [
    "df = pd.read_csv('comparison_tables/bests.csv')\n",
    "row_to_update = df[df['Dim'] == num_nodes]\n",
    "\n",
    "# Check if the row exists\n",
    "if not row_to_update.empty:\n",
    "    # Update specific columns in the located row\n",
    "    df.loc[row_to_update.index, 'local_search'] = values[best_i]\n",
    "    df.loc[row_to_update.index, 'local_search_time'] = times[best_i]\n",
    "\n",
    "    # Save the updated DataFrame back to the CSV file\n",
    "    df.to_csv('comparison_tables/bests.csv', index=False)\n",
    "else:\n",
    "    new_row_data = {'Dim': num_nodes, 'local_search': value, 'local_search_time': duration}\n",
    "    df.loc[len(df)] = new_row_data\n",
    "    df.to_csv('comparison_tables/bests.csv', index=False)"
   ]
  },
  {
   "cell_type": "code",
   "execution_count": 15,
   "metadata": {},
   "outputs": [
    {
     "name": "stdout",
     "output_type": "stream",
     "text": [
      "average: [25422.0, 0.93, 492.0]\n"
     ]
    },
    {
     "data": {
      "text/html": [
       "<div>\n",
       "<style scoped>\n",
       "    .dataframe tbody tr th:only-of-type {\n",
       "        vertical-align: middle;\n",
       "    }\n",
       "\n",
       "    .dataframe tbody tr th {\n",
       "        vertical-align: top;\n",
       "    }\n",
       "\n",
       "    .dataframe thead th {\n",
       "        text-align: right;\n",
       "    }\n",
       "</style>\n",
       "<table border=\"1\" class=\"dataframe\">\n",
       "  <thead>\n",
       "    <tr style=\"text-align: right;\">\n",
       "      <th></th>\n",
       "      <th>Dim</th>\n",
       "      <th>Value</th>\n",
       "      <th>Time</th>\n",
       "      <th>Best_Iter</th>\n",
       "    </tr>\n",
       "  </thead>\n",
       "  <tbody>\n",
       "    <tr>\n",
       "      <th>0</th>\n",
       "      <td>70</td>\n",
       "      <td>25422.0</td>\n",
       "      <td>0.93</td>\n",
       "      <td>492.0</td>\n",
       "    </tr>\n",
       "  </tbody>\n",
       "</table>\n",
       "</div>"
      ],
      "text/plain": [
       "   Dim    Value  Time  Best_Iter\n",
       "0   70  25422.0  0.93      492.0"
      ]
     },
     "metadata": {},
     "output_type": "display_data"
    }
   ],
   "source": [
    "average = [average[0] / number_of_combinations, average[1] / number_of_combinations, average[2] / number_of_combinations]\n",
    "average = [round(num, 2) for num in average]\n",
    "print('average:', average)\n",
    "df_avg = pd.DataFrame({'Dim': dim, 'Value': average[0], 'Time': average[1], 'Best_Iter': average[2]}, index=[0])\n",
    "display(df_avg)"
   ]
  },
  {
   "cell_type": "code",
   "execution_count": 16,
   "metadata": {},
   "outputs": [],
   "source": [
    "df = pd.read_csv('comparison_tables/averages.csv')\n",
    "row_to_update = df[df['Dim'] == num_nodes]\n",
    "\n",
    "# Check if the row exists\n",
    "if not row_to_update.empty:\n",
    "    # Update specific columns in the located row\n",
    "    df.loc[row_to_update.index, 'local_search'] = average[0]\n",
    "    df.loc[row_to_update.index, 'local_search_time'] = average[1]\n",
    "\n",
    "    # Save the updated DataFrame back to the CSV file\n",
    "    df.to_csv('comparison_tables/averages.csv', index=False)\n",
    "else:\n",
    "    df.loc[len(df)] = {'Dim': num_nodes, 'local_search': average[0], 'local_search_time': average[1]}\n",
    "    df.to_csv('comparison_tables/averages.csv', index=False)"
   ]
  },
  {
   "cell_type": "markdown",
   "metadata": {},
   "source": [
    "<span style=\"font-size: larger;\">Local search with next permutation help</span>"
   ]
  },
  {
   "cell_type": "code",
   "execution_count": 17,
   "metadata": {},
   "outputs": [],
   "source": [
    "sols = []\n",
    "values = []\n",
    "iters = []\n",
    "times = []\n",
    "\n",
    "def local_search_with_permutation(graph, random_solution, value, num_iters, change_func):\n",
    "    solution = deepcopy(random_solution)\n",
    "    best_solution = deepcopy(solution)\n",
    "    best_value = value\n",
    "    best_i = None\n",
    "\n",
    "    for i in range(num_iters):\n",
    "        #print(solution, value, i)\n",
    "        new_solution = change_func(graph, solution)\n",
    "        new_value = dg.calculate_total_edge_length(graph, new_solution)\n",
    "\n",
    "        if new_value < value:\n",
    "            value = new_value\n",
    "            solution = deepcopy(new_solution)\n",
    "\n",
    "            if new_value < best_value:\n",
    "                best_i = i\n",
    "                best_value = new_value\n",
    "                best_solution = deepcopy(new_solution)\n",
    "\n",
    "        else:\n",
    "            perm_counter = 0\n",
    "            perm_limit = num_iters / (i+1)\n",
    "            while new_value >= value and perm_counter < perm_limit:    \n",
    "                new_solution = make_change_next_permutation(graph, new_solution)\n",
    "                new_value = dg.calculate_total_edge_length(graph, new_solution)\n",
    "                perm_counter += 1\n",
    "\n",
    "            if new_value < value:\n",
    "                value = new_value\n",
    "                solution = deepcopy(new_solution)\n",
    "\n",
    "                if new_value < best_value:\n",
    "                    best_i = i\n",
    "                    best_value = new_value\n",
    "                    best_solution = deepcopy(new_solution)\n",
    "              \n",
    "\n",
    "    return best_solution, best_value, best_i"
   ]
  },
  {
   "cell_type": "code",
   "execution_count": 18,
   "metadata": {},
   "outputs": [
    {
     "name": "stdout",
     "output_type": "stream",
     "text": [
      "[47, 12, 43, 58, 23, 9, 49, 38, 63, 46, 28, 34, 27, 62, 30, 56, 59, 18, 32, 50, 21, 39, 35, 0, 20, 16, 45, 60, 42, 44, 31, 26, 11, 33, 17, 64, 25, 36, 10, 8, 13, 48, 29, 19, 69, 53, 54, 3, 57, 4, 68, 2, 52, 14, 51, 15, 7, 37, 24, 66, 6, 40, 5, 65, 67, 55, 1, 61, 22, 41] 25982 497\n"
     ]
    }
   ],
   "source": [
    "start = time.time()\n",
    "solution, value, iter = local_search_with_permutation(graph, random_solution, total_edge_length, 500, change_func=make_change_inverse)\n",
    "end = time.time()\n",
    "duration = float(\"{:.2f}\".format(end - start))\n",
    "print(solution, value, iter)\n",
    "sols.append(solution)\n",
    "values.append(value)\n",
    "iters.append(iter)\n",
    "times.append(duration)"
   ]
  },
  {
   "cell_type": "code",
   "execution_count": 19,
   "metadata": {},
   "outputs": [
    {
     "name": "stdout",
     "output_type": "stream",
     "text": [
      "[10, 56, 45, 57, 43, 1, 7, 6, 55, 15, 14, 46, 34, 61, 4, 12, 39, 5, 51, 47, 58, 32, 23, 41, 67, 30, 63, 11, 38, 59, 49, 53, 17, 9, 8, 13, 29, 36, 64, 60, 19, 27, 33, 21, 16, 31, 28, 26, 35, 18, 62, 65, 44, 42, 54, 22, 0, 2, 66, 52, 68, 69, 48, 25, 50, 24, 37, 3, 40, 20] 25261 486\n"
     ]
    }
   ],
   "source": [
    "start = time.time()\n",
    "solution, value, iter = local_search_with_permutation(graph, random_solution, total_edge_length, 500, change_func=make_change_swap)\n",
    "end = time.time()\n",
    "duration = float(\"{:.2f}\".format(end - start))\n",
    "print(solution, value, iter)\n",
    "sols.append(solution)\n",
    "values.append(value)\n",
    "iters.append(iter)\n",
    "times.append(duration)"
   ]
  },
  {
   "cell_type": "code",
   "execution_count": 20,
   "metadata": {},
   "outputs": [
    {
     "name": "stdout",
     "output_type": "stream",
     "text": [
      "[6, 14, 62, 22, 30, 20, 4, 55, 3, 17, 19, 42, 51, 29, 44, 27, 18, 9, 35, 64, 63, 31, 32, 53, 7, 50, 11, 54, 16, 40, 69, 26, 56, 8, 39, 59, 47, 43, 46, 52, 21, 38, 60, 25, 48, 65, 36, 49, 13, 2, 41, 61, 57, 24, 34, 15, 12, 45, 33, 58, 0, 66, 67, 23, 37, 5, 1, 68, 10, 28] 25741 498\n"
     ]
    }
   ],
   "source": [
    "start = time.time()\n",
    "solution, value, iter = local_search_with_permutation(graph, random_solution, total_edge_length, 500, change_func=make_change_scramble)\n",
    "end = time.time()\n",
    "duration = float(\"{:.2f}\".format(end - start))\n",
    "print(solution, value, iter)\n",
    "sols.append(solution)\n",
    "values.append(value)\n",
    "iters.append(iter)\n",
    "times.append(duration)"
   ]
  },
  {
   "cell_type": "code",
   "execution_count": 21,
   "metadata": {},
   "outputs": [
    {
     "data": {
      "text/html": [
       "<div>\n",
       "<style scoped>\n",
       "    .dataframe tbody tr th:only-of-type {\n",
       "        vertical-align: middle;\n",
       "    }\n",
       "\n",
       "    .dataframe tbody tr th {\n",
       "        vertical-align: top;\n",
       "    }\n",
       "\n",
       "    .dataframe thead th {\n",
       "        text-align: right;\n",
       "    }\n",
       "</style>\n",
       "<table border=\"1\" class=\"dataframe\">\n",
       "  <thead>\n",
       "    <tr style=\"text-align: right;\">\n",
       "      <th></th>\n",
       "      <th>Dim</th>\n",
       "      <th>Method</th>\n",
       "      <th>Value</th>\n",
       "      <th>Time</th>\n",
       "    </tr>\n",
       "  </thead>\n",
       "  <tbody>\n",
       "    <tr>\n",
       "      <th>0</th>\n",
       "      <td>70</td>\n",
       "      <td>make_change_swap_with_permutation</td>\n",
       "      <td>25982</td>\n",
       "      <td>3.90</td>\n",
       "    </tr>\n",
       "    <tr>\n",
       "      <th>1</th>\n",
       "      <td>70</td>\n",
       "      <td>make_change_inverse_with_permutation</td>\n",
       "      <td>25261</td>\n",
       "      <td>5.99</td>\n",
       "    </tr>\n",
       "    <tr>\n",
       "      <th>2</th>\n",
       "      <td>70</td>\n",
       "      <td>make_change_scramble_with_permutation</td>\n",
       "      <td>25741</td>\n",
       "      <td>6.83</td>\n",
       "    </tr>\n",
       "  </tbody>\n",
       "</table>\n",
       "</div>"
      ],
      "text/plain": [
       "   Dim                                 Method  Value  Time\n",
       "0   70      make_change_swap_with_permutation  25982  3.90\n",
       "1   70   make_change_inverse_with_permutation  25261  5.99\n",
       "2   70  make_change_scramble_with_permutation  25741  6.83"
      ]
     },
     "metadata": {},
     "output_type": "display_data"
    }
   ],
   "source": [
    "#generating comparison table\n",
    "from IPython.display import display\n",
    "import pandas as pd\n",
    "dim = num_nodes\n",
    "\n",
    "results = []\n",
    "\n",
    "best = float('inf')\n",
    "best_i = -1\n",
    "\n",
    "average = [0,0,0]\n",
    "\n",
    "number_of_combinations = 0\n",
    "\n",
    "solution_generation = [make_change_swap, make_change_inverse, make_change_scramble]\n",
    "for i, sg in enumerate(solution_generation):\n",
    "    method = sg.__name__ + '_with_permutation'\n",
    "    results.append({'Dim': dim, 'Method': method, 'Value': values[i], 'Time': times[i], 'Best_Iter': iters[i]})\n",
    "\n",
    "    if values[i] == best:\n",
    "        if times[i] <= times[best_i]:\n",
    "            best = values[i]\n",
    "            best_i = i\n",
    "\n",
    "    if values[i] < best:\n",
    "        best = values[i]\n",
    "        best_i = i    \n",
    "\n",
    "    average[0] += values[i]\n",
    "    average[1] += times[i] \n",
    "    average[2] += iters[i]\n",
    "\n",
    "    number_of_combinations += 1\n",
    "\n",
    "df = pd.DataFrame(results)\n",
    "#display(df)\n",
    "display(df.drop('Best_Iter', axis=1)) "
   ]
  },
  {
   "cell_type": "code",
   "execution_count": 22,
   "metadata": {},
   "outputs": [
    {
     "name": "stdout",
     "output_type": "stream",
     "text": [
      "best: make_change_inverse 25261 5.99 486\n"
     ]
    },
    {
     "data": {
      "text/html": [
       "<div>\n",
       "<style scoped>\n",
       "    .dataframe tbody tr th:only-of-type {\n",
       "        vertical-align: middle;\n",
       "    }\n",
       "\n",
       "    .dataframe tbody tr th {\n",
       "        vertical-align: top;\n",
       "    }\n",
       "\n",
       "    .dataframe thead th {\n",
       "        text-align: right;\n",
       "    }\n",
       "</style>\n",
       "<table border=\"1\" class=\"dataframe\">\n",
       "  <thead>\n",
       "    <tr style=\"text-align: right;\">\n",
       "      <th></th>\n",
       "      <th>Dim</th>\n",
       "      <th>Method</th>\n",
       "      <th>Value</th>\n",
       "      <th>Time</th>\n",
       "      <th>Best_Iter</th>\n",
       "    </tr>\n",
       "  </thead>\n",
       "  <tbody>\n",
       "    <tr>\n",
       "      <th>0</th>\n",
       "      <td>70</td>\n",
       "      <td>make_change_inverse_with_permutation</td>\n",
       "      <td>25261</td>\n",
       "      <td>5.99</td>\n",
       "      <td>486</td>\n",
       "    </tr>\n",
       "  </tbody>\n",
       "</table>\n",
       "</div>"
      ],
      "text/plain": [
       "   Dim                                Method  Value  Time  Best_Iter\n",
       "0   70  make_change_inverse_with_permutation  25261  5.99        486"
      ]
     },
     "metadata": {},
     "output_type": "display_data"
    }
   ],
   "source": [
    "print('best:', solution_generation[best_i].__name__, values[best_i], times[best_i], iters[best_i])\n",
    "df_best = pd.DataFrame({'Dim': dim, 'Method':  solution_generation[best_i].__name__ + '_with_permutation', 'Value': values[best_i], 'Time': times[best_i], 'Best_Iter': iters[best_i]}, index=[0])\n",
    "display(df_best)"
   ]
  },
  {
   "cell_type": "code",
   "execution_count": 23,
   "metadata": {},
   "outputs": [],
   "source": [
    "df = pd.read_csv('comparison_tables/bests.csv')\n",
    "row_to_update = df[df['Dim'] == num_nodes]\n",
    "\n",
    "# Check if the row exists\n",
    "if not row_to_update.empty:\n",
    "    # Update specific columns in the located row\n",
    "    df.loc[row_to_update.index, 'local_search_perm'] = values[best_i]\n",
    "    df.loc[row_to_update.index, 'local_search_perm_time'] = times[best_i]\n",
    "\n",
    "    # Save the updated DataFrame back to the CSV file\n",
    "    df.to_csv('comparison_tables/bests.csv', index=False)\n",
    "else:\n",
    "    new_row_data = {'Dim': num_nodes, 'local_search_perm': value, 'local_search_perm_time': duration}\n",
    "    df.loc[len(df)] = new_row_data\n",
    "    df.to_csv('comparison_tables/bests.csv', index=False)"
   ]
  },
  {
   "cell_type": "code",
   "execution_count": 24,
   "metadata": {},
   "outputs": [
    {
     "name": "stdout",
     "output_type": "stream",
     "text": [
      "average: [25661.33, 5.57, 493.67]\n"
     ]
    },
    {
     "data": {
      "text/html": [
       "<div>\n",
       "<style scoped>\n",
       "    .dataframe tbody tr th:only-of-type {\n",
       "        vertical-align: middle;\n",
       "    }\n",
       "\n",
       "    .dataframe tbody tr th {\n",
       "        vertical-align: top;\n",
       "    }\n",
       "\n",
       "    .dataframe thead th {\n",
       "        text-align: right;\n",
       "    }\n",
       "</style>\n",
       "<table border=\"1\" class=\"dataframe\">\n",
       "  <thead>\n",
       "    <tr style=\"text-align: right;\">\n",
       "      <th></th>\n",
       "      <th>Dim</th>\n",
       "      <th>Value</th>\n",
       "      <th>Time</th>\n",
       "      <th>Best_Iter</th>\n",
       "    </tr>\n",
       "  </thead>\n",
       "  <tbody>\n",
       "    <tr>\n",
       "      <th>0</th>\n",
       "      <td>70</td>\n",
       "      <td>25661.33</td>\n",
       "      <td>5.57</td>\n",
       "      <td>493.67</td>\n",
       "    </tr>\n",
       "  </tbody>\n",
       "</table>\n",
       "</div>"
      ],
      "text/plain": [
       "   Dim     Value  Time  Best_Iter\n",
       "0   70  25661.33  5.57     493.67"
      ]
     },
     "metadata": {},
     "output_type": "display_data"
    }
   ],
   "source": [
    "average = [average[0] / number_of_combinations, average[1] / number_of_combinations, average[2] / number_of_combinations]\n",
    "average = [round(num, 2) for num in average]\n",
    "print('average:', average)\n",
    "df_avg = pd.DataFrame({'Dim': dim, 'Value': average[0], 'Time': average[1], 'Best_Iter': average[2]}, index=[0])\n",
    "display(df_avg)"
   ]
  },
  {
   "cell_type": "code",
   "execution_count": 25,
   "metadata": {},
   "outputs": [],
   "source": [
    "df = pd.read_csv('comparison_tables/averages.csv')\n",
    "row_to_update = df[df['Dim'] == num_nodes]\n",
    "\n",
    "# Check if the row exists\n",
    "if not row_to_update.empty:\n",
    "    # Update specific columns in the located row\n",
    "    df.loc[row_to_update.index, 'local_search_perm'] = average[0]\n",
    "    df.loc[row_to_update.index, 'local_search_perm_time'] = average[1]\n",
    "\n",
    "    # Save the updated DataFrame back to the CSV file\n",
    "    df.to_csv('comparison_tables/averages.csv', index=False)\n",
    "else:\n",
    "    df.loc[len(df)] = {'Dim': num_nodes, 'local_search_perm': average[0], 'local_search_perm_time': average[1]}\n",
    "    df.to_csv('comparison_tables/averages.csv', index=False)"
   ]
  },
  {
   "cell_type": "markdown",
   "metadata": {},
   "source": [
    "<span style=\"font-size: larger;\">Simulated annealing</span>"
   ]
  },
  {
   "cell_type": "code",
   "execution_count": 26,
   "metadata": {},
   "outputs": [],
   "source": [
    "sols = []\n",
    "values = []\n",
    "iters = []\n",
    "times = []\n",
    "\n",
    "def simulated_annealing(graph, random_solution, value, num_iters, change_func):\n",
    "    solution = deepcopy(random_solution)\n",
    "    best_solution = deepcopy(solution)\n",
    "    best_value = value\n",
    "    best_i = None\n",
    "\n",
    "    for i in range(1, num_iters + 1):\n",
    "        #print(solution, value)\n",
    "        new_solution = change_func(graph, solution)\n",
    "        new_value = dg.calculate_total_edge_length(graph, new_solution)\n",
    "\n",
    "        if new_value < value:\n",
    "            value = new_value\n",
    "            solution = deepcopy(new_solution)\n",
    "\n",
    "            if new_value < best_value:\n",
    "                best_i = i\n",
    "                best_value = new_value\n",
    "                best_solution = deepcopy(new_solution)\n",
    "\n",
    "        #elif random.random() < 1 / (i**0.5):\n",
    "        elif random.random() < 1 / i:\n",
    "            #print('divs')\n",
    "            value = new_value\n",
    "            solution = deepcopy(new_solution)\n",
    "\n",
    "    return best_solution, best_value, best_i"
   ]
  },
  {
   "cell_type": "code",
   "execution_count": 27,
   "metadata": {},
   "outputs": [
    {
     "name": "stdout",
     "output_type": "stream",
     "text": [
      "[9, 39, 50, 38, 7, 25, 3, 49, 24, 1, 30, 17, 37, 14, 40, 6, 12, 41, 51, 42, 46, 23, 60, 66, 67, 47, 65, 20, 63, 27, 69, 15, 61, 22, 11, 36, 13, 29, 53, 59, 58, 26, 64, 57, 68, 2, 31, 10, 21, 18, 52, 8, 48, 16, 0, 43, 32, 54, 34, 5, 56, 35, 62, 44, 45, 33, 28, 55, 4, 19] 25119 497\n"
     ]
    }
   ],
   "source": [
    "start = time.time()\n",
    "solution, value, iter = simulated_annealing(graph, random_solution, total_edge_length, 500, change_func=make_change_swap)\n",
    "end = time.time()\n",
    "duration = float(\"{:.2f}\".format(end - start))\n",
    "print(solution, value, iter)\n",
    "sols.append(solution)\n",
    "values.append(value)\n",
    "iters.append(iter)\n",
    "times.append(duration)"
   ]
  },
  {
   "cell_type": "code",
   "execution_count": 28,
   "metadata": {},
   "outputs": [
    {
     "name": "stdout",
     "output_type": "stream",
     "text": [
      "[37, 49, 43, 28, 26, 69, 50, 67, 40, 6, 36, 22, 65, 33, 52, 64, 24, 48, 3, 5, 42, 66, 15, 2, 7, 55, 60, 51, 25, 27, 17, 14, 53, 46, 61, 45, 16, 31, 4, 30, 35, 63, 29, 32, 57, 11, 8, 56, 38, 47, 10, 54, 21, 34, 59, 44, 39, 58, 13, 0, 19, 18, 12, 23, 62, 1, 20, 41, 9, 68] 26105 495\n"
     ]
    }
   ],
   "source": [
    "start = time.time()\n",
    "solution, value, iter = simulated_annealing(graph, random_solution, total_edge_length, 500, change_func=make_change_inverse)\n",
    "end = time.time()\n",
    "duration = float(\"{:.2f}\".format(end - start))\n",
    "print(solution, value, iter)\n",
    "sols.append(solution)\n",
    "values.append(value)\n",
    "iters.append(iter)\n",
    "times.append(duration)"
   ]
  },
  {
   "cell_type": "code",
   "execution_count": 29,
   "metadata": {},
   "outputs": [
    {
     "name": "stdout",
     "output_type": "stream",
     "text": [
      "[25, 7, 1, 6, 66, 14, 3, 67, 57, 41, 51, 55, 29, 22, 19, 13, 64, 37, 59, 69, 12, 20, 23, 50, 58, 2, 36, 40, 53, 0, 38, 63, 60, 61, 32, 11, 35, 47, 27, 31, 65, 52, 21, 10, 17, 9, 30, 44, 46, 33, 34, 54, 48, 26, 8, 56, 39, 43, 5, 68, 16, 18, 15, 42, 49, 45, 4, 62, 28, 24] 25241 488\n"
     ]
    }
   ],
   "source": [
    "start = time.time()\n",
    "solution, value, iter = simulated_annealing(graph, random_solution, total_edge_length, 500, change_func=make_change_scramble)\n",
    "end = time.time()\n",
    "duration = float(\"{:.2f}\".format(end - start))\n",
    "print(solution, value, iter)\n",
    "sols.append(solution)\n",
    "values.append(value)\n",
    "iters.append(iter)\n",
    "times.append(duration)"
   ]
  },
  {
   "cell_type": "code",
   "execution_count": 30,
   "metadata": {},
   "outputs": [
    {
     "data": {
      "text/html": [
       "<div>\n",
       "<style scoped>\n",
       "    .dataframe tbody tr th:only-of-type {\n",
       "        vertical-align: middle;\n",
       "    }\n",
       "\n",
       "    .dataframe tbody tr th {\n",
       "        vertical-align: top;\n",
       "    }\n",
       "\n",
       "    .dataframe thead th {\n",
       "        text-align: right;\n",
       "    }\n",
       "</style>\n",
       "<table border=\"1\" class=\"dataframe\">\n",
       "  <thead>\n",
       "    <tr style=\"text-align: right;\">\n",
       "      <th></th>\n",
       "      <th>Dim</th>\n",
       "      <th>Method</th>\n",
       "      <th>Value</th>\n",
       "      <th>Time</th>\n",
       "    </tr>\n",
       "  </thead>\n",
       "  <tbody>\n",
       "    <tr>\n",
       "      <th>0</th>\n",
       "      <td>70</td>\n",
       "      <td>simulated_annealing, make_change_swap</td>\n",
       "      <td>25119</td>\n",
       "      <td>1.14</td>\n",
       "    </tr>\n",
       "    <tr>\n",
       "      <th>1</th>\n",
       "      <td>70</td>\n",
       "      <td>simulated_annealing, make_change_inverse</td>\n",
       "      <td>26105</td>\n",
       "      <td>0.96</td>\n",
       "    </tr>\n",
       "    <tr>\n",
       "      <th>2</th>\n",
       "      <td>70</td>\n",
       "      <td>simulated_annealing, make_change_scramble</td>\n",
       "      <td>25241</td>\n",
       "      <td>1.01</td>\n",
       "    </tr>\n",
       "  </tbody>\n",
       "</table>\n",
       "</div>"
      ],
      "text/plain": [
       "   Dim                                     Method  Value  Time\n",
       "0   70      simulated_annealing, make_change_swap  25119  1.14\n",
       "1   70   simulated_annealing, make_change_inverse  26105  0.96\n",
       "2   70  simulated_annealing, make_change_scramble  25241  1.01"
      ]
     },
     "metadata": {},
     "output_type": "display_data"
    }
   ],
   "source": [
    "#generating comparison table\n",
    "from IPython.display import display\n",
    "import pandas as pd\n",
    "dim = num_nodes\n",
    "\n",
    "results = []\n",
    "\n",
    "best = float('inf')\n",
    "best_i = -1\n",
    "\n",
    "average = [0,0,0]\n",
    "\n",
    "number_of_combinations = 0\n",
    "\n",
    "solution_generation = [make_change_swap, make_change_inverse, make_change_scramble]\n",
    "for i, sg in enumerate(solution_generation):\n",
    "    method = sg.__name__\n",
    "    results.append({'Dim': dim, 'Method': 'simulated_annealing' + ', '  + method, 'Value': values[i], 'Time': times[i], 'Best_Iter': iters[i]})\n",
    "\n",
    "    if values[i] == best:\n",
    "        if times[i] <= times[best_i]:\n",
    "            best = values[i]\n",
    "            best_i = i\n",
    "\n",
    "    if values[i] < best:\n",
    "        best = values[i]\n",
    "        best_i = i\n",
    "\n",
    "    average[0] += values[i]\n",
    "    average[1] += times[i] \n",
    "    average[2] += iters[i]\n",
    "\n",
    "    number_of_combinations += 1\n",
    "\n",
    "df = pd.DataFrame(results)\n",
    "#display(df)\n",
    "display(df.drop('Best_Iter', axis=1)) "
   ]
  },
  {
   "cell_type": "code",
   "execution_count": 31,
   "metadata": {},
   "outputs": [
    {
     "name": "stdout",
     "output_type": "stream",
     "text": [
      "best: make_change_swap 25119 1.14 497\n"
     ]
    },
    {
     "data": {
      "text/html": [
       "<div>\n",
       "<style scoped>\n",
       "    .dataframe tbody tr th:only-of-type {\n",
       "        vertical-align: middle;\n",
       "    }\n",
       "\n",
       "    .dataframe tbody tr th {\n",
       "        vertical-align: top;\n",
       "    }\n",
       "\n",
       "    .dataframe thead th {\n",
       "        text-align: right;\n",
       "    }\n",
       "</style>\n",
       "<table border=\"1\" class=\"dataframe\">\n",
       "  <thead>\n",
       "    <tr style=\"text-align: right;\">\n",
       "      <th></th>\n",
       "      <th>Dim</th>\n",
       "      <th>Method</th>\n",
       "      <th>Value</th>\n",
       "      <th>Time</th>\n",
       "      <th>Best_Iter</th>\n",
       "    </tr>\n",
       "  </thead>\n",
       "  <tbody>\n",
       "    <tr>\n",
       "      <th>0</th>\n",
       "      <td>70</td>\n",
       "      <td>simulated_annealing, make_change_swap</td>\n",
       "      <td>25119</td>\n",
       "      <td>1.14</td>\n",
       "      <td>497</td>\n",
       "    </tr>\n",
       "  </tbody>\n",
       "</table>\n",
       "</div>"
      ],
      "text/plain": [
       "   Dim                                 Method  Value  Time  Best_Iter\n",
       "0   70  simulated_annealing, make_change_swap  25119  1.14        497"
      ]
     },
     "metadata": {},
     "output_type": "display_data"
    }
   ],
   "source": [
    "print('best:', solution_generation[best_i].__name__, values[best_i], times[best_i], iters[best_i])\n",
    "df_best = pd.DataFrame({'Dim': dim, 'Method':  'simulated_annealing' + ', '  + solution_generation[best_i].__name__, 'Value': values[best_i], 'Time': times[best_i], 'Best_Iter': iters[best_i]}, index=[0])\n",
    "display(df_best)"
   ]
  },
  {
   "cell_type": "code",
   "execution_count": 32,
   "metadata": {},
   "outputs": [],
   "source": [
    "df = pd.read_csv('comparison_tables/bests.csv')\n",
    "row_to_update = df[df['Dim'] == num_nodes]\n",
    "\n",
    "# Check if the row exists\n",
    "if not row_to_update.empty:\n",
    "    # Update specific columns in the located row\n",
    "    df.loc[row_to_update.index, 'sim_annealing'] = values[best_i]\n",
    "    df.loc[row_to_update.index, 'sim_annealing_time'] = times[best_i]\n",
    "\n",
    "    # Save the updated DataFrame back to the CSV file\n",
    "    df.to_csv('comparison_tables/bests.csv', index=False)\n",
    "else:\n",
    "    new_row_data = {'Dim': num_nodes, 'sim_annealing': value, 'sim_annealing_time': duration}\n",
    "    df.loc[len(df)] = new_row_data\n",
    "    df.to_csv('comparison_tables/bests.csv', index=False)"
   ]
  },
  {
   "cell_type": "code",
   "execution_count": 33,
   "metadata": {},
   "outputs": [
    {
     "name": "stdout",
     "output_type": "stream",
     "text": [
      "average: [25488.33, 1.04, 493.33]\n"
     ]
    },
    {
     "data": {
      "text/html": [
       "<div>\n",
       "<style scoped>\n",
       "    .dataframe tbody tr th:only-of-type {\n",
       "        vertical-align: middle;\n",
       "    }\n",
       "\n",
       "    .dataframe tbody tr th {\n",
       "        vertical-align: top;\n",
       "    }\n",
       "\n",
       "    .dataframe thead th {\n",
       "        text-align: right;\n",
       "    }\n",
       "</style>\n",
       "<table border=\"1\" class=\"dataframe\">\n",
       "  <thead>\n",
       "    <tr style=\"text-align: right;\">\n",
       "      <th></th>\n",
       "      <th>Dim</th>\n",
       "      <th>Value</th>\n",
       "      <th>Time</th>\n",
       "      <th>Best_Iter</th>\n",
       "    </tr>\n",
       "  </thead>\n",
       "  <tbody>\n",
       "    <tr>\n",
       "      <th>0</th>\n",
       "      <td>70</td>\n",
       "      <td>25488.33</td>\n",
       "      <td>1.04</td>\n",
       "      <td>493.33</td>\n",
       "    </tr>\n",
       "  </tbody>\n",
       "</table>\n",
       "</div>"
      ],
      "text/plain": [
       "   Dim     Value  Time  Best_Iter\n",
       "0   70  25488.33  1.04     493.33"
      ]
     },
     "metadata": {},
     "output_type": "display_data"
    }
   ],
   "source": [
    "average = [average[0] / number_of_combinations, average[1] / number_of_combinations, average[2] / number_of_combinations]\n",
    "average = [round(num, 2) for num in average]\n",
    "print('average:', average)\n",
    "df_avg = pd.DataFrame({'Dim': dim, 'Value': average[0], 'Time': average[1], 'Best_Iter': average[2]}, index=[0])\n",
    "display(df_avg)"
   ]
  },
  {
   "cell_type": "code",
   "execution_count": 34,
   "metadata": {},
   "outputs": [],
   "source": [
    "df = pd.read_csv('comparison_tables/averages.csv')\n",
    "row_to_update = df[df['Dim'] == num_nodes]\n",
    "\n",
    "# Check if the row exists\n",
    "if not row_to_update.empty:\n",
    "    # Update specific columns in the located row\n",
    "    df.loc[row_to_update.index, 'sim_annealing'] = average[0]\n",
    "    df.loc[row_to_update.index, 'sim_annealing_time'] = average[1]\n",
    "\n",
    "    # Save the updated DataFrame back to the CSV file\n",
    "    df.to_csv('comparison_tables/averages.csv', index=False)\n",
    "else:\n",
    "    df.loc[len(df)] = {'Dim': num_nodes, 'sim_annealing_perm': average[0], 'sim_annealing_time': average[1]}\n",
    "    df.to_csv('comparison_tables/averages.csv', index=False)"
   ]
  },
  {
   "cell_type": "markdown",
   "metadata": {},
   "source": [
    "<span style=\"font-size: larger;\">Variable neigborhood search</span>"
   ]
  },
  {
   "cell_type": "code",
   "execution_count": 35,
   "metadata": {},
   "outputs": [],
   "source": [
    "def shaking_swap(graph, solution, k):\n",
    "    new_solution = deepcopy(solution)\n",
    "    selected = random.sample(range(len(solution)), 2*k)\n",
    "    for i in range(0,len(selected), 2):\n",
    "        index1, index2 = selected[i], selected[i+1]\n",
    "        new_solution[index1], new_solution[index2] = new_solution[index2], new_solution[index1]\n",
    "    return new_solution    \n",
    "    "
   ]
  },
  {
   "cell_type": "code",
   "execution_count": 36,
   "metadata": {},
   "outputs": [],
   "source": [
    "def shaking_inverse(graph, solution, k):\n",
    "    new_solution = deepcopy(solution)\n",
    "    index1 = random.randint(0, len(solution))\n",
    "    if(index1 + k > len(solution)):\n",
    "        index1 = len(solution) - k\n",
    "    index2 = index1 + k                       \n",
    "    new_solution[index1:index2+1] = reversed(new_solution[index1:index2+1])  \n",
    "\n",
    "    return new_solution"
   ]
  },
  {
   "cell_type": "code",
   "execution_count": 37,
   "metadata": {},
   "outputs": [],
   "source": [
    "def vns(graph, random_solution, value, num_iters, change_func, shaking_func, local_search_func, k_min, k_max, move_prob):\n",
    "    solution = deepcopy(random_solution)\n",
    "    best_i = None\n",
    "    for i in range(num_iters):\n",
    "        for k in range(k_min, k_max):\n",
    "            #print('vns: ', solution, value, i)\n",
    "            new_solution = shaking_func(graph, solution, k) #diversification  \n",
    "\n",
    "            new_value = dg.calculate_total_edge_length(graph, new_solution)\n",
    "\n",
    "            #print('post shaking: ', new_solution, new_value, i)\n",
    "            new_solution, new_value, _= local_search_func(graph, new_solution, total_edge_length, 10, change_func)\n",
    "\n",
    "            if new_value < value or (new_value == value and random.random() < move_prob):\n",
    "                if(new_value < value):\n",
    "                    best_i = i\n",
    "\n",
    "                value = new_value\n",
    "\n",
    "                solution = deepcopy(new_solution)\n",
    "                \n",
    "    return solution, value, best_i"
   ]
  },
  {
   "cell_type": "code",
   "execution_count": 38,
   "metadata": {},
   "outputs": [
    {
     "name": "stdout",
     "output_type": "stream",
     "text": [
      "[20, 19, 41, 32, 55, 63, 28, 50, 23, 61, 14, 6, 7, 27, 38, 43, 66, 51, 69, 2, 33, 52, 57, 65, 11, 60, 40, 35, 58, 47, 64, 59, 48, 21, 36, 25, 4, 5, 34, 13, 0, 8, 22, 26, 16, 44, 17, 46, 56, 67, 62, 24, 30, 12, 10, 39, 42, 45, 31, 53, 29, 15, 18, 9, 54, 68, 37, 3, 1, 49] 24923 462\n"
     ]
    }
   ],
   "source": [
    "start = time.time()\n",
    "solution, value, iter = vns(graph, random_solution, total_edge_length, 500, change_func=make_change_inverse, shaking_func=shaking_swap, local_search_func = local_search, k_min=1, k_max=3, move_prob=0.4)\n",
    "end = time.time()\n",
    "duration = float(\"{:.2f}\".format(end - start))\n",
    "print(solution, value, iter)\n",
    "sols.append(solution)\n",
    "values.append(value)\n",
    "iters.append(iter)\n",
    "times.append(duration)"
   ]
  },
  {
   "cell_type": "code",
   "execution_count": 39,
   "metadata": {},
   "outputs": [
    {
     "name": "stdout",
     "output_type": "stream",
     "text": [
      "[58, 28, 62, 43, 23, 50, 49, 45, 10, 42, 38, 56, 46, 39, 30, 33, 54, 26, 55, 69, 25, 19, 66, 59, 61, 63, 32, 27, 11, 51, 17, 6, 8, 52, 16, 2, 21, 60, 31, 0, 15, 4, 35, 44, 41, 65, 5, 48, 47, 13, 34, 57, 36, 29, 24, 53, 40, 68, 64, 67, 18, 12, 22, 37, 7, 9, 14, 1, 3, 20] 24658 491\n"
     ]
    }
   ],
   "source": [
    "start = time.time()\n",
    "solution, value, iter = vns(graph, random_solution, total_edge_length, 500, change_func=make_change_inverse, shaking_func=shaking_inverse, local_search_func = local_search, k_min=3, k_max=6, move_prob=0.4)\n",
    "end = time.time()\n",
    "duration = float(\"{:.2f}\".format(end - start))\n",
    "print(solution, value, iter)\n",
    "sols.append(solution)\n",
    "values.append(value)\n",
    "iters.append(iter)\n",
    "times.append(duration)"
   ]
  },
  {
   "cell_type": "code",
   "execution_count": 40,
   "metadata": {},
   "outputs": [
    {
     "name": "stdout",
     "output_type": "stream",
     "text": [
      "[3, 1, 55, 10, 17, 18, 49, 68, 39, 37, 26, 25, 9, 29, 22, 53, 30, 31, 44, 27, 19, 42, 45, 62, 21, 15, 64, 13, 54, 8, 67, 2, 35, 59, 33, 16, 46, 32, 52, 0, 60, 24, 58, 4, 5, 48, 56, 34, 12, 47, 63, 36, 11, 40, 51, 43, 23, 69, 66, 7, 50, 6, 57, 61, 38, 20, 14, 65, 28, 41] 24421 494\n"
     ]
    }
   ],
   "source": [
    "start = time.time()\n",
    "solution, value, iter = vns(graph, random_solution, total_edge_length, 500, change_func=make_change_swap, shaking_func=shaking_swap, local_search_func = local_search, k_min=1, k_max=3, move_prob=0.4)\n",
    "end = time.time()\n",
    "duration = float(\"{:.2f}\".format(end - start))\n",
    "print(solution, value, iter)\n",
    "sols.append(solution)\n",
    "values.append(value)\n",
    "iters.append(iter)\n",
    "times.append(duration)"
   ]
  },
  {
   "cell_type": "code",
   "execution_count": 41,
   "metadata": {},
   "outputs": [
    {
     "name": "stdout",
     "output_type": "stream",
     "text": [
      "[3, 1, 14, 20, 68, 37, 9, 18, 49, 29, 53, 26, 22, 25, 17, 27, 55, 19, 64, 13, 31, 67, 10, 44, 69, 30, 33, 42, 58, 21, 51, 39, 11, 63, 52, 16, 54, 2, 59, 32, 0, 8, 66, 15, 4, 46, 24, 40, 65, 60, 35, 5, 34, 47, 12, 36, 45, 56, 23, 48, 62, 43, 38, 50, 61, 57, 6, 7, 41, 28] 23961 403\n"
     ]
    }
   ],
   "source": [
    "start = time.time()\n",
    "solution, value, iter = vns(graph, random_solution, total_edge_length, 500, change_func=make_change_swap, shaking_func=shaking_inverse, local_search_func = local_search, k_min=3, k_max=6, move_prob=0.4)\n",
    "end = time.time()\n",
    "duration = float(\"{:.2f}\".format(end - start))\n",
    "print(solution, value, iter)\n",
    "sols.append(solution)\n",
    "values.append(value)\n",
    "iters.append(iter)\n",
    "times.append(duration)"
   ]
  },
  {
   "cell_type": "code",
   "execution_count": 42,
   "metadata": {},
   "outputs": [
    {
     "name": "stdout",
     "output_type": "stream",
     "text": [
      "[20, 14, 3, 15, 53, 1, 49, 68, 37, 10, 9, 55, 29, 27, 18, 17, 25, 64, 7, 13, 30, 67, 65, 36, 26, 57, 31, 69, 22, 24, 48, 12, 40, 6, 46, 21, 54, 52, 11, 51, 66, 8, 38, 60, 35, 61, 32, 2, 47, 16, 63, 0, 19, 4, 59, 41, 39, 42, 5, 50, 33, 23, 58, 43, 44, 34, 56, 28, 62, 45] 24690 490\n"
     ]
    }
   ],
   "source": [
    "start = time.time()\n",
    "solution, value, iter = vns(graph, random_solution, total_edge_length, 500, change_func=make_change_scramble, shaking_func=shaking_swap, local_search_func = local_search, k_min=1, k_max=3, move_prob=0.4)\n",
    "end = time.time()\n",
    "duration = float(\"{:.2f}\".format(end - start))\n",
    "print(solution, value, iter)\n",
    "sols.append(solution)\n",
    "values.append(value)\n",
    "iters.append(iter)\n",
    "times.append(duration)"
   ]
  },
  {
   "cell_type": "code",
   "execution_count": 43,
   "metadata": {},
   "outputs": [
    {
     "name": "stdout",
     "output_type": "stream",
     "text": [
      "[1, 10, 55, 22, 68, 7, 49, 67, 20, 19, 0, 53, 29, 12, 15, 13, 58, 66, 61, 23, 37, 64, 34, 2, 69, 11, 31, 59, 30, 33, 27, 56, 18, 21, 16, 35, 44, 8, 32, 60, 39, 52, 63, 5, 45, 47, 46, 62, 9, 51, 42, 43, 26, 24, 17, 3, 14, 36, 57, 65, 48, 25, 50, 38, 40, 6, 4, 41, 54, 28] 24965 476\n"
     ]
    }
   ],
   "source": [
    "start = time.time()\n",
    "solution, value, iter = vns(graph, random_solution, total_edge_length, 500, change_func=make_change_scramble, shaking_func=shaking_inverse, local_search_func = local_search, k_min=3, k_max=6, move_prob=0.4)\n",
    "end = time.time()\n",
    "duration = float(\"{:.2f}\".format(end - start))\n",
    "print(solution, value, iter)\n",
    "sols.append(solution)\n",
    "values.append(value)\n",
    "iters.append(iter)\n",
    "times.append(duration)"
   ]
  },
  {
   "cell_type": "code",
   "execution_count": 44,
   "metadata": {},
   "outputs": [
    {
     "name": "stdout",
     "output_type": "stream",
     "text": [
      "[9, 3, 26, 37, 1, 14, 25, 24, 36, 17, 48, 50, 40, 6, 49, 7, 64, 65, 27, 13, 67, 22, 66, 30, 69, 20, 68, 42, 38, 55, 15, 51, 12, 18, 63, 53, 52, 16, 61, 60, 11, 47, 31, 8, 19, 2, 59, 29, 39, 35, 32, 56, 33, 57, 46, 0, 34, 5, 62, 44, 45, 21, 58, 43, 54, 4, 10, 23, 41, 28] 24389 484\n"
     ]
    }
   ],
   "source": [
    "start = time.time()\n",
    "solution, value, iter = vns(graph, random_solution, total_edge_length, 500, change_func=make_change_swap, shaking_func=shaking_swap, local_search_func = local_search_with_permutation, k_min=1, k_max=3, move_prob=0.4)\n",
    "end = time.time()\n",
    "duration = float(\"{:.2f}\".format(end - start))\n",
    "print(solution, value, iter)\n",
    "sols.append(solution)\n",
    "values.append(value)\n",
    "iters.append(iter)\n",
    "times.append(duration)"
   ]
  },
  {
   "cell_type": "code",
   "execution_count": 45,
   "metadata": {},
   "outputs": [
    {
     "name": "stdout",
     "output_type": "stream",
     "text": [
      "[55, 1, 28, 41, 4, 14, 23, 6, 40, 66, 10, 15, 50, 65, 67, 3, 24, 48, 0, 12, 36, 59, 13, 17, 39, 29, 30, 60, 46, 56, 42, 58, 27, 31, 51, 35, 63, 21, 16, 8, 44, 34, 5, 45, 32, 47, 38, 2, 61, 69, 43, 57, 33, 54, 62, 26, 25, 52, 9, 53, 18, 11, 37, 64, 49, 19, 68, 7, 22, 20] 24808 497\n"
     ]
    }
   ],
   "source": [
    "start = time.time()\n",
    "solution, value, iter = vns(graph, random_solution, total_edge_length, 500, change_func=make_change_swap, shaking_func=shaking_inverse, local_search_func = local_search_with_permutation, k_min=3, k_max=6, move_prob=0.4)\n",
    "end = time.time()\n",
    "duration = float(\"{:.2f}\".format(end - start))\n",
    "print(solution, value, iter)\n",
    "sols.append(solution)\n",
    "values.append(value)\n",
    "iters.append(iter)\n",
    "times.append(duration)"
   ]
  },
  {
   "cell_type": "code",
   "execution_count": 46,
   "metadata": {},
   "outputs": [
    {
     "name": "stdout",
     "output_type": "stream",
     "text": [
      "[20, 62, 28, 23, 41, 43, 65, 47, 34, 57, 50, 11, 63, 5, 7, 52, 22, 48, 45, 38, 35, 44, 2, 40, 8, 36, 6, 33, 16, 32, 60, 0, 56, 59, 46, 29, 61, 69, 24, 64, 4, 51, 13, 31, 21, 42, 15, 30, 66, 54, 27, 58, 67, 39, 17, 18, 3, 26, 9, 25, 14, 19, 37, 53, 68, 12, 49, 55, 10, 1] 24704 462\n"
     ]
    }
   ],
   "source": [
    "start = time.time()\n",
    "solution, value, iter = vns(graph, random_solution, total_edge_length, 500, change_func=make_change_inverse, shaking_func=shaking_swap, local_search_func = local_search_with_permutation, k_min=1, k_max=3, move_prob=0.4)\n",
    "end = time.time()\n",
    "duration = float(\"{:.2f}\".format(end - start))\n",
    "print(solution, value, iter)\n",
    "sols.append(solution)\n",
    "values.append(value)\n",
    "iters.append(iter)\n",
    "times.append(duration)"
   ]
  },
  {
   "cell_type": "code",
   "execution_count": 47,
   "metadata": {},
   "outputs": [
    {
     "name": "stdout",
     "output_type": "stream",
     "text": [
      "[28, 62, 54, 49, 45, 33, 42, 10, 50, 15, 46, 23, 18, 4, 29, 39, 0, 68, 67, 56, 9, 1, 44, 21, 3, 5, 32, 36, 16, 53, 43, 26, 34, 58, 12, 8, 31, 24, 2, 35, 61, 60, 41, 30, 47, 57, 48, 59, 69, 64, 38, 37, 13, 52, 17, 51, 63, 11, 40, 27, 6, 7, 66, 25, 19, 14, 55, 22, 65, 20] 24290 485\n"
     ]
    }
   ],
   "source": [
    "start = time.time()\n",
    "solution, value, iter = vns(graph, random_solution, total_edge_length, 500, change_func=make_change_inverse, shaking_func=shaking_inverse, local_search_func = local_search_with_permutation, k_min=3, k_max=6, move_prob=0.4)\n",
    "end = time.time()\n",
    "duration = float(\"{:.2f}\".format(end - start))\n",
    "print(solution, value, iter)\n",
    "sols.append(solution)\n",
    "values.append(value)\n",
    "iters.append(iter)\n",
    "times.append(duration)"
   ]
  },
  {
   "cell_type": "code",
   "execution_count": 48,
   "metadata": {},
   "outputs": [
    {
     "name": "stdout",
     "output_type": "stream",
     "text": [
      "[55, 49, 14, 7, 25, 10, 12, 53, 54, 48, 37, 38, 61, 6, 17, 58, 26, 9, 27, 57, 66, 69, 51, 36, 46, 23, 42, 67, 33, 30, 59, 16, 45, 60, 24, 15, 56, 13, 40, 43, 4, 2, 8, 64, 34, 31, 63, 44, 18, 29, 11, 32, 47, 62, 21, 35, 0, 39, 52, 5, 68, 50, 1, 41, 22, 20, 19, 3, 65, 28] 24845 441\n"
     ]
    }
   ],
   "source": [
    "start = time.time()\n",
    "solution, value, iter = vns(graph, random_solution, total_edge_length, 500, change_func=make_change_scramble, shaking_func=shaking_swap, local_search_func = local_search_with_permutation, k_min=1, k_max=3, move_prob=0.4)\n",
    "end = time.time()\n",
    "duration = float(\"{:.2f}\".format(end - start))\n",
    "print(solution, value, iter)\n",
    "sols.append(solution)\n",
    "values.append(value)\n",
    "iters.append(iter)\n",
    "times.append(duration)"
   ]
  },
  {
   "cell_type": "code",
   "execution_count": 49,
   "metadata": {},
   "outputs": [
    {
     "name": "stdout",
     "output_type": "stream",
     "text": [
      "[28, 1, 20, 3, 7, 55, 22, 30, 29, 14, 67, 49, 9, 53, 61, 12, 57, 23, 32, 41, 46, 10, 33, 6, 36, 27, 51, 21, 45, 17, 59, 39, 44, 35, 31, 68, 64, 16, 34, 11, 63, 69, 15, 18, 8, 56, 47, 13, 60, 58, 48, 26, 42, 38, 43, 2, 24, 4, 37, 25, 40, 50, 5, 52, 66, 65, 0, 19, 54, 62] 24753 467\n"
     ]
    }
   ],
   "source": [
    "start = time.time()\n",
    "solution, value, iter = vns(graph, random_solution, total_edge_length, 500, change_func=make_change_scramble, shaking_func=shaking_inverse, local_search_func = local_search_with_permutation, k_min=3, k_max=6, move_prob=0.4)\n",
    "end = time.time()\n",
    "duration = float(\"{:.2f}\".format(end - start))\n",
    "print(solution, value, iter)\n",
    "sols.append(solution)\n",
    "values.append(value)\n",
    "iters.append(iter)\n",
    "times.append(duration)"
   ]
  },
  {
   "cell_type": "code",
   "execution_count": 50,
   "metadata": {},
   "outputs": [
    {
     "name": "stdout",
     "output_type": "stream",
     "text": [
      "shaking_swap make_change_swap local_search  :  [23, 20, 19, 1, 25, 27, 49, 55, 28, 30, 9, 69, 14, 48, 3, 37, 66, 42, 6, 17, 40, 38, 64, 59, 29, 24, 11, 22, 52, 13, 67, 31, 26, 65, 51, 8, 2, 18, 53, 44, 50, 39, 15, 63, 12, 61, 32, 68, 56, 36, 46, 0, 60, 4, 33, 45, 54, 47, 43, 5, 41, 21, 10, 16, 57, 34, 35, 58, 62, 7] 25614 294 \n",
      "\n",
      "shaking_swap make_change_swap local_search_with_permutation  :  [53, 7, 49, 25, 45, 1, 37, 39, 3, 46, 24, 30, 5, 9, 26, 35, 12, 15, 48, 14, 36, 23, 18, 64, 40, 10, 56, 54, 43, 11, 4, 34, 57, 47, 61, 2, 31, 60, 58, 59, 42, 17, 16, 68, 8, 69, 51, 0, 41, 52, 32, 19, 21, 22, 62, 63, 65, 66, 44, 29, 6, 67, 33, 20, 13, 38, 50, 55, 27, 28] 25552 396 \n",
      "\n",
      "shaking_swap make_change_inverse local_search  :  [56, 10, 43, 42, 57, 44, 45, 5, 58, 34, 12, 47, 39, 28, 48, 29, 26, 2, 46, 23, 24, 21, 41, 54, 59, 33, 8, 52, 62, 18, 65, 4, 7, 66, 17, 15, 60, 37, 32, 67, 49, 30, 11, 50, 13, 55, 19, 22, 63, 35, 0, 53, 27, 6, 36, 31, 61, 64, 14, 9, 38, 51, 16, 20, 69, 1, 40, 68, 25, 3] 26015 290 \n",
      "\n",
      "shaking_swap make_change_inverse local_search_with_permutation  :  [48, 20, 64, 57, 1, 58, 7, 69, 22, 13, 25, 6, 51, 14, 47, 65, 36, 19, 18, 38, 10, 37, 33, 21, 27, 11, 53, 9, 68, 49, 60, 34, 54, 52, 43, 32, 45, 12, 67, 17, 46, 40, 50, 61, 3, 31, 5, 8, 24, 56, 23, 29, 42, 44, 16, 39, 15, 63, 35, 59, 41, 4, 30, 2, 66, 0, 26, 28, 55, 62] 25902 208 \n",
      "\n",
      "shaking_swap make_change_scramble local_search  :  [14, 9, 55, 3, 27, 6, 51, 67, 37, 17, 31, 49, 24, 30, 65, 40, 64, 25, 15, 22, 12, 39, 48, 18, 20, 26, 7, 53, 42, 63, 46, 11, 69, 66, 56, 16, 13, 32, 19, 47, 29, 0, 52, 1, 8, 60, 59, 34, 2, 61, 5, 62, 41, 33, 44, 10, 50, 35, 36, 58, 68, 21, 57, 43, 54, 45, 4, 28, 38, 23] 25430 420 \n",
      "\n",
      "shaking_swap make_change_scramble local_search_with_permutation  :  [1, 14, 19, 22, 37, 3, 57, 11, 32, 45, 25, 20, 29, 7, 9, 6, 13, 51, 64, 12, 63, 36, 23, 27, 47, 67, 34, 61, 21, 68, 53, 31, 69, 59, 18, 56, 38, 35, 44, 46, 2, 8, 58, 49, 10, 16, 5, 17, 30, 60, 48, 66, 0, 50, 26, 33, 39, 55, 65, 4, 24, 28, 40, 62, 42, 54, 52, 15, 43, 41] 25837 429 \n",
      "\n",
      "shaking_inverse make_change_swap local_search  :  [28, 20, 23, 57, 41, 61, 38, 6, 34, 51, 2, 1, 7, 40, 67, 58, 13, 33, 12, 59, 30, 69, 50, 68, 47, 36, 37, 64, 60, 35, 29, 5, 32, 8, 63, 48, 11, 43, 16, 56, 22, 21, 46, 14, 53, 31, 65, 19, 17, 27, 26, 52, 66, 25, 44, 24, 55, 9, 4, 39, 45, 0, 42, 3, 54, 15, 62, 10, 18, 49] 25185 404 \n",
      "\n",
      "shaking_inverse make_change_swap local_search_with_permutation  :  [1, 55, 7, 14, 22, 57, 65, 20, 69, 9, 53, 58, 33, 10, 36, 64, 11, 25, 19, 26, 17, 49, 38, 43, 67, 30, 13, 63, 37, 3, 42, 54, 46, 66, 27, 23, 52, 12, 59, 21, 60, 47, 61, 51, 2, 32, 31, 29, 34, 0, 18, 35, 39, 16, 8, 56, 44, 62, 5, 6, 48, 41, 68, 50, 15, 40, 45, 24, 28, 4] 25064 422 \n",
      "\n",
      "shaking_inverse make_change_inverse local_search  :  [49, 55, 41, 7, 38, 43, 6, 20, 51, 14, 68, 32, 63, 46, 61, 58, 12, 16, 57, 59, 29, 23, 17, 27, 34, 1, 30, 11, 56, 39, 9, 8, 47, 60, 31, 21, 35, 45, 15, 42, 48, 18, 4, 64, 10, 13, 2, 62, 36, 28, 44, 69, 5, 67, 53, 24, 25, 26, 40, 52, 54, 0, 66, 37, 22, 33, 65, 3, 19, 50] 25562 488 \n",
      "\n",
      "shaking_inverse make_change_inverse local_search_with_permutation  :  [54, 55, 3, 15, 14, 37, 66, 10, 19, 22, 53, 13, 26, 59, 67, 18, 2, 68, 30, 1, 29, 56, 39, 8, 20, 4, 17, 0, 51, 9, 21, 35, 44, 64, 31, 32, 5, 42, 52, 24, 62, 33, 27, 34, 11, 69, 46, 25, 16, 49, 23, 36, 45, 12, 7, 43, 48, 60, 57, 38, 40, 63, 61, 58, 41, 50, 6, 65, 47, 28] 25125 490 \n",
      "\n",
      "shaking_inverse make_change_scramble local_search  :  [25, 28, 66, 27, 49, 10, 42, 40, 24, 17, 6, 37, 39, 67, 46, 36, 50, 51, 23, 62, 54, 26, 9, 38, 45, 64, 48, 18, 16, 56, 69, 8, 31, 7, 30, 60, 43, 33, 11, 61, 63, 34, 2, 41, 53, 59, 52, 29, 32, 44, 15, 35, 47, 58, 68, 13, 21, 12, 1, 57, 55, 5, 22, 20, 19, 4, 65, 3, 14, 0] 25713 123 \n",
      "\n",
      "shaking_inverse make_change_scramble local_search_with_permutation  :  [20, 28, 1, 34, 23, 41, 57, 62, 19, 7, 32, 5, 64, 22, 68, 52, 58, 11, 35, 12, 47, 0, 36, 21, 44, 54, 16, 33, 46, 18, 4, 43, 13, 63, 29, 8, 67, 37, 59, 6, 40, 60, 14, 53, 2, 26, 15, 31, 69, 10, 39, 3, 66, 61, 45, 56, 50, 42, 30, 51, 48, 25, 9, 17, 49, 65, 24, 38, 27, 55] 25224 447 \n",
      "\n"
     ]
    }
   ],
   "source": [
    "n = len(graph)\n",
    "\n",
    "oc = False\n",
    "\n",
    "shakings = [shaking_swap, shaking_inverse]\n",
    "changes_funcs = [make_change_swap, make_change_inverse, make_change_scramble]\n",
    "search_funcs = [local_search, local_search_with_permutation]\n",
    "\n",
    "number_of_combinations = 0\n",
    "\n",
    "sols = []\n",
    "values =[]\n",
    "times = []\n",
    "\n",
    "methods = []\n",
    "\n",
    "results = []\n",
    "\n",
    "best = float('inf')\n",
    "best_i = -1\n",
    "\n",
    "average = [0,0]\n",
    "\n",
    "k_min = int(0.1 * num_nodes)\n",
    "k_max = int(0.3 * num_nodes)\n",
    "for shake in shakings:\n",
    "    for change in changes_funcs:\n",
    "        for search in search_funcs:\n",
    "            if shake.__name__ == 'shaking_inverse':\n",
    "                k_min = int(0.3 * num_nodes)\n",
    "                k_max = int(0.6 * num_nodes)\n",
    "\n",
    "            start = time.time()    \n",
    "            sol, value, iter = vns(graph, \n",
    "                                   random_solution, \n",
    "                                   total_edge_length, \n",
    "                                   500, \n",
    "                                   change_func=change, \n",
    "                                   shaking_func=shake, \n",
    "                                   local_search_func = search, \n",
    "                                   k_min=k_min,\n",
    "                                   k_max=k_max, \n",
    "                                   move_prob=0.4)\n",
    "            end = time.time()\n",
    "            duration = float(\"{:.2f}\".format(end - start))\n",
    "            \n",
    "            print(shake.__name__, change.__name__, search.__name__, ' : ', sol, value, iter, '\\n')\n",
    "            \n",
    "            k_min = int(0.1 * num_nodes)\n",
    "            k_max = int(0.3 * num_nodes)\n",
    "\n",
    "            sols.append(sol)\n",
    "            values.append(value)\n",
    "            iters.append(iter)\n",
    "            times.append(duration)\n",
    "\n",
    "            methods.append(str(shake.__name__ + ', ' + change.__name__ + ', ' + search.__name__))\n",
    "\n",
    "            results.append({'Dim': num_nodes, 'Method': methods[number_of_combinations], 'Value': abs(value), 'Time': duration})\n",
    "\n",
    "            if value == best:\n",
    "                if duration <= times[best_i]:    \n",
    "                    best = value\n",
    "                    best_i = number_of_combinations\n",
    "\n",
    "            if value < best:\n",
    "                best = value\n",
    "                best_i = number_of_combinations            \n",
    "\n",
    "            average[0] += value\n",
    "            average[1] += duration\n",
    "\n",
    "            number_of_combinations += 1    \n"
   ]
  },
  {
   "cell_type": "code",
   "execution_count": 51,
   "metadata": {},
   "outputs": [
    {
     "data": {
      "text/html": [
       "<div>\n",
       "<style scoped>\n",
       "    .dataframe tbody tr th:only-of-type {\n",
       "        vertical-align: middle;\n",
       "    }\n",
       "\n",
       "    .dataframe tbody tr th {\n",
       "        vertical-align: top;\n",
       "    }\n",
       "\n",
       "    .dataframe thead th {\n",
       "        text-align: right;\n",
       "    }\n",
       "</style>\n",
       "<table border=\"1\" class=\"dataframe\">\n",
       "  <thead>\n",
       "    <tr style=\"text-align: right;\">\n",
       "      <th></th>\n",
       "      <th>Dim</th>\n",
       "      <th>Method</th>\n",
       "      <th>Value</th>\n",
       "      <th>Time</th>\n",
       "    </tr>\n",
       "  </thead>\n",
       "  <tbody>\n",
       "    <tr>\n",
       "      <th>0</th>\n",
       "      <td>70</td>\n",
       "      <td>shaking_swap, make_change_swap, local_search</td>\n",
       "      <td>25614</td>\n",
       "      <td>84.11</td>\n",
       "    </tr>\n",
       "    <tr>\n",
       "      <th>1</th>\n",
       "      <td>70</td>\n",
       "      <td>shaking_swap, make_change_swap, local_search_w...</td>\n",
       "      <td>25552</td>\n",
       "      <td>195.88</td>\n",
       "    </tr>\n",
       "    <tr>\n",
       "      <th>2</th>\n",
       "      <td>70</td>\n",
       "      <td>shaking_swap, make_change_inverse, local_search</td>\n",
       "      <td>26015</td>\n",
       "      <td>80.50</td>\n",
       "    </tr>\n",
       "    <tr>\n",
       "      <th>3</th>\n",
       "      <td>70</td>\n",
       "      <td>shaking_swap, make_change_inverse, local_searc...</td>\n",
       "      <td>25902</td>\n",
       "      <td>198.20</td>\n",
       "    </tr>\n",
       "    <tr>\n",
       "      <th>4</th>\n",
       "      <td>70</td>\n",
       "      <td>shaking_swap, make_change_scramble, local_search</td>\n",
       "      <td>25430</td>\n",
       "      <td>82.64</td>\n",
       "    </tr>\n",
       "    <tr>\n",
       "      <th>5</th>\n",
       "      <td>70</td>\n",
       "      <td>shaking_swap, make_change_scramble, local_sear...</td>\n",
       "      <td>25837</td>\n",
       "      <td>199.05</td>\n",
       "    </tr>\n",
       "    <tr>\n",
       "      <th>6</th>\n",
       "      <td>70</td>\n",
       "      <td>shaking_inverse, make_change_swap, local_search</td>\n",
       "      <td>25185</td>\n",
       "      <td>120.64</td>\n",
       "    </tr>\n",
       "    <tr>\n",
       "      <th>7</th>\n",
       "      <td>70</td>\n",
       "      <td>shaking_inverse, make_change_swap, local_searc...</td>\n",
       "      <td>25064</td>\n",
       "      <td>316.90</td>\n",
       "    </tr>\n",
       "    <tr>\n",
       "      <th>8</th>\n",
       "      <td>70</td>\n",
       "      <td>shaking_inverse, make_change_inverse, local_se...</td>\n",
       "      <td>25562</td>\n",
       "      <td>121.26</td>\n",
       "    </tr>\n",
       "    <tr>\n",
       "      <th>9</th>\n",
       "      <td>70</td>\n",
       "      <td>shaking_inverse, make_change_inverse, local_se...</td>\n",
       "      <td>25125</td>\n",
       "      <td>314.93</td>\n",
       "    </tr>\n",
       "    <tr>\n",
       "      <th>10</th>\n",
       "      <td>70</td>\n",
       "      <td>shaking_inverse, make_change_scramble, local_s...</td>\n",
       "      <td>25713</td>\n",
       "      <td>124.82</td>\n",
       "    </tr>\n",
       "    <tr>\n",
       "      <th>11</th>\n",
       "      <td>70</td>\n",
       "      <td>shaking_inverse, make_change_scramble, local_s...</td>\n",
       "      <td>25224</td>\n",
       "      <td>322.08</td>\n",
       "    </tr>\n",
       "  </tbody>\n",
       "</table>\n",
       "</div>"
      ],
      "text/plain": [
       "    Dim                                             Method  Value    Time\n",
       "0    70       shaking_swap, make_change_swap, local_search  25614   84.11\n",
       "1    70  shaking_swap, make_change_swap, local_search_w...  25552  195.88\n",
       "2    70    shaking_swap, make_change_inverse, local_search  26015   80.50\n",
       "3    70  shaking_swap, make_change_inverse, local_searc...  25902  198.20\n",
       "4    70   shaking_swap, make_change_scramble, local_search  25430   82.64\n",
       "5    70  shaking_swap, make_change_scramble, local_sear...  25837  199.05\n",
       "6    70    shaking_inverse, make_change_swap, local_search  25185  120.64\n",
       "7    70  shaking_inverse, make_change_swap, local_searc...  25064  316.90\n",
       "8    70  shaking_inverse, make_change_inverse, local_se...  25562  121.26\n",
       "9    70  shaking_inverse, make_change_inverse, local_se...  25125  314.93\n",
       "10   70  shaking_inverse, make_change_scramble, local_s...  25713  124.82\n",
       "11   70  shaking_inverse, make_change_scramble, local_s...  25224  322.08"
      ]
     },
     "metadata": {},
     "output_type": "display_data"
    }
   ],
   "source": [
    "df = pd.DataFrame(results)\n",
    "display(df)\n",
    "df.to_csv('comparison_tables/vns.csv', mode='a', header=not pd.io.common.file_exists('comparison_tables/vns.csv'), index=False)"
   ]
  },
  {
   "cell_type": "code",
   "execution_count": 52,
   "metadata": {},
   "outputs": [
    {
     "name": "stdout",
     "output_type": "stream",
     "text": [
      "best: shaking_inverse, make_change_swap, local_search_with_permutation 25064 316.9\n"
     ]
    },
    {
     "data": {
      "text/html": [
       "<div>\n",
       "<style scoped>\n",
       "    .dataframe tbody tr th:only-of-type {\n",
       "        vertical-align: middle;\n",
       "    }\n",
       "\n",
       "    .dataframe tbody tr th {\n",
       "        vertical-align: top;\n",
       "    }\n",
       "\n",
       "    .dataframe thead th {\n",
       "        text-align: right;\n",
       "    }\n",
       "</style>\n",
       "<table border=\"1\" class=\"dataframe\">\n",
       "  <thead>\n",
       "    <tr style=\"text-align: right;\">\n",
       "      <th></th>\n",
       "      <th>Dim</th>\n",
       "      <th>Method</th>\n",
       "      <th>Value</th>\n",
       "      <th>Time</th>\n",
       "    </tr>\n",
       "  </thead>\n",
       "  <tbody>\n",
       "    <tr>\n",
       "      <th>0</th>\n",
       "      <td>70</td>\n",
       "      <td>shaking_inverse, make_change_swap, local_searc...</td>\n",
       "      <td>25064</td>\n",
       "      <td>316.9</td>\n",
       "    </tr>\n",
       "  </tbody>\n",
       "</table>\n",
       "</div>"
      ],
      "text/plain": [
       "   Dim                                             Method  Value   Time\n",
       "0   70  shaking_inverse, make_change_swap, local_searc...  25064  316.9"
      ]
     },
     "metadata": {},
     "output_type": "display_data"
    }
   ],
   "source": [
    "print('best:', methods[best_i], values[best_i], times[best_i])\n",
    "df_best = pd.DataFrame({'Dim': num_nodes, 'Method':  methods[best_i], 'Value': values[best_i], 'Time': times[best_i]}, index=[0])\n",
    "display(df_best)"
   ]
  },
  {
   "cell_type": "code",
   "execution_count": 53,
   "metadata": {},
   "outputs": [],
   "source": [
    "df = pd.read_csv('comparison_tables/bests.csv')\n",
    "row_to_update = df[df['Dim'] == num_nodes]\n",
    "\n",
    "# Check if the row exists\n",
    "if not row_to_update.empty:\n",
    "    # Update specific columns in the located row\n",
    "    df.loc[row_to_update.index, 'vns'] = values[best_i]\n",
    "    df.loc[row_to_update.index, 'vns_time'] = times[best_i]\n",
    "\n",
    "    # Save the updated DataFrame back to the CSV file\n",
    "    df.to_csv('comparison_tables/bests.csv', index=False)\n",
    "else:\n",
    "    new_row_data = {'Dim': num_nodes, 'vns': value, 'vns_time': duration}\n",
    "    df.loc[len(df)] = new_row_data\n",
    "    df.to_csv('comparison_tables/bests.csv', index=False)"
   ]
  },
  {
   "cell_type": "code",
   "execution_count": 54,
   "metadata": {},
   "outputs": [
    {
     "name": "stdout",
     "output_type": "stream",
     "text": [
      "average: [25518.58, 180.08]\n"
     ]
    },
    {
     "data": {
      "text/html": [
       "<div>\n",
       "<style scoped>\n",
       "    .dataframe tbody tr th:only-of-type {\n",
       "        vertical-align: middle;\n",
       "    }\n",
       "\n",
       "    .dataframe tbody tr th {\n",
       "        vertical-align: top;\n",
       "    }\n",
       "\n",
       "    .dataframe thead th {\n",
       "        text-align: right;\n",
       "    }\n",
       "</style>\n",
       "<table border=\"1\" class=\"dataframe\">\n",
       "  <thead>\n",
       "    <tr style=\"text-align: right;\">\n",
       "      <th></th>\n",
       "      <th>Dim</th>\n",
       "      <th>Value</th>\n",
       "      <th>Time</th>\n",
       "    </tr>\n",
       "  </thead>\n",
       "  <tbody>\n",
       "    <tr>\n",
       "      <th>0</th>\n",
       "      <td>70</td>\n",
       "      <td>25518.58</td>\n",
       "      <td>180.08</td>\n",
       "    </tr>\n",
       "  </tbody>\n",
       "</table>\n",
       "</div>"
      ],
      "text/plain": [
       "   Dim     Value    Time\n",
       "0   70  25518.58  180.08"
      ]
     },
     "metadata": {},
     "output_type": "display_data"
    }
   ],
   "source": [
    "average = [average[0] / number_of_combinations, average[1] / number_of_combinations]\n",
    "average = [round(num, 2) for num in average]\n",
    "print('average:', average)\n",
    "df_avg = pd.DataFrame({'Dim': num_nodes, 'Value': average[0], 'Time': average[1]}, index=[0])\n",
    "display(df_avg)"
   ]
  },
  {
   "cell_type": "code",
   "execution_count": 55,
   "metadata": {},
   "outputs": [],
   "source": [
    "df = pd.read_csv('comparison_tables/averages.csv')\n",
    "row_to_update = df[df['Dim'] == num_nodes]\n",
    "\n",
    "# Check if the row exists\n",
    "if not row_to_update.empty:\n",
    "    # Update specific columns in the located row\n",
    "    df.loc[row_to_update.index, 'vns'] = average[0]\n",
    "    df.loc[row_to_update.index, 'vns_time'] = average[1]\n",
    "\n",
    "    # Save the updated DataFrame back to the CSV file\n",
    "    df.to_csv('comparison_tables/averages.csv', index=False)\n",
    "else:\n",
    "    df.loc[len(df)] = {'Dim': num_nodes, 'vns_perm': average[0], 'vns_time': average[1]}\n",
    "    df.to_csv('comparison_tables/averages.csv', index=False)"
   ]
  }
 ],
 "metadata": {
  "kernelspec": {
   "display_name": "Python 3",
   "language": "python",
   "name": "python3"
  },
  "language_info": {
   "codemirror_mode": {
    "name": "ipython",
    "version": 3
   },
   "file_extension": ".py",
   "mimetype": "text/x-python",
   "name": "python",
   "nbconvert_exporter": "python",
   "pygments_lexer": "ipython3",
   "version": "3.10.11"
  }
 },
 "nbformat": 4,
 "nbformat_minor": 2
}
