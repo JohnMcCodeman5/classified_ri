{
 "cells": [
  {
   "cell_type": "code",
   "execution_count": 90,
   "id": "1128ab32-1c84-4e91-9cf2-4939dba19fa5",
   "metadata": {},
   "outputs": [],
   "source": [
    "import random\n",
    "import numpy as np\n",
    "import pandas as pd\n",
    "from matplotlib import pyplot as plt\n",
    "from copy import deepcopy"
   ]
  },
  {
   "cell_type": "code",
   "execution_count": 91,
   "id": "022a406c-971e-49f1-98cf-6baec6177444",
   "metadata": {},
   "outputs": [
    {
     "name": "stdout",
     "output_type": "stream",
     "text": [
      "Random Graph (Adjacency Matrix):\n",
      "[0, 1, 0, 1, 1, 1, 1, 1, 0, 1]\n",
      "[1, 0, 1, 1, 0, 1, 0, 1, 1, 1]\n",
      "[0, 1, 0, 0, 1, 1, 1, 1, 1, 1]\n",
      "[1, 1, 0, 0, 1, 1, 0, 1, 0, 0]\n",
      "[1, 0, 1, 1, 0, 1, 0, 1, 1, 0]\n",
      "[1, 1, 1, 1, 1, 0, 0, 0, 1, 1]\n",
      "[1, 0, 1, 0, 0, 0, 0, 1, 0, 0]\n",
      "[1, 1, 1, 1, 1, 0, 1, 0, 0, 1]\n",
      "[0, 1, 1, 0, 1, 1, 0, 0, 0, 1]\n",
      "[1, 1, 1, 0, 0, 1, 0, 1, 1, 0]\n",
      "\n",
      "Random Solution (Permutation): [1, 6, 7, 4, 8, 0, 2, 5, 3, 9]\n",
      "Total Edge Length: 113\n"
     ]
    }
   ],
   "source": [
    "def generate_random_graph(num_nodes, probability):\n",
    "    graph = [[0] * num_nodes for _ in range(num_nodes)]\n",
    "    \n",
    "    for i in range(num_nodes):\n",
    "        for j in range(i + 1, num_nodes):\n",
    "            if random.random() < probability:\n",
    "                graph[i][j] = 1\n",
    "                graph[j][i] = 1\n",
    "\n",
    "    return graph\n",
    "\n",
    "def generate_random_solution(num_nodes):\n",
    "    nodes = list(range(num_nodes))\n",
    "    random.shuffle(nodes)\n",
    "    return nodes\n",
    "\n",
    "def calculate_total_edge_length(graph, solution):\n",
    "    total_length = 0\n",
    "    for i in range(len(graph)):\n",
    "        for j in range(i + 1, len(graph)):\n",
    "            if graph[i][j] == 1:\n",
    "                position_i = solution.index(i)\n",
    "                position_j = solution.index(j)\n",
    "                total_length += abs(position_i - position_j)\n",
    "    return total_length\n",
    "\n",
    "# Example usage:\n",
    "num_nodes = 10\n",
    "edge_probability = 0.5\n",
    "\n",
    "# Generate a random graph\n",
    "graph = generate_random_graph(num_nodes, edge_probability)\n",
    "\n",
    "# Generate a random solution\n",
    "random_solution = generate_random_solution(num_nodes)\n",
    "\n",
    "# Calculate the total edge length for the random solution\n",
    "total_edge_length = calculate_total_edge_length(graph, random_solution)\n",
    "\n",
    "print(\"Random Graph (Adjacency Matrix):\")\n",
    "for row in graph:\n",
    "    print(row)\n",
    "\n",
    "print(\"\\nRandom Solution (Permutation):\", random_solution)\n",
    "print(\"Total Edge Length:\", total_edge_length)"
   ]
  },
  {
   "cell_type": "code",
   "execution_count": 92,
   "metadata": {},
   "outputs": [],
   "source": [
    "import itertools\n",
    "\n",
    "def brute_force(graph):\n",
    "    num_nodes = len(graph)\n",
    "    best_solution = None\n",
    "    best_length = float('inf')\n",
    "\n",
    "    # Generate all permutations of nodes\n",
    "    all_permutations = itertools.permutations(range(num_nodes))\n",
    "\n",
    "    # Check total edge length for each permutation\n",
    "    for solution in all_permutations:\n",
    "        total_length = calculate_total_edge_length(graph, solution)\n",
    "        if total_length < best_length:\n",
    "            best_length = total_length\n",
    "            best_solution = solution\n",
    "\n",
    "    return best_solution, best_length"
   ]
  },
  {
   "cell_type": "code",
   "execution_count": 93,
   "metadata": {},
   "outputs": [
    {
     "data": {
      "text/plain": [
       "((6, 0, 3, 7, 4, 1, 2, 5, 9, 8), 85)"
      ]
     },
     "execution_count": 93,
     "metadata": {},
     "output_type": "execute_result"
    }
   ],
   "source": [
    "brute_force(graph)"
   ]
  },
  {
   "cell_type": "code",
   "execution_count": 94,
   "id": "c458b405-d051-4421-9e38-e70dbb56c899",
   "metadata": {},
   "outputs": [],
   "source": [
    "def make_change_swap(graph, solution):\n",
    "    new_solution = solution.copy()\n",
    "    \n",
    "    # Choose two distinct random indices\n",
    "    index1, index2 = random.sample(range(len(solution)), 2)\n",
    "    \n",
    "    # Swap the positions of the selected nodes\n",
    "    new_solution[index1], new_solution[index2] = new_solution[index2], new_solution[index1]\n",
    "\n",
    "    return new_solution"
   ]
  },
  {
   "cell_type": "code",
   "execution_count": 95,
   "metadata": {},
   "outputs": [],
   "source": [
    "def make_change_inverse(graph, solution):\n",
    "    new_solution = solution.copy()\n",
    "    \n",
    "    # Choose two distinct random indices\n",
    "    index1, index2 = sorted(random.sample(range(len(solution)), 2))\n",
    "    \n",
    "    # Reverse the subset of nodes between index1 and index2\n",
    "    new_solution[index1:index2+1] = reversed(new_solution[index1:index2+1])\n",
    "\n",
    "    return new_solution"
   ]
  },
  {
   "cell_type": "code",
   "execution_count": 96,
   "metadata": {},
   "outputs": [],
   "source": [
    "def make_change_next_permutation(graph, solution):\n",
    "    #based on the classic next permutation algorithm\n",
    "    new_solution = deepcopy(solution)\n",
    "    \n",
    "    n = len(new_solution)\n",
    "    \n",
    "    # Find the largest index k such that a[k] < a[k+1]\n",
    "    k = n - 2\n",
    "    while k >= 0 and new_solution[k] >= new_solution[k + 1]:\n",
    "        k -= 1\n",
    "\n",
    "    # If no such index exists, the permutation is the last one\n",
    "    if k == -1:\n",
    "        return sorted(new_solution)\n",
    "\n",
    "    # Find the largest index l greater than k such that a[k] < a[l]\n",
    "    l = n - 1\n",
    "    while new_solution[k] >= new_solution[l]:\n",
    "        l -= 1\n",
    "\n",
    "    # Swap a[k] and a[l]\n",
    "    new_solution[k], new_solution[l] = new_solution[l], new_solution[k]\n",
    "\n",
    "    # Reverse the sequence from a[k+1] up to and including the final element a[n-1]\n",
    "    new_solution[k + 1:] = reversed(new_solution[k + 1:])\n",
    "\n",
    "    return new_solution\n"
   ]
  },
  {
   "cell_type": "code",
   "execution_count": 97,
   "id": "7449cbc0",
   "metadata": {},
   "outputs": [],
   "source": [
    "def make_change_scramble(graph, solution):\n",
    "    new_solution = deepcopy(solution)\n",
    "    \n",
    "    start, end = sorted(random.sample(range(len(solution)), 2))\n",
    "\n",
    "    subset = solution[start:end+1]\n",
    "\n",
    "    random.shuffle(subset)\n",
    "\n",
    "    new_solution[start:end+1] = subset\n",
    "\n",
    "    return new_solution"
   ]
  },
  {
   "cell_type": "code",
   "execution_count": 98,
   "id": "d93a5e9c-5bf3-47b3-8dd6-afc4980aacff",
   "metadata": {},
   "outputs": [],
   "source": [
    "def local_search(graph, random_solution, value, num_iters, change_func):\n",
    "    solution = deepcopy(random_solution)\n",
    "    best_solution = deepcopy(solution)\n",
    "    best_value = value\n",
    "    best_i = None\n",
    "\n",
    "    for i in range(num_iters):\n",
    "        #print(solution, value, i)\n",
    "        new_solution = change_func(graph, solution)\n",
    "        new_value = calculate_total_edge_length(graph, new_solution)\n",
    "\n",
    "        if new_value < value:\n",
    "            value = new_value\n",
    "            solution = deepcopy(new_solution)\n",
    "\n",
    "            if new_value < best_value:\n",
    "                best_i = i\n",
    "                best_value = new_value\n",
    "                best_solution = deepcopy(new_solution)\n",
    "\n",
    "    return best_solution, best_value, best_i"
   ]
  },
  {
   "cell_type": "code",
   "execution_count": 99,
   "metadata": {},
   "outputs": [],
   "source": [
    "def local_search_first_improvement(graph, random_solution, value, num_iters, change_func):\n",
    "    pass"
   ]
  },
  {
   "cell_type": "code",
   "execution_count": 100,
   "metadata": {},
   "outputs": [],
   "source": [
    "def local_search_best_improvement(graph, random_solution, value, num_iters, change_func):\n",
    "    pass"
   ]
  },
  {
   "cell_type": "code",
   "execution_count": 101,
   "id": "986ae8a6-ff1c-47c5-a5d5-20195356d57a",
   "metadata": {},
   "outputs": [
    {
     "data": {
      "text/plain": [
       "([6, 3, 7, 0, 4, 1, 2, 5, 9, 8], 85, 147)"
      ]
     },
     "execution_count": 101,
     "metadata": {},
     "output_type": "execute_result"
    }
   ],
   "source": [
    "local_search(graph, random_solution, total_edge_length, 500, change_func=make_change_swap)"
   ]
  },
  {
   "cell_type": "code",
   "execution_count": 102,
   "metadata": {},
   "outputs": [
    {
     "data": {
      "text/plain": [
       "([6, 7, 0, 3, 4, 1, 2, 5, 9, 8], 85, 76)"
      ]
     },
     "execution_count": 102,
     "metadata": {},
     "output_type": "execute_result"
    }
   ],
   "source": [
    "local_search(graph, random_solution, total_edge_length, 500, change_func=make_change_inverse)"
   ]
  },
  {
   "cell_type": "code",
   "execution_count": 103,
   "id": "d6a2e07a",
   "metadata": {},
   "outputs": [
    {
     "data": {
      "text/plain": [
       "([6, 3, 7, 0, 4, 2, 1, 5, 9, 8], 85, 32)"
      ]
     },
     "execution_count": 103,
     "metadata": {},
     "output_type": "execute_result"
    }
   ],
   "source": [
    "local_search(graph, random_solution, total_edge_length, 500, change_func=make_change_scramble)"
   ]
  },
  {
   "cell_type": "code",
   "execution_count": 104,
   "metadata": {},
   "outputs": [],
   "source": [
    "def local_search_with_permutation(graph, random_solution, value, num_iters, change_func):\n",
    "    solution = deepcopy(random_solution)\n",
    "    best_solution = deepcopy(solution)\n",
    "    best_value = value\n",
    "    best_i = None\n",
    "\n",
    "    for i in range(num_iters):\n",
    "        #print(solution, value, i)\n",
    "        new_solution = change_func(graph, solution)\n",
    "        new_value = calculate_total_edge_length(graph, new_solution)\n",
    "\n",
    "        if new_value < value:\n",
    "            value = new_value\n",
    "            solution = deepcopy(new_solution)\n",
    "\n",
    "            if new_value < best_value:\n",
    "                best_i = i\n",
    "                best_value = new_value\n",
    "                best_solution = deepcopy(new_solution)\n",
    "\n",
    "        else:\n",
    "            perm_counter = 0\n",
    "            perm_limit = num_iters / (i+1)\n",
    "            while new_value >= value and perm_counter < perm_limit:    \n",
    "                new_solution = make_change_next_permutation(graph, new_solution)\n",
    "                new_value = calculate_total_edge_length(graph, new_solution)\n",
    "                perm_counter += 1\n",
    "\n",
    "            if new_value < value:\n",
    "                value = new_value\n",
    "                solution = deepcopy(new_solution)\n",
    "\n",
    "                if new_value < best_value:\n",
    "                    best_i = i\n",
    "                    best_value = new_value\n",
    "                    best_solution = deepcopy(new_solution)\n",
    "              \n",
    "\n",
    "    return best_solution, best_value, best_i\n",
    "\n"
   ]
  },
  {
   "cell_type": "code",
   "execution_count": 105,
   "metadata": {},
   "outputs": [
    {
     "data": {
      "text/plain": [
       "([8, 4, 3, 5, 0, 1, 9, 2, 7, 6], 88, 48)"
      ]
     },
     "execution_count": 105,
     "metadata": {},
     "output_type": "execute_result"
    }
   ],
   "source": [
    "local_search_with_permutation(graph, random_solution, total_edge_length, 500, change_func=make_change_inverse)"
   ]
  },
  {
   "cell_type": "code",
   "execution_count": 106,
   "metadata": {},
   "outputs": [
    {
     "data": {
      "text/plain": [
       "([6, 2, 7, 9, 8, 1, 5, 0, 4, 3], 88, 46)"
      ]
     },
     "execution_count": 106,
     "metadata": {},
     "output_type": "execute_result"
    }
   ],
   "source": [
    "local_search_with_permutation(graph, random_solution, total_edge_length, 500, change_func=make_change_swap)"
   ]
  },
  {
   "cell_type": "code",
   "execution_count": 107,
   "id": "3d744291",
   "metadata": {},
   "outputs": [
    {
     "data": {
      "text/plain": [
       "([6, 3, 0, 7, 4, 1, 2, 5, 9, 8], 85, 143)"
      ]
     },
     "execution_count": 107,
     "metadata": {},
     "output_type": "execute_result"
    }
   ],
   "source": [
    "local_search_with_permutation(graph, random_solution, total_edge_length, 500, change_func=make_change_scramble)"
   ]
  },
  {
   "cell_type": "code",
   "execution_count": 108,
   "id": "4f9f3e18-3a4d-4df1-b978-be26b53c4002",
   "metadata": {},
   "outputs": [],
   "source": [
    "def simulated_annealing(graph, random_solution, value, num_iters, change_func):\n",
    "    solution = deepcopy(random_solution)\n",
    "    best_solution = deepcopy(solution)\n",
    "    best_value = value\n",
    "    best_i = None\n",
    "\n",
    "    for i in range(1, num_iters + 1):\n",
    "        #print(solution, value)\n",
    "        new_solution = change_func(graph, solution)\n",
    "        new_value = calculate_total_edge_length(graph, new_solution)\n",
    "\n",
    "        if new_value < value:\n",
    "            value = new_value\n",
    "            solution = deepcopy(new_solution)\n",
    "\n",
    "            if new_value < best_value:\n",
    "                best_i = i\n",
    "                best_value = new_value\n",
    "                best_solution = deepcopy(new_solution)\n",
    "\n",
    "        #elif random.random() < 1 / (i**0.5):\n",
    "        elif random.random() < 1 / i:\n",
    "            #print('divs')\n",
    "            value = new_value\n",
    "            solution = deepcopy(new_solution)\n",
    "\n",
    "    return best_solution, best_value, best_i"
   ]
  },
  {
   "cell_type": "code",
   "execution_count": 109,
   "id": "6b209377-b49f-47f4-988a-07c47c3f05f0",
   "metadata": {},
   "outputs": [
    {
     "data": {
      "text/plain": [
       "([9, 8, 1, 2, 5, 4, 0, 7, 6, 3], 88, 108)"
      ]
     },
     "execution_count": 109,
     "metadata": {},
     "output_type": "execute_result"
    }
   ],
   "source": [
    "simulated_annealing(graph, random_solution, total_edge_length, 500, change_func=make_change_swap)"
   ]
  },
  {
   "cell_type": "code",
   "execution_count": 110,
   "id": "c1ad1243-d0cb-41e3-b671-59de5ca4a570",
   "metadata": {},
   "outputs": [
    {
     "data": {
      "text/plain": [
       "([6, 2, 8, 9, 1, 7, 0, 5, 4, 3], 88, 121)"
      ]
     },
     "execution_count": 110,
     "metadata": {},
     "output_type": "execute_result"
    }
   ],
   "source": [
    "simulated_annealing(graph, random_solution, total_edge_length, 500, change_func=make_change_inverse)"
   ]
  },
  {
   "cell_type": "code",
   "execution_count": 111,
   "id": "83ac795a",
   "metadata": {},
   "outputs": [
    {
     "data": {
      "text/plain": [
       "([6, 8, 2, 9, 7, 1, 0, 5, 4, 3], 88, 109)"
      ]
     },
     "execution_count": 111,
     "metadata": {},
     "output_type": "execute_result"
    }
   ],
   "source": [
    "simulated_annealing(graph, random_solution, total_edge_length, 500, change_func=make_change_scramble)"
   ]
  },
  {
   "cell_type": "code",
   "execution_count": 112,
   "metadata": {},
   "outputs": [],
   "source": [
    "def shaking_swap(graph, solution, k):\n",
    "    new_solution = deepcopy(solution)\n",
    "    selected = random.sample(range(len(solution)), 2*k)\n",
    "    for i in range(0,len(selected), 2):\n",
    "        index1, index2 = selected[i], selected[i+1]\n",
    "        new_solution[index1], new_solution[index2] = new_solution[index2], new_solution[index1]\n",
    "    return new_solution    \n",
    "    "
   ]
  },
  {
   "cell_type": "code",
   "execution_count": 113,
   "metadata": {},
   "outputs": [],
   "source": [
    "def shaking_inverse(graph, solution, k):\n",
    "    new_solution = deepcopy(solution)\n",
    "    index1 = random.randint(0, len(solution))\n",
    "    if(index1 + k > len(solution)):\n",
    "        index1 = len(solution) - k\n",
    "    index2 = index1 + k                       \n",
    "    new_solution[index1:index2+1] = reversed(new_solution[index1:index2+1])  \n",
    "\n",
    "    return new_solution"
   ]
  },
  {
   "cell_type": "code",
   "execution_count": 114,
   "metadata": {},
   "outputs": [],
   "source": [
    "def vns(graph, random_solution, value, num_iters, change_func, shaking_func, local_search_func, k_min, k_max, move_prob):\n",
    "    solution = deepcopy(random_solution)\n",
    "    best_i = None\n",
    "    for i in range(num_iters):\n",
    "        for k in range(k_min, k_max):\n",
    "            #print('vns: ', solution, value, i)\n",
    "            new_solution = shaking_func(graph, solution, k) #diversification    \n",
    "            new_value = calculate_total_edge_length(graph, new_solution)\n",
    "            #print('post shaking: ', new_solution, new_value, i)\n",
    "            new_solution, new_value, _= local_search_func(graph, new_solution, total_edge_length, 10, change_func)\n",
    "            if new_value < value or (new_value == value and random.random() < move_prob):\n",
    "                if(new_value < value):\n",
    "                    best_i = i\n",
    "                value = new_value\n",
    "                solution = deepcopy(new_solution)\n",
    "    return solution, value, best_i"
   ]
  },
  {
   "cell_type": "code",
   "execution_count": 115,
   "metadata": {},
   "outputs": [
    {
     "data": {
      "text/plain": [
       "([6, 3, 0, 7, 4, 2, 5, 1, 9, 8], 85, 22)"
      ]
     },
     "execution_count": 115,
     "metadata": {},
     "output_type": "execute_result"
    }
   ],
   "source": [
    "vns(graph, random_solution, total_edge_length, 100, change_func=make_change_inverse, shaking_func=shaking_swap, local_search_func = local_search, k_min=1, k_max=3, move_prob=0.4)"
   ]
  },
  {
   "cell_type": "code",
   "execution_count": 116,
   "metadata": {},
   "outputs": [
    {
     "data": {
      "text/plain": [
       "([6, 7, 3, 0, 4, 1, 5, 2, 9, 8], 85, 19)"
      ]
     },
     "execution_count": 116,
     "metadata": {},
     "output_type": "execute_result"
    }
   ],
   "source": [
    "vns(graph, random_solution, total_edge_length, 100, change_func=make_change_inverse, shaking_func=shaking_inverse, local_search_func = local_search, k_min=3, k_max=6, move_prob=0.4)"
   ]
  },
  {
   "cell_type": "code",
   "execution_count": 117,
   "metadata": {},
   "outputs": [
    {
     "data": {
      "text/plain": [
       "([6, 7, 0, 3, 4, 5, 1, 2, 9, 8], 85, 84)"
      ]
     },
     "execution_count": 117,
     "metadata": {},
     "output_type": "execute_result"
    }
   ],
   "source": [
    "vns(graph, random_solution, total_edge_length, 100, change_func=make_change_swap, shaking_func=shaking_swap, local_search_func = local_search, k_min=1, k_max=3, move_prob=0.4)"
   ]
  },
  {
   "cell_type": "code",
   "execution_count": 118,
   "metadata": {},
   "outputs": [
    {
     "data": {
      "text/plain": [
       "([6, 0, 7, 3, 4, 2, 5, 1, 9, 8], 85, 4)"
      ]
     },
     "execution_count": 118,
     "metadata": {},
     "output_type": "execute_result"
    }
   ],
   "source": [
    "vns(graph, random_solution, total_edge_length, 100, change_func=make_change_swap, shaking_func=shaking_inverse, local_search_func = local_search, k_min=3, k_max=6, move_prob=0.4)"
   ]
  },
  {
   "cell_type": "code",
   "execution_count": 119,
   "metadata": {},
   "outputs": [
    {
     "data": {
      "text/plain": [
       "([6, 7, 0, 3, 4, 1, 5, 2, 9, 8], 85, 41)"
      ]
     },
     "execution_count": 119,
     "metadata": {},
     "output_type": "execute_result"
    }
   ],
   "source": [
    "vns(graph, random_solution, total_edge_length, 100, change_func=make_change_swap, shaking_func=shaking_swap, local_search_func = local_search_with_permutation, k_min=1, k_max=3, move_prob=0.4)"
   ]
  },
  {
   "cell_type": "code",
   "execution_count": 120,
   "metadata": {},
   "outputs": [
    {
     "data": {
      "text/plain": [
       "([6, 3, 7, 0, 4, 2, 1, 5, 9, 8], 85, 16)"
      ]
     },
     "execution_count": 120,
     "metadata": {},
     "output_type": "execute_result"
    }
   ],
   "source": [
    "vns(graph, random_solution, total_edge_length, 100, change_func=make_change_swap, shaking_func=shaking_inverse, local_search_func = local_search_with_permutation, k_min=3, k_max=6, move_prob=0.4)"
   ]
  },
  {
   "cell_type": "code",
   "execution_count": 121,
   "metadata": {},
   "outputs": [
    {
     "data": {
      "text/plain": [
       "([8, 9, 1, 2, 5, 4, 7, 3, 0, 6], 85, 40)"
      ]
     },
     "execution_count": 121,
     "metadata": {},
     "output_type": "execute_result"
    }
   ],
   "source": [
    "vns(graph, random_solution, total_edge_length, 100, change_func=make_change_inverse, shaking_func=shaking_swap, local_search_func = local_search_with_permutation, k_min=1, k_max=3, move_prob=0.4)"
   ]
  },
  {
   "cell_type": "code",
   "execution_count": 122,
   "metadata": {},
   "outputs": [
    {
     "data": {
      "text/plain": [
       "([6, 7, 3, 0, 4, 5, 1, 2, 9, 8], 85, 12)"
      ]
     },
     "execution_count": 122,
     "metadata": {},
     "output_type": "execute_result"
    }
   ],
   "source": [
    "vns(graph, random_solution, total_edge_length, 100, change_func=make_change_inverse, shaking_func=shaking_inverse, local_search_func = local_search_with_permutation, k_min=3, k_max=6, move_prob=0.4)"
   ]
  },
  {
   "cell_type": "code",
   "execution_count": 123,
   "id": "c8283ec1",
   "metadata": {},
   "outputs": [
    {
     "data": {
      "text/plain": [
       "([6, 3, 0, 7, 4, 2, 1, 5, 9, 8], 85, 57)"
      ]
     },
     "execution_count": 123,
     "metadata": {},
     "output_type": "execute_result"
    }
   ],
   "source": [
    "vns(graph, random_solution, total_edge_length, 100, change_func=make_change_scramble, shaking_func=shaking_inverse, local_search_func = local_search_with_permutation, k_min=3, k_max=6, move_prob=0.4)"
   ]
  },
  {
   "cell_type": "code",
   "execution_count": 124,
   "id": "2ee835a6",
   "metadata": {},
   "outputs": [
    {
     "data": {
      "text/plain": [
       "([6, 0, 3, 7, 4, 5, 1, 2, 9, 8], 85, 15)"
      ]
     },
     "execution_count": 124,
     "metadata": {},
     "output_type": "execute_result"
    }
   ],
   "source": [
    "vns(graph, random_solution, total_edge_length, 100, change_func=make_change_scramble, shaking_func=shaking_swap, local_search_func = local_search_with_permutation, k_min=1, k_max=3, move_prob=0.4)"
   ]
  },
  {
   "cell_type": "code",
   "execution_count": 125,
   "id": "ff1bfb8d",
   "metadata": {},
   "outputs": [],
   "source": [
    "#ne zaboravi da napravis kombinacije za scramble"
   ]
  },
  {
   "cell_type": "code",
   "execution_count": 126,
   "metadata": {},
   "outputs": [],
   "source": [
    "#genetic algorithms"
   ]
  },
  {
   "cell_type": "code",
   "execution_count": 127,
   "metadata": {},
   "outputs": [],
   "source": [
    "class Individual:\n",
    "    def __init__(self, num_nodes, graph):\n",
    "        self.num_nodes = num_nodes\n",
    "        self.graph = graph\n",
    "        self.code = self.generate_solution(self.num_nodes)\n",
    "        self.fitness = self.calc_fitness(self.num_nodes, self.graph)\n",
    "    \n",
    "    def generate_solution(self, num_nodes):\n",
    "        nodes = list(range(num_nodes))\n",
    "        random.shuffle(nodes)\n",
    "        return nodes\n",
    "\n",
    "    def calc_fitness(self, num_nodes, graph):\n",
    "        total_length = 0\n",
    "        for i in range(len(graph)):\n",
    "            for j in range(i + 1, len(graph)):\n",
    "                if graph[i][j] == 1:\n",
    "                    position_i = self.code.index(i)\n",
    "                    position_j = self.code.index(j)\n",
    "                    total_length += abs(position_i - position_j)\n",
    "        return -total_length"
   ]
  },
  {
   "cell_type": "code",
   "execution_count": 128,
   "metadata": {},
   "outputs": [],
   "source": [
    "i = Individual(10, graph)"
   ]
  },
  {
   "cell_type": "code",
   "execution_count": 129,
   "metadata": {},
   "outputs": [
    {
     "name": "stdout",
     "output_type": "stream",
     "text": [
      "[5, 3, 8, 4, 9, 0, 2, 6, 1, 7]\n",
      "-104\n"
     ]
    }
   ],
   "source": [
    "print(i.code)\n",
    "print(i.fitness)"
   ]
  },
  {
   "cell_type": "code",
   "execution_count": 130,
   "metadata": {},
   "outputs": [],
   "source": [
    "def tournament_selection(population, tour_size, forbidden):\n",
    "    tournament = random.sample(range(len(population)), tour_size)\n",
    "    #selected = max(tournament, key=lambda x: x.fitness)\n",
    "    best_i = -1\n",
    "    best_fitness = population[tournament[0]].fitness\n",
    "    for i in tournament:\n",
    "        #print('fitness:', population[i].fitness)\n",
    "        if population[i].fitness >= best_fitness and i != forbidden:\n",
    "            best_fitness = population[i].fitness\n",
    "            best_i = i\n",
    "\n",
    "    #print('best_fitness:', best_fitness)\n",
    "    return best_i"
   ]
  },
  {
   "cell_type": "code",
   "execution_count": 131,
   "metadata": {},
   "outputs": [],
   "source": [
    "# its like a wheel in a casino but instead of having equal proportions to\n",
    "# for wheels slots we have different proportions(probabilities) for each slot\n",
    "# its size depends on the fitness of an individual\n",
    "# sum(i from 0 to n)pi where pi is probability of each one\n",
    "def roulette_selection(population):\n",
    "    total_fitness = sum(ind.fitness for ind in population)\n",
    "    fitness_props = [ind.fitness / total_fitness for ind in population]\n",
    "    cumulative_props = [sum(fitness_props[:i+1] for i in range(len(fitness_props)))]\n",
    "    \n",
    "    rand_prop = random.uniform(0,1)\n",
    "    for i, prob in enumerate(cumulative_props):\n",
    "        if rand_prop < prob:\n",
    "            return population[i]"
   ]
  },
  {
   "cell_type": "code",
   "execution_count": 132,
   "metadata": {},
   "outputs": [],
   "source": [
    "#beacause we are dealing with permutations, we have to be careful here and used sepcialized crossover algorithms\n",
    "#ordered crossover method\n",
    "def ordered_crossover(parent1, parent2, cx_point1 = -1, cx_point2 = -1):\n",
    "    \n",
    "    n = len(parent1.code)\n",
    "\n",
    "    # Choose two random crossover points\n",
    "    if cx_point1 == -1 and cx_point2 == -1:\n",
    "        cx_point1, cx_point2 = sorted(random.sample(range(n), 2))\n",
    "        #print(cx_point1, cx_point2)\n",
    "\n",
    "    # Copy the segment between the crossover points from parent1 to child1\n",
    "    child1_segment = parent1.code[cx_point1:cx_point2 + 1]\n",
    "\n",
    "    # Fill the remaining positions in child1 with elements from parent2\n",
    "    child1 = [-1] * n\n",
    "    child1[cx_point1:cx_point2 + 1] = child1_segment\n",
    "    remaining_positions = [i for i in parent2.code if i not in child1_segment]\n",
    "    j = 0\n",
    "    for i in range(n):\n",
    "        if child1[i] == -1:\n",
    "            child1[i] = remaining_positions[j]\n",
    "            j += 1\n",
    "\n",
    "    return child1, cx_point1, cx_point2\n"
   ]
  },
  {
   "cell_type": "code",
   "execution_count": 133,
   "metadata": {},
   "outputs": [],
   "source": [
    "def pmx_crossover(parent1, parent2):\n",
    "    n = len(parent1.code)\n",
    "    start, end = sorted(random.sample(range(n), 2))\n",
    "    \n",
    "    child = [-1] * n\n",
    "    child[start:end + 1] = parent1.code[start:end + 1]\n",
    "\n",
    "    for i in range(start, end + 1):\n",
    "        if parent2.code[i] not in child:\n",
    "            #print(parent1.code)\n",
    "            #print(parent2.code)\n",
    "            index = parent2.code.index(parent1.code[i])\n",
    "            #this next lines are the only difference between pmx and ordered\n",
    "            #we dont change child1 in a ordered way but according to previous indexes\n",
    "            while child[index] != -1:\n",
    "                index = parent2.code.index(parent1.code[index])\n",
    "            child[index] = parent2.code[i]\n",
    "            \n",
    "            \n",
    "    for i in range(n):\n",
    "        if child[i] == -1:\n",
    "            child[i] = parent2.code[i]\n",
    "\n",
    "    return child"
   ]
  },
  {
   "cell_type": "code",
   "execution_count": 134,
   "metadata": {},
   "outputs": [],
   "source": [
    "#with linear ranking selection is not dependable on fitness but fitness rank\n",
    "#this way worse individuals can get a chance to be choosen and maybe they can \n",
    "# give better results\n",
    "def rank_selection_linear_ranking(population, num_selections,forbidden,selection_pressure = 1.5):\n",
    "    n = len(population)\n",
    "    ranked_population = sorted(population, key = lambda x: x.fitness, reverse=True)\n",
    "    \n",
    "    probs = [(2-selection_pressure)/n + 2*i*(selection_pressure-1)/(n*(n-1)) for i in range(n)]\n",
    "    \n",
    "    selection = random.choices(ranked_population, weights=probs, k = num_selections)\n",
    "    max_fitness = float('-inf')\n",
    "    best_i = -1\n",
    "    for i in range(len(selection)):\n",
    "        if population[i].fitness > max_fitness and i != forbidden:\n",
    "            max_fitness = population[i].fitness\n",
    "            best_i = i\n",
    "    \n",
    "    return best_i"
   ]
  },
  {
   "cell_type": "code",
   "execution_count": 135,
   "metadata": {},
   "outputs": [],
   "source": [
    "\n",
    "def rank_selection(population, num_selections, forbidden):\n",
    "    n = len(population)\n",
    "    ranked_population = sorted(population, key = lambda x: x.fitness, reverse=True)\n",
    "    \n",
    "    probs = [i/n for i in range(1, n + 1)]\n",
    "    \n",
    "    selection = random.choices(ranked_population, weights=probs, k = num_selections)\n",
    "\n",
    "    max_fitness = float('-inf')\n",
    "    best_i = -1\n",
    "    for i in range(len(selection)):\n",
    "        if population[i].fitness > max_fitness and i != forbidden:\n",
    "            max_fitness = population[i].fitness\n",
    "            best_i = i\n",
    "    \n",
    "    return best_i"
   ]
  },
  {
   "cell_type": "code",
   "execution_count": 136,
   "metadata": {},
   "outputs": [],
   "source": [
    "def mutation_swap(individual, mutation_prob):\n",
    "    for i in range(len(individual.code)):\n",
    "        if random.random() < mutation_prob:\n",
    "            rand_i = random.choice(range(len(individual.code)))\n",
    "            tmp = individual.code[i]\n",
    "            individual.code[i] = individual.code[rand_i]\n",
    "            individual.code[rand_i] = tmp"
   ]
  },
  {
   "cell_type": "code",
   "execution_count": 137,
   "id": "b48d5d8b",
   "metadata": {},
   "outputs": [],
   "source": [
    "def mutation_inverse(individual, mutation_prob):\n",
    "    for i in range(len(individual.code)):\n",
    "        if random.random() < mutation_prob:\n",
    "            index1, index2 = sorted(random.sample(range(len(individual.code)), 2))\n",
    "            individual.code[index1:index2+1] = reversed(individual.code[index1:index2+1])"
   ]
  },
  {
   "cell_type": "code",
   "execution_count": 138,
   "id": "de8a55f9",
   "metadata": {},
   "outputs": [],
   "source": [
    "def mutation_scramble(individual, mutation_prob):\n",
    "    for i in range(len(individual.code)):\n",
    "        if random.random() < mutation_prob:\n",
    "            start, end = sorted(random.sample(range(len(individual.code)), 2))\n",
    "            subset = individual.code[start:end+1]\n",
    "            random.shuffle(subset)\n",
    "            individual.code[start:end+1] = subset"
   ]
  },
  {
   "cell_type": "code",
   "execution_count": 139,
   "metadata": {},
   "outputs": [],
   "source": [
    "def genetic_algo(population_size, graph, num_nodes,num_generations,tournament_size, mutation, mutation_prob, elitism_size, crossover, selection, ordered_cross = False):\n",
    "    #if use_elitism and (population_size - elitism_size) % 2 == 1:\n",
    "    #    elitism_size += 1\n",
    "    \n",
    "    population = [Individual(num_nodes, graph) for _ in range(population_size)]\n",
    "    new_population = population.copy()\n",
    "    \n",
    "    for i in range(num_generations):\n",
    "        population.sort(key=lambda x: x.fitness, reverse=True)\n",
    "        new_population[:elitism_size] = population[:elitism_size]\n",
    "        for j in range(elitism_size, population_size, 2):\n",
    "            parent1_i = selection(population, tournament_size, forbidden=-2)\n",
    "            parent2_i = selection(population, tournament_size, parent1_i)\n",
    "            #disabled - causes bloated file size\n",
    "            #print('gen:', i, 'iter:', j, 'parents:', parent1_i, parent2_i)\n",
    "            if ordered_cross:\n",
    "                new_population[j].code, i1, i2 = crossover(population[parent1_i], population[parent2_i])\n",
    "                new_population[j+1].code, _, _ = crossover(population[parent2_i], population[parent1_i], i1, i2)\n",
    "            else:    \n",
    "                new_population[j].code = crossover(population[parent1_i], population[parent2_i])\n",
    "                new_population[j+1].code = crossover(population[parent1_i], population[parent2_i])\n",
    "        \n",
    "            mutation(new_population[j], mutation_prob)\n",
    "            mutation(new_population[j+1], mutation_prob)\n",
    "            \n",
    "            new_population[j].fitness = new_population[j].calc_fitness(num_nodes, graph)\n",
    "            new_population[j+1].fitness = new_population[j+1].calc_fitness(num_nodes, graph)\n",
    "            \n",
    "        population = new_population.copy()\n",
    "    return max(population, key=lambda x: x.fitness)"
   ]
  },
  {
   "cell_type": "code",
   "execution_count": 140,
   "metadata": {},
   "outputs": [
    {
     "name": "stdout",
     "output_type": "stream",
     "text": [
      "[8, 9, 2, 5, 1, 4, 3, 0, 7, 6] -85\n"
     ]
    }
   ],
   "source": [
    "best_individual = genetic_algo(population_size=100, graph=graph, num_nodes=num_nodes, num_generations=30, tournament_size=30, elitism_size=4,mutation=mutation_swap, mutation_prob=0.05, crossover=pmx_crossover, selection=rank_selection)\n",
    "print(best_individual.code, best_individual.fitness)"
   ]
  },
  {
   "cell_type": "code",
   "execution_count": 141,
   "metadata": {},
   "outputs": [
    {
     "name": "stdout",
     "output_type": "stream",
     "text": [
      "[8, 4, 3, 5, 1, 0, 9, 7, 2, 6] -88\n"
     ]
    }
   ],
   "source": [
    "#sa linearnim rank selectionom\n",
    "best_individual = genetic_algo(population_size=100, graph=graph, num_nodes=num_nodes, num_generations=30, tournament_size=30, elitism_size=4,mutation=mutation_swap, mutation_prob=0.05, crossover=pmx_crossover, selection=rank_selection_linear_ranking)\n",
    "print(best_individual.code, best_individual.fitness)"
   ]
  },
  {
   "cell_type": "code",
   "execution_count": 142,
   "id": "4cc7f33a",
   "metadata": {},
   "outputs": [
    {
     "name": "stdout",
     "output_type": "stream",
     "text": [
      "[6, 2, 8, 9, 1, 7, 5, 0, 4, 3] -88\n"
     ]
    }
   ],
   "source": [
    "best_individual = genetic_algo(population_size=100, graph=graph, num_nodes=num_nodes, num_generations=30, tournament_size=30, elitism_size=20,mutation=mutation_swap, mutation_prob=0.05, crossover=pmx_crossover, selection=tournament_selection)\n",
    "print(best_individual.code, best_individual.fitness)"
   ]
  },
  {
   "cell_type": "code",
   "execution_count": 143,
   "id": "27fd84d7",
   "metadata": {},
   "outputs": [
    {
     "name": "stdout",
     "output_type": "stream",
     "text": [
      "[6, 2, 8, 9, 1, 5, 7, 0, 4, 3] -88\n"
     ]
    }
   ],
   "source": [
    "best_individual = genetic_algo(population_size=100, graph=graph, num_nodes=num_nodes, num_generations=30, tournament_size=30, elitism_size=4, mutation=mutation_swap, mutation_prob=0.05, crossover=ordered_crossover, selection=tournament_selection, ordered_cross=True)\n",
    "print(best_individual.code, best_individual.fitness)"
   ]
  },
  {
   "cell_type": "code",
   "execution_count": 144,
   "metadata": {},
   "outputs": [
    {
     "name": "stdout",
     "output_type": "stream",
     "text": [
      "[8, 9, 5, 1, 2, 4, 3, 0, 7, 6] -85\n"
     ]
    }
   ],
   "source": [
    "best_individual = genetic_algo(population_size=100, graph=graph, num_nodes=num_nodes, num_generations=30, tournament_size=30, elitism_size=4,mutation=mutation_swap, mutation_prob=0.05, crossover=ordered_crossover, selection=rank_selection, ordered_cross=True)\n",
    "print(best_individual.code, best_individual.fitness)"
   ]
  },
  {
   "cell_type": "code",
   "execution_count": 145,
   "id": "b0b7d2c4",
   "metadata": {},
   "outputs": [
    {
     "name": "stdout",
     "output_type": "stream",
     "text": [
      "[6, 7, 0, 3, 4, 2, 1, 5, 9, 8] -85\n"
     ]
    }
   ],
   "source": [
    "best_individual = genetic_algo(population_size=100, graph=graph, num_nodes=num_nodes, num_generations=30, tournament_size=30, elitism_size=4,mutation=mutation_swap, mutation_prob=0.05, crossover=ordered_crossover, selection=rank_selection_linear_ranking, ordered_cross=True)\n",
    "print(best_individual.code, best_individual.fitness)"
   ]
  },
  {
   "cell_type": "code",
   "execution_count": 146,
   "id": "192757a4",
   "metadata": {},
   "outputs": [
    {
     "name": "stdout",
     "output_type": "stream",
     "text": [
      "[3, 4, 5, 8, 0, 1, 9, 2, 7, 6] -88\n"
     ]
    }
   ],
   "source": [
    "#same algorithms with mutations that inverse a part of the solution instead of performing swaps\n",
    "best_individual = genetic_algo(population_size=100, graph=graph, num_nodes=num_nodes, num_generations=10, tournament_size=30, elitism_size=4,mutation=mutation_inverse, mutation_prob=0.05, crossover=pmx_crossover, selection=rank_selection)\n",
    "print(best_individual.code, best_individual.fitness)"
   ]
  },
  {
   "cell_type": "code",
   "execution_count": 147,
   "id": "e633772f",
   "metadata": {},
   "outputs": [
    {
     "name": "stdout",
     "output_type": "stream",
     "text": [
      "[8, 9, 2, 5, 1, 4, 7, 0, 3, 6] -85\n"
     ]
    }
   ],
   "source": [
    "#sa linearnim rank selectionom\n",
    "best_individual = genetic_algo(population_size=100, graph=graph, num_nodes=num_nodes, num_generations=30, tournament_size=30, elitism_size=4,mutation=mutation_inverse, mutation_prob=0.05, crossover=pmx_crossover, selection=rank_selection_linear_ranking)\n",
    "print(best_individual.code, best_individual.fitness)"
   ]
  },
  {
   "cell_type": "code",
   "execution_count": 148,
   "id": "be101799",
   "metadata": {},
   "outputs": [
    {
     "name": "stdout",
     "output_type": "stream",
     "text": [
      "[8, 9, 2, 1, 5, 4, 3, 0, 7, 6] -85\n"
     ]
    }
   ],
   "source": [
    "best_individual = genetic_algo(population_size=100, graph=graph, num_nodes=num_nodes, num_generations=30, tournament_size=30, elitism_size=20,mutation=mutation_inverse, mutation_prob=0.05, crossover=pmx_crossover, selection=tournament_selection)\n",
    "print(best_individual.code, best_individual.fitness)"
   ]
  },
  {
   "cell_type": "code",
   "execution_count": 149,
   "id": "ab273db3",
   "metadata": {},
   "outputs": [
    {
     "name": "stdout",
     "output_type": "stream",
     "text": [
      "[8, 9, 1, 2, 5, 4, 0, 3, 7, 6] -85\n"
     ]
    }
   ],
   "source": [
    "best_individual = genetic_algo(population_size=100, graph=graph, num_nodes=num_nodes, num_generations=30, tournament_size=30, elitism_size=4, mutation=mutation_swap, mutation_prob=0.05, crossover=ordered_crossover, selection=tournament_selection, ordered_cross=True)\n",
    "print(best_individual.code, best_individual.fitness)"
   ]
  },
  {
   "cell_type": "code",
   "execution_count": 150,
   "id": "36b68a7e",
   "metadata": {},
   "outputs": [
    {
     "name": "stdout",
     "output_type": "stream",
     "text": [
      "[3, 4, 5, 8, 0, 1, 9, 2, 7, 6] -88\n"
     ]
    }
   ],
   "source": [
    "best_individual = genetic_algo(population_size=100, graph=graph, num_nodes=num_nodes, num_generations=30, tournament_size=30, elitism_size=4,mutation=mutation_inverse, mutation_prob=0.05, crossover=ordered_crossover, selection=rank_selection, ordered_cross=True)\n",
    "print(best_individual.code, best_individual.fitness)"
   ]
  },
  {
   "cell_type": "code",
   "execution_count": 151,
   "id": "c976a511",
   "metadata": {},
   "outputs": [
    {
     "name": "stdout",
     "output_type": "stream",
     "text": [
      "[6, 7, 0, 3, 4, 5, 1, 2, 9, 8] -85\n"
     ]
    }
   ],
   "source": [
    "best_individual = genetic_algo(population_size=100, graph=graph, num_nodes=num_nodes, num_generations=30, tournament_size=30, elitism_size=4,mutation=mutation_inverse, mutation_prob=0.05, crossover=ordered_crossover, selection=rank_selection_linear_ranking, ordered_cross=True)\n",
    "print(best_individual.code, best_individual.fitness)"
   ]
  },
  {
   "cell_type": "code",
   "execution_count": 152,
   "id": "9c2cd361",
   "metadata": {},
   "outputs": [
    {
     "name": "stdout",
     "output_type": "stream",
     "text": [
      "[6, 0, 3, 7, 4, 1, 2, 5, 9, 8] -85\n"
     ]
    }
   ],
   "source": [
    "best_individual = genetic_algo(population_size=100, graph=graph, num_nodes=num_nodes, num_generations=30, tournament_size=30, elitism_size=4,mutation=mutation_scramble, mutation_prob=0.05, crossover=pmx_crossover, selection=rank_selection)\n",
    "print(best_individual.code, best_individual.fitness)"
   ]
  },
  {
   "cell_type": "code",
   "execution_count": 153,
   "id": "4e96346c",
   "metadata": {},
   "outputs": [],
   "source": [
    "#ne zaboravi da tesiras sve crossovere i selekcije sa mutation_scramble"
   ]
  },
  {
   "cell_type": "code",
   "execution_count": 154,
   "id": "4ed2315a",
   "metadata": {},
   "outputs": [],
   "source": [
    "#linear programming"
   ]
  },
  {
   "cell_type": "code",
   "execution_count": 155,
   "id": "5266708b",
   "metadata": {},
   "outputs": [],
   "source": [
    "from docplex.mp.model import Model"
   ]
  },
  {
   "cell_type": "code",
   "execution_count": 156,
   "id": "9fbf2a6d",
   "metadata": {},
   "outputs": [],
   "source": [
    "def linear_integer(graph):\n",
    "    num_nodes = len(graph)\n",
    "\n",
    "    # Create a CPLEX model\n",
    "    model = Model(name='minimum_linear_arrangement')\n",
    "\n",
    "    # Create integer decision variables for the positions (1D array)\n",
    "    positions = model.integer_var_list(num_nodes, name='position')\n",
    "\n",
    "    model.add_constraints(positions[i] <= (num_nodes - 1) for i in range(num_nodes))\n",
    "    model.add_constraints(positions[i] >= 0 for i in range(num_nodes))\n",
    "\n",
    "    # Constraints: Each node must appear exactly once in the permutation\n",
    "    model.add_constraints(model.sum((positions[i] == j) for j in range(num_nodes)) == 1 for i in range(num_nodes))\n",
    "\n",
    "    # Constraints: Avoid subcycles (no repeated nodes)\n",
    "    model.add_constraints(positions[i] != positions[j] for i in range(num_nodes) for j in range(num_nodes) if i != j)\n",
    "\n",
    "    # Example: Prioritize edges between adjacent nodes\n",
    "    model.minimize(model.sum(graph[i][j] * ((positions[i] - positions[j])**2) for i in range(num_nodes) for j in range(num_nodes)))\n",
    "\n",
    "\n",
    "    # Solve the model\n",
    "    model.solve()\n",
    "\n",
    "    # Get the solution\n",
    "    mla_positions = [positions[i].solution_value for i in range(num_nodes)]\n",
    "\n",
    "    return mla_positions"
   ]
  },
  {
   "cell_type": "code",
   "execution_count": 157,
   "id": "d3864d60",
   "metadata": {},
   "outputs": [
    {
     "name": "stdout",
     "output_type": "stream",
     "text": [
      "[3, 5, 6, 1, 4, 7, 0, 2, 9, 8] 105\n"
     ]
    }
   ],
   "source": [
    "li_soulution = linear_integer(graph)\n",
    "#print(li_soulution)\n",
    "li_soulution = list(map(lambda x: int(x), li_soulution))\n",
    "print(li_soulution, calculate_total_edge_length(graph, li_soulution))"
   ]
  },
  {
   "cell_type": "code",
   "execution_count": 158,
   "id": "37522dde",
   "metadata": {},
   "outputs": [],
   "source": [
    "def linear_integer_squared(graph):\n",
    "    num_nodes = len(graph)\n",
    "\n",
    "    # Create a CPLEX model\n",
    "    model = Model(name='minimum_linear_arrangement')\n",
    "\n",
    "    # Create integer decision variables for the positions (1D array)\n",
    "    positions = model.integer_var_list(num_nodes, name='position')\n",
    "\n",
    "    model.add_constraints(positions[i] <= (num_nodes - 1) for i in range(num_nodes))\n",
    "    model.add_constraints(positions[i] >= 0 for i in range(num_nodes))\n",
    "\n",
    "    # Constraints: Each node must appear exactly once in the permutation\n",
    "    model.add_constraints(model.sum((positions[i] == j) for j in range(num_nodes)) == 1 for i in range(num_nodes))\n",
    "\n",
    "    # Constraints: Avoid subcycles (no repeated nodes)\n",
    "    model.add_constraints(positions[i] != positions[j] for i in range(num_nodes) for j in range(num_nodes) if i != j)\n",
    "\n",
    "    # Objective: Minimize the total edge length\n",
    "    model.minimize(model.sum(graph[i][j] * model.abs(positions[i] - positions[j]) for i in range(num_nodes) for j in range(num_nodes)))\n",
    "\n",
    "    # Solve the model\n",
    "    model.solve()\n",
    "\n",
    "    # Get the solution\n",
    "    mla_positions = [positions[i].solution_value for i in range(num_nodes)]\n",
    "\n",
    "    return mla_positions"
   ]
  },
  {
   "cell_type": "code",
   "execution_count": 159,
   "id": "8ffbefeb",
   "metadata": {},
   "outputs": [
    {
     "name": "stdout",
     "output_type": "stream",
     "text": [
      "[7, 2, 4, 6, 5, 3, 9, 8, 0, 1] 111\n"
     ]
    }
   ],
   "source": [
    "li_soulution = linear_integer_squared(graph)\n",
    "li_soulution = list(map(lambda x: int(x), li_soulution))\n",
    "print(li_soulution, calculate_total_edge_length(graph, li_soulution))"
   ]
  },
  {
   "cell_type": "code",
   "execution_count": 160,
   "id": "dd0ebc44",
   "metadata": {},
   "outputs": [],
   "source": [
    "#this method uses too many variables for the community version of CPLEX\n",
    "def linear_integer_with_preprocessing(graph):\n",
    "    num_nodes = len(graph)\n",
    "\n",
    "    # Create a CPLEX model\n",
    "    model = Model(name='minimum_linear_arrangement')\n",
    "\n",
    "    initial_solution, initial_value, _ = local_search(graph, random_solution, total_edge_length, 10, change_func=make_change_swap)\n",
    "\n",
    "    # Create integer decision variables for the positions (1D array)\n",
    "    positions = model.integer_var_list(num_nodes, name='position')\n",
    "\n",
    "    model.add_constraints(positions[i] <= (num_nodes - 1) for i in range(num_nodes))\n",
    "    model.add_constraints(positions[i] >= 0 for i in range(num_nodes))\n",
    "\n",
    "    # Constraints: Each node must appear exactly once in the permutation\n",
    "    model.add_constraints(model.sum((positions[i] == j) for j in range(num_nodes)) == 1 for i in range(num_nodes))\n",
    "\n",
    "    # Constraints: Avoid subcycles (no repeated nodes)\n",
    "    model.add_constraints(positions[i] != positions[j] for i in range(num_nodes) for j in range(num_nodes) if i != j)\n",
    "\n",
    "    model.add_constraint(model.sum(graph[i][j] * model.abs(positions[i] - positions[j]) for i in range(num_nodes) for j in range(num_nodes)) <= initial_value)\n",
    "\n",
    "    # Objective: Minimize the total edge length\n",
    "    model.minimize(model.sum(graph[i][j] * model.abs(positions[i] - positions[j]) for i in range(num_nodes) for j in range(num_nodes)))\n",
    "\n",
    "    # Solve the model\n",
    "    model.solve()\n",
    "\n",
    "    # Get the solution\n",
    "    mla_positions = [positions[i].solution_value for i in range(num_nodes)]\n",
    "\n",
    "    return mla_positions"
   ]
  },
  {
   "cell_type": "code",
   "execution_count": 161,
   "id": "4e6560af",
   "metadata": {},
   "outputs": [
    {
     "ename": "DOcplexLimitsExceeded",
     "evalue": "**** Promotional version. Problem size limits (1000 vars, 1000 consts) exceeded, model has 1000 vars, 911 consts, CPLEX code=1016",
     "output_type": "error",
     "traceback": [
      "\u001b[1;31m---------------------------------------------------------------------------\u001b[0m",
      "\u001b[1;31mCplexSolverError\u001b[0m                          Traceback (most recent call last)",
      "File \u001b[1;32m~\\AppData\\Roaming\\Python\\Python310\\site-packages\\docplex\\mp\\cplex_engine.py:2008\u001b[0m, in \u001b[0;36mCplexEngine.solve\u001b[1;34m(self, mdl, parameters, **kwargs)\u001b[0m\n\u001b[0;32m   2007\u001b[0m \u001b[38;5;28;01melse\u001b[39;00m:\n\u001b[1;32m-> 2008\u001b[0m     \u001b[43mcpx\u001b[49m\u001b[38;5;241;43m.\u001b[39;49m\u001b[43msolve\u001b[49m\u001b[43m(\u001b[49m\u001b[43m)\u001b[49m\n\u001b[0;32m   2010\u001b[0m cpx_status \u001b[38;5;241m=\u001b[39m cpx\u001b[38;5;241m.\u001b[39msolution\u001b[38;5;241m.\u001b[39mget_status()\n",
      "File \u001b[1;32m~\\AppData\\Roaming\\Python\\Python310\\site-packages\\cplex\\__init__.py:1304\u001b[0m, in \u001b[0;36mCplex.solve\u001b[1;34m(self, paramsets)\u001b[0m\n\u001b[0;32m   1303\u001b[0m \u001b[38;5;28;01melif\u001b[39;00m \u001b[38;5;28mself\u001b[39m\u001b[38;5;241m.\u001b[39m_is_MIP():\n\u001b[1;32m-> 1304\u001b[0m     \u001b[43m_proc\u001b[49m\u001b[38;5;241;43m.\u001b[39;49m\u001b[43mmipopt\u001b[49m\u001b[43m(\u001b[49m\u001b[38;5;28;43mself\u001b[39;49m\u001b[38;5;241;43m.\u001b[39;49m\u001b[43m_env\u001b[49m\u001b[38;5;241;43m.\u001b[39;49m\u001b[43m_e\u001b[49m\u001b[43m,\u001b[49m\u001b[43m \u001b[49m\u001b[38;5;28;43mself\u001b[39;49m\u001b[38;5;241;43m.\u001b[39;49m\u001b[43m_lp\u001b[49m\u001b[43m)\u001b[49m\n\u001b[0;32m   1305\u001b[0m \u001b[38;5;28;01melif\u001b[39;00m \u001b[38;5;28mself\u001b[39m\u001b[38;5;241m.\u001b[39mquadratic_constraints\u001b[38;5;241m.\u001b[39mget_num() \u001b[38;5;241m>\u001b[39m \u001b[38;5;241m0\u001b[39m:\n",
      "File \u001b[1;32m~\\AppData\\Roaming\\Python\\Python310\\site-packages\\cplex\\_internal\\_procedural.py:708\u001b[0m, in \u001b[0;36mmipopt\u001b[1;34m(env, lp)\u001b[0m\n\u001b[0;32m    707\u001b[0m     status \u001b[38;5;241m=\u001b[39m CR\u001b[38;5;241m.\u001b[39mCPXXmipopt(env, lp)\n\u001b[1;32m--> 708\u001b[0m \u001b[43mcheck_status\u001b[49m\u001b[43m(\u001b[49m\u001b[43menv\u001b[49m\u001b[43m,\u001b[49m\u001b[43m \u001b[49m\u001b[43mstatus\u001b[49m\u001b[43m)\u001b[49m\n",
      "File \u001b[1;32m~\\AppData\\Roaming\\Python\\Python310\\site-packages\\cplex\\_internal\\_procedural.py:249\u001b[0m, in \u001b[0;36mStatusChecker.__call__\u001b[1;34m(self, env, status, from_cb)\u001b[0m\n\u001b[0;32m    248\u001b[0m         error_string \u001b[38;5;241m=\u001b[39m geterrorstring(env, status)\n\u001b[1;32m--> 249\u001b[0m \u001b[38;5;28;01mraise\u001b[39;00m CplexSolverError(error_string, env, status)\n",
      "\u001b[1;31mCplexSolverError\u001b[0m: CPLEX Error  1016: Community Edition. Problem size limits exceeded. Purchase at http://ibm.biz/error1016.",
      "\nDuring handling of the above exception, another exception occurred:\n",
      "\u001b[1;31mDOcplexLimitsExceeded\u001b[0m                     Traceback (most recent call last)",
      "Cell \u001b[1;32mIn[161], line 1\u001b[0m\n\u001b[1;32m----> 1\u001b[0m li_soulution \u001b[38;5;241m=\u001b[39m \u001b[43mlinear_integer_with_preprocessing\u001b[49m\u001b[43m(\u001b[49m\u001b[43mgraph\u001b[49m\u001b[43m)\u001b[49m\n\u001b[0;32m      2\u001b[0m li_soulution \u001b[38;5;241m=\u001b[39m \u001b[38;5;28mlist\u001b[39m(\u001b[38;5;28mmap\u001b[39m(\u001b[38;5;28;01mlambda\u001b[39;00m x: \u001b[38;5;28mint\u001b[39m(x), li_soulution))\n\u001b[0;32m      3\u001b[0m \u001b[38;5;28mprint\u001b[39m(li_soulution, calculate_total_edge_length(graph, li_soulution))\n",
      "Cell \u001b[1;32mIn[160], line 28\u001b[0m, in \u001b[0;36mlinear_integer_with_preprocessing\u001b[1;34m(graph)\u001b[0m\n\u001b[0;32m     25\u001b[0m model\u001b[38;5;241m.\u001b[39mminimize(model\u001b[38;5;241m.\u001b[39msum(graph[i][j] \u001b[38;5;241m*\u001b[39m model\u001b[38;5;241m.\u001b[39mabs(positions[i] \u001b[38;5;241m-\u001b[39m positions[j]) \u001b[38;5;28;01mfor\u001b[39;00m i \u001b[38;5;129;01min\u001b[39;00m \u001b[38;5;28mrange\u001b[39m(num_nodes) \u001b[38;5;28;01mfor\u001b[39;00m j \u001b[38;5;129;01min\u001b[39;00m \u001b[38;5;28mrange\u001b[39m(num_nodes)))\n\u001b[0;32m     27\u001b[0m \u001b[38;5;66;03m# Solve the model\u001b[39;00m\n\u001b[1;32m---> 28\u001b[0m \u001b[43mmodel\u001b[49m\u001b[38;5;241;43m.\u001b[39;49m\u001b[43msolve\u001b[49m\u001b[43m(\u001b[49m\u001b[43m)\u001b[49m\n\u001b[0;32m     30\u001b[0m \u001b[38;5;66;03m# Get the solution\u001b[39;00m\n\u001b[0;32m     31\u001b[0m mla_positions \u001b[38;5;241m=\u001b[39m [positions[i]\u001b[38;5;241m.\u001b[39msolution_value \u001b[38;5;28;01mfor\u001b[39;00m i \u001b[38;5;129;01min\u001b[39;00m \u001b[38;5;28mrange\u001b[39m(num_nodes)]\n",
      "File \u001b[1;32m~\\AppData\\Roaming\\Python\\Python310\\site-packages\\docplex\\mp\\model.py:4833\u001b[0m, in \u001b[0;36mModel.solve\u001b[1;34m(self, **kwargs)\u001b[0m\n\u001b[0;32m   4830\u001b[0m \u001b[38;5;28;01mif\u001b[39;00m \u001b[38;5;28mself\u001b[39m\u001b[38;5;241m.\u001b[39menvironment\u001b[38;5;241m.\u001b[39mhas_cplex:\n\u001b[0;32m   4831\u001b[0m     \u001b[38;5;66;03m# take arg clean flag or this model's\u001b[39;00m\n\u001b[0;32m   4832\u001b[0m     used_clean_before_solve \u001b[38;5;241m=\u001b[39m kwargs\u001b[38;5;241m.\u001b[39mget(\u001b[38;5;124m'\u001b[39m\u001b[38;5;124mclean_before_solve\u001b[39m\u001b[38;5;124m'\u001b[39m, \u001b[38;5;28mself\u001b[39m\u001b[38;5;241m.\u001b[39mclean_before_solve)\n\u001b[1;32m-> 4833\u001b[0m     \u001b[38;5;28;01mreturn\u001b[39;00m \u001b[38;5;28;43mself\u001b[39;49m\u001b[38;5;241;43m.\u001b[39;49m\u001b[43m_solve_local\u001b[49m\u001b[43m(\u001b[49m\u001b[43mcontext\u001b[49m\u001b[43m,\u001b[49m\u001b[43m \u001b[49m\u001b[43mused_clean_before_solve\u001b[49m\u001b[43m,\u001b[49m\u001b[43m \u001b[49m\u001b[43mparameter_sets\u001b[49m\u001b[43m)\u001b[49m\u001b[38;5;66;03m# lex_timelimits, lex_mipgaps)\u001b[39;00m\n\u001b[0;32m   4834\u001b[0m \u001b[38;5;28;01melse\u001b[39;00m:\n\u001b[0;32m   4835\u001b[0m     \u001b[38;5;28;01mreturn\u001b[39;00m \u001b[38;5;28mself\u001b[39m\u001b[38;5;241m.\u001b[39mfatal(\u001b[38;5;124m\"\u001b[39m\u001b[38;5;124mCannot solve model: no CPLEX runtime found.\u001b[39m\u001b[38;5;124m\"\u001b[39m)\n",
      "File \u001b[1;32m~\\AppData\\Roaming\\Python\\Python310\\site-packages\\docplex\\mp\\model.py:4881\u001b[0m, in \u001b[0;36mModel._solve_local\u001b[1;34m(self, context, clean_before_solve, parameter_sets)\u001b[0m\n\u001b[0;32m   4879\u001b[0m \u001b[38;5;28;01mexcept\u001b[39;00m DOcplexException \u001b[38;5;28;01mas\u001b[39;00m docpx_e:  \u001b[38;5;66;03m# pragma: no cover\u001b[39;00m\n\u001b[0;32m   4880\u001b[0m     new_solution \u001b[38;5;241m=\u001b[39m \u001b[38;5;28;01mNone\u001b[39;00m\n\u001b[1;32m-> 4881\u001b[0m     \u001b[38;5;28;01mraise\u001b[39;00m docpx_e\n\u001b[0;32m   4883\u001b[0m \u001b[38;5;28;01mexcept\u001b[39;00m \u001b[38;5;167;01mException\u001b[39;00m \u001b[38;5;28;01mas\u001b[39;00m e:\n\u001b[0;32m   4884\u001b[0m     new_solution \u001b[38;5;241m=\u001b[39m \u001b[38;5;28;01mNone\u001b[39;00m\n",
      "File \u001b[1;32m~\\AppData\\Roaming\\Python\\Python310\\site-packages\\docplex\\mp\\model.py:4870\u001b[0m, in \u001b[0;36mModel._solve_local\u001b[1;34m(self, context, clean_before_solve, parameter_sets)\u001b[0m\n\u001b[0;32m   4867\u001b[0m \u001b[38;5;66;03m# assert used_parameters is not None\u001b[39;00m\n\u001b[0;32m   4868\u001b[0m \u001b[38;5;28mself\u001b[39m\u001b[38;5;241m.\u001b[39m_apply_parameters_to_engine(used_parameters)\n\u001b[1;32m-> 4870\u001b[0m new_solution \u001b[38;5;241m=\u001b[39m \u001b[43mself_engine\u001b[49m\u001b[38;5;241;43m.\u001b[39;49m\u001b[43msolve\u001b[49m\u001b[43m(\u001b[49m\u001b[38;5;28;43mself\u001b[39;49m\u001b[43m,\u001b[49m\n\u001b[0;32m   4871\u001b[0m \u001b[43m                                 \u001b[49m\u001b[43mparameters\u001b[49m\u001b[38;5;241;43m=\u001b[39;49m\u001b[43mused_parameters\u001b[49m\u001b[43m,\u001b[49m\n\u001b[0;32m   4872\u001b[0m \u001b[43m                                 \u001b[49m\u001b[43mclean_before_solve\u001b[49m\u001b[38;5;241;43m=\u001b[39;49m\u001b[43mclean_before_solve\u001b[49m\u001b[43m,\u001b[49m\n\u001b[0;32m   4873\u001b[0m \u001b[43m                                 \u001b[49m\u001b[43mparameter_sets\u001b[49m\u001b[43m \u001b[49m\u001b[38;5;241;43m=\u001b[39;49m\u001b[43m \u001b[49m\u001b[43mparameter_sets\u001b[49m\u001b[43m)\u001b[49m\n\u001b[0;32m   4875\u001b[0m \u001b[38;5;66;03m# store solve status as returned by the engine.\u001b[39;00m\n\u001b[0;32m   4876\u001b[0m engine_status \u001b[38;5;241m=\u001b[39m self_engine\u001b[38;5;241m.\u001b[39mget_solve_status()\n",
      "File \u001b[1;32m~\\AppData\\Roaming\\Python\\Python310\\site-packages\\docplex\\mp\\cplex_engine.py:2044\u001b[0m, in \u001b[0;36mCplexEngine.solve\u001b[1;34m(self, mdl, parameters, **kwargs)\u001b[0m\n\u001b[0;32m   2042\u001b[0m     cpx_status \u001b[38;5;241m=\u001b[39m \u001b[38;5;241m1016\u001b[39m\n\u001b[0;32m   2043\u001b[0m     cpx_status_string \u001b[38;5;241m=\u001b[39m \u001b[38;5;124m\"\u001b[39m\u001b[38;5;124mPromotional version. Problem size limits exceeded., CPLEX code=1016.\u001b[39m\u001b[38;5;124m\"\u001b[39m\n\u001b[1;32m-> 2044\u001b[0m     \u001b[38;5;28;43mself\u001b[39;49m\u001b[38;5;241;43m.\u001b[39;49m\u001b[43m_model\u001b[49m\u001b[38;5;241;43m.\u001b[39;49m\u001b[43mfatal_ce_limits\u001b[49m\u001b[43m(\u001b[49m\u001b[43m)\u001b[49m\n\u001b[0;32m   2046\u001b[0m \u001b[38;5;28;01melif\u001b[39;00m \u001b[38;5;28mself\u001b[39m\u001b[38;5;241m.\u001b[39mfix_multiobj_error_1300 \u001b[38;5;129;01mand\u001b[39;00m \u001b[38;5;241m1300\u001b[39m \u001b[38;5;241m==\u001b[39m cpx_code:\n\u001b[0;32m   2047\u001b[0m     \u001b[38;5;66;03m# multiobjective error but there IS a solution (?)\u001b[39;00m\n\u001b[0;32m   2048\u001b[0m     cpx_status \u001b[38;5;241m=\u001b[39m \u001b[38;5;241m1300\u001b[39m\n",
      "File \u001b[1;32m~\\AppData\\Roaming\\Python\\Python310\\site-packages\\docplex\\mp\\model.py:1086\u001b[0m, in \u001b[0;36mModel.fatal_ce_limits\u001b[1;34m(self, *args)\u001b[0m\n\u001b[0;32m   1083\u001b[0m nb_vars \u001b[38;5;241m=\u001b[39m \u001b[38;5;28mself\u001b[39m\u001b[38;5;241m.\u001b[39mnumber_of_variables\n\u001b[0;32m   1084\u001b[0m nb_constraints \u001b[38;5;241m=\u001b[39m \u001b[38;5;28mself\u001b[39m\u001b[38;5;241m.\u001b[39mnumber_of_constraints\n\u001b[1;32m-> 1086\u001b[0m \u001b[38;5;28;43mself\u001b[39;49m\u001b[38;5;241;43m.\u001b[39;49m\u001b[43m_error_handler\u001b[49m\u001b[38;5;241;43m.\u001b[39;49m\u001b[43mfatal_limits_exceeded\u001b[49m\u001b[43m(\u001b[49m\u001b[43mnb_vars\u001b[49m\u001b[43m,\u001b[49m\u001b[43m \u001b[49m\u001b[43mnb_constraints\u001b[49m\u001b[43m)\u001b[49m\n",
      "File \u001b[1;32m~\\AppData\\Roaming\\Python\\Python310\\site-packages\\docplex\\mp\\error_handler.py:214\u001b[0m, in \u001b[0;36mAbstractErrorHandler.fatal_limits_exceeded\u001b[1;34m(self, nb_vars, nb_constraints)\u001b[0m\n\u001b[0;32m    212\u001b[0m \u001b[38;5;28;01mdef\u001b[39;00m \u001b[38;5;21mfatal_limits_exceeded\u001b[39m(\u001b[38;5;28mself\u001b[39m, nb_vars, nb_constraints):\n\u001b[0;32m    213\u001b[0m     docplex_error_stop_here()\n\u001b[1;32m--> 214\u001b[0m     \u001b[38;5;28;01mraise\u001b[39;00m DOcplexLimitsExceeded(nb_vars, nb_constraints)\n",
      "\u001b[1;31mDOcplexLimitsExceeded\u001b[0m: **** Promotional version. Problem size limits (1000 vars, 1000 consts) exceeded, model has 1000 vars, 911 consts, CPLEX code=1016"
     ]
    }
   ],
   "source": [
    "li_soulution = linear_integer_with_preprocessing(graph)\n",
    "li_soulution = list(map(lambda x: int(x), li_soulution))\n",
    "print(li_soulution, calculate_total_edge_length(graph, li_soulution))"
   ]
  },
  {
   "cell_type": "code",
   "execution_count": null,
   "id": "a4a88467",
   "metadata": {},
   "outputs": [],
   "source": [
    "#greedy algoritam"
   ]
  },
  {
   "cell_type": "code",
   "execution_count": 162,
   "id": "221eedab",
   "metadata": {},
   "outputs": [],
   "source": [
    "#vidi da li moze bolje\n",
    "def greedy_linear_arrangement(graph, start_node):\n",
    "    num_nodes = len(graph)\n",
    "    #linear_arrangement = [random.choice(range(len(graph)))]\n",
    "    linear_arrangement = [start_node]\n",
    "\n",
    "    # Greedy algorithm\n",
    "    for _ in range(num_nodes - 1):\n",
    "        best_node = None\n",
    "        best_cost = float('inf')\n",
    "\n",
    "        for node in range(num_nodes):\n",
    "            if node not in linear_arrangement:\n",
    "                current_cost = 0\n",
    "                for placed_node in linear_arrangement:\n",
    "                    current_cost += graph[node][placed_node]\n",
    "\n",
    "                if current_cost < best_cost:\n",
    "                    best_cost = current_cost\n",
    "                    best_node = node\n",
    "\n",
    "        linear_arrangement.append(best_node)\n",
    "\n",
    "    return linear_arrangement"
   ]
  },
  {
   "cell_type": "code",
   "execution_count": 163,
   "id": "a4522ecd",
   "metadata": {},
   "outputs": [
    {
     "name": "stdout",
     "output_type": "stream",
     "text": [
      "[7, 5, 6, 8, 3, 9, 4, 1, 0, 2] 130\n"
     ]
    }
   ],
   "source": [
    "greedy_solution = greedy_linear_arrangement(graph, 7)\n",
    "greedy_value = calculate_total_edge_length(graph, greedy_solution)\n",
    "print(greedy_solution, greedy_value)"
   ]
  },
  {
   "cell_type": "code",
   "execution_count": 165,
   "id": "472d6e1b",
   "metadata": {},
   "outputs": [
    {
     "name": "stdout",
     "output_type": "stream",
     "text": [
      "[6, 1, 4, 9, 3, 8, 0, 2, 5, 7] 128\n"
     ]
    }
   ],
   "source": [
    "greedy_solutions = [None for i in range(num_nodes)]\n",
    "greedy_values = [None for i in range(num_nodes)]\n",
    "best_greedy_value = float('inf')\n",
    "best_greedy_i = 0\n",
    "\n",
    "for i in range(num_nodes):\n",
    "    greedy_solutions[i] = greedy_linear_arrangement(graph, i)\n",
    "    greedy_values[i] = calculate_total_edge_length(graph, greedy_solutions[i])\n",
    "\n",
    "    if greedy_values[i] < best_greedy_value:\n",
    "        best_greedy_value = greedy_values[i]\n",
    "        best_greedy_i = i\n",
    "\n",
    "print(greedy_solutions[best_greedy_i], best_greedy_value)    "
   ]
  }
 ],
 "metadata": {
  "kernelspec": {
   "display_name": "Python 3 (ipykernel)",
   "language": "python",
   "name": "python3"
  },
  "language_info": {
   "codemirror_mode": {
    "name": "ipython",
    "version": 3
   },
   "file_extension": ".py",
   "mimetype": "text/x-python",
   "name": "python",
   "nbconvert_exporter": "python",
   "pygments_lexer": "ipython3",
   "version": "3.10.11"
  }
 },
 "nbformat": 4,
 "nbformat_minor": 5
}
