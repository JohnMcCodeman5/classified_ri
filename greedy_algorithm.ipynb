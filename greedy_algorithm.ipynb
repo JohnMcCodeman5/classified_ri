{
 "cells": [
  {
   "cell_type": "code",
   "execution_count": 1,
   "metadata": {},
   "outputs": [],
   "source": [
    "import random\n",
    "import numpy as np\n",
    "import pandas as pd\n",
    "from matplotlib import pyplot as plt\n",
    "from copy import deepcopy\n",
    "import data_generation as dg"
   ]
  },
  {
   "cell_type": "code",
   "execution_count": 80,
   "metadata": {},
   "outputs": [],
   "source": [
    "graph, random_solution, total_edge_length = dg.read_scientific_instance('data\\\\nug_30_5.txt')\n",
    "num_nodes = len(graph)"
   ]
  },
  {
   "cell_type": "code",
   "execution_count": 81,
   "metadata": {},
   "outputs": [],
   "source": [
    "\n",
    "def greedy_linear_arrangement(graph, start_node):\n",
    "    num_nodes = len(graph)\n",
    "    #linear_arrangement = [random.choice(range(len(graph)))]\n",
    "    linear_arrangement = [start_node]\n",
    "\n",
    "    #greedy algorithm\n",
    "    for _ in range(num_nodes - 1):\n",
    "        best_node = None\n",
    "        best_cost = float('inf')\n",
    "\n",
    "        for node in range(num_nodes):\n",
    "            if node not in linear_arrangement:\n",
    "                current_cost = 0\n",
    "                for placed_node in linear_arrangement:\n",
    "                    current_cost += graph[node][placed_node]\n",
    "\n",
    "                if current_cost < best_cost:\n",
    "                    best_cost = current_cost\n",
    "                    best_node = node\n",
    "\n",
    "        linear_arrangement.append(best_node)\n",
    "\n",
    "    return linear_arrangement"
   ]
  },
  {
   "cell_type": "code",
   "execution_count": 82,
   "metadata": {},
   "outputs": [
    {
     "name": "stdout",
     "output_type": "stream",
     "text": [
      "[7, 5, 0, 10, 12, 17, 19, 3, 26, 22, 2, 27, 25, 23, 18, 28, 8, 9, 13, 4, 29, 24, 1, 11, 6, 16, 20, 21, 14, 15] 4096\n"
     ]
    }
   ],
   "source": [
    "#test for random starting node\n",
    "greedy_solution = greedy_linear_arrangement(graph, 7)\n",
    "greedy_value = dg.calculate_total_edge_length(graph, greedy_solution)\n",
    "print(greedy_solution, greedy_value)"
   ]
  },
  {
   "cell_type": "code",
   "execution_count": 83,
   "metadata": {},
   "outputs": [
    {
     "name": "stdout",
     "output_type": "stream",
     "text": [
      "[0, 5, 7, 10, 12, 17, 19, 3, 26, 22, 2, 27, 25, 23, 18, 28, 8, 9, 13, 4, 29, 24, 1, 11, 6, 16, 20, 21, 14, 15] 4094\n",
      "[1, 11, 6, 16, 21, 26, 3, 4, 13, 20, 23, 18, 28, 5, 0, 25, 2, 27, 7, 17, 12, 10, 19, 22, 8, 24, 29, 9, 14, 15] 4114\n",
      "[2, 17, 7, 22, 12, 27, 3, 19, 10, 26, 0, 5, 25, 23, 18, 28, 8, 9, 13, 4, 29, 24, 1, 11, 6, 16, 20, 21, 14, 15] 4122\n",
      "[3, 12, 10, 19, 17, 26, 0, 1, 2, 22, 7, 27, 5, 11, 6, 21, 4, 20, 13, 28, 16, 18, 23, 25, 8, 24, 29, 9, 14, 15] 4111\n",
      "[4, 6, 11, 13, 20, 27, 0, 1, 16, 21, 5, 7, 25, 2, 17, 26, 10, 12, 22, 3, 19, 23, 18, 28, 8, 24, 29, 9, 14, 15] 4113\n",
      "[5, 0, 7, 10, 12, 17, 19, 3, 26, 22, 2, 27, 25, 23, 18, 28, 8, 9, 13, 4, 29, 24, 1, 11, 6, 16, 20, 21, 14, 15] 4094\n",
      "[6, 4, 11, 13, 20, 27, 0, 1, 16, 21, 5, 7, 25, 2, 17, 26, 10, 12, 22, 3, 19, 23, 18, 28, 8, 24, 29, 9, 14, 15] 4113\n",
      "[7, 5, 0, 10, 12, 17, 19, 3, 26, 22, 2, 27, 25, 23, 18, 28, 8, 9, 13, 4, 29, 24, 1, 11, 6, 16, 20, 21, 14, 15] 4096\n",
      "[8, 23, 3, 28, 13, 18, 2, 25, 9, 16, 0, 5, 1, 11, 6, 21, 26, 4, 20, 27, 7, 17, 12, 10, 19, 22, 24, 29, 14, 15] 4108\n",
      "[9, 18, 2, 25, 16, 23, 0, 1, 3, 26, 6, 10, 11, 12, 17, 19, 27, 4, 13, 20, 28, 29, 5, 7, 21, 22, 24, 8, 14, 15] 4075\n",
      "[10, 0, 5, 7, 12, 17, 19, 3, 26, 22, 2, 27, 25, 23, 18, 28, 8, 9, 13, 4, 29, 24, 1, 11, 6, 16, 20, 21, 14, 15] 4096\n",
      "[11, 1, 6, 16, 21, 26, 3, 4, 13, 20, 23, 18, 28, 5, 0, 25, 2, 27, 7, 17, 12, 10, 19, 22, 8, 24, 29, 9, 14, 15] 4114\n",
      "[12, 3, 10, 19, 17, 26, 0, 1, 2, 22, 7, 27, 5, 11, 6, 21, 4, 20, 13, 28, 16, 18, 23, 25, 8, 24, 29, 9, 14, 15] 4111\n",
      "[13, 4, 6, 11, 20, 27, 0, 1, 16, 21, 5, 7, 25, 2, 17, 26, 10, 12, 22, 3, 19, 23, 18, 28, 8, 24, 29, 9, 14, 15] 4116\n",
      "[14, 5, 0, 7, 10, 12, 17, 19, 3, 26, 22, 2, 27, 25, 23, 18, 28, 8, 9, 29, 24, 1, 16, 4, 6, 11, 13, 20, 21, 15] 4113\n",
      "[15, 0, 5, 7, 10, 12, 17, 19, 3, 26, 22, 2, 27, 24, 1, 11, 6, 21, 4, 20, 29, 13, 28, 8, 23, 18, 16, 25, 9, 14] 4116\n",
      "[16, 1, 6, 11, 21, 26, 3, 4, 13, 20, 23, 18, 28, 5, 0, 25, 2, 27, 7, 17, 12, 10, 19, 22, 8, 24, 29, 9, 14, 15] 4117\n",
      "[17, 2, 7, 22, 12, 27, 3, 19, 10, 26, 0, 5, 25, 23, 18, 28, 8, 9, 13, 4, 29, 24, 1, 11, 6, 16, 20, 21, 14, 15] 4122\n",
      "[18, 2, 9, 25, 16, 23, 0, 1, 3, 26, 6, 10, 11, 12, 17, 19, 27, 4, 13, 20, 28, 29, 5, 7, 21, 22, 24, 8, 14, 15] 4071\n",
      "[19, 3, 10, 12, 17, 26, 0, 1, 2, 22, 7, 27, 5, 11, 6, 21, 4, 20, 13, 28, 16, 18, 23, 25, 8, 24, 29, 9, 14, 15] 4114\n",
      "[20, 0, 4, 5, 6, 11, 13, 21, 1, 16, 25, 23, 18, 28, 2, 27, 3, 26, 7, 17, 12, 10, 19, 22, 8, 24, 29, 9, 14, 15] 4108\n",
      "[21, 1, 5, 0, 6, 11, 16, 20, 4, 13, 25, 23, 18, 28, 2, 27, 3, 26, 7, 17, 12, 10, 19, 22, 8, 24, 29, 9, 14, 15] 4108\n",
      "[22, 2, 7, 17, 12, 27, 3, 19, 10, 26, 0, 5, 25, 23, 18, 28, 8, 9, 13, 4, 29, 24, 1, 11, 6, 16, 20, 21, 14, 15] 4125\n",
      "[23, 3, 8, 28, 13, 18, 2, 25, 9, 16, 0, 5, 1, 11, 6, 21, 26, 4, 20, 27, 7, 17, 12, 10, 19, 22, 24, 29, 14, 15] 4104\n",
      "[24, 1, 8, 11, 6, 16, 21, 26, 3, 23, 13, 28, 18, 4, 5, 20, 0, 25, 2, 27, 7, 17, 12, 22, 10, 19, 29, 9, 14, 15] 4088\n",
      "[25, 0, 2, 5, 7, 17, 22, 12, 27, 10, 19, 3, 26, 23, 18, 28, 8, 9, 13, 4, 29, 24, 1, 11, 6, 16, 20, 21, 14, 15] 4083\n",
      "[26, 1, 3, 6, 11, 16, 21, 4, 13, 20, 23, 18, 28, 5, 0, 25, 2, 27, 7, 17, 12, 10, 19, 22, 8, 24, 29, 9, 14, 15] 4102\n",
      "[27, 2, 4, 6, 11, 13, 20, 0, 25, 16, 1, 18, 23, 9, 21, 5, 28, 3, 26, 7, 17, 12, 10, 19, 22, 29, 24, 8, 14, 15] 4095\n",
      "[28, 3, 5, 0, 7, 8, 23, 13, 18, 25, 2, 9, 16, 17, 12, 22, 27, 4, 6, 11, 20, 26, 1, 10, 19, 21, 24, 29, 14, 15] 4052\n",
      "[29, 4, 6, 9, 11, 13, 20, 27, 0, 25, 2, 16, 18, 23, 1, 21, 5, 28, 3, 26, 7, 17, 12, 10, 19, 22, 24, 8, 14, 15] 4079\n",
      "[28, 3, 5, 0, 7, 8, 23, 13, 18, 25, 2, 9, 16, 17, 12, 22, 27, 4, 6, 11, 20, 26, 1, 10, 19, 21, 24, 29, 14, 15] 4052\n"
     ]
    }
   ],
   "source": [
    "import time\n",
    "\n",
    "greedy_solutions = [None for i in range(num_nodes)]\n",
    "greedy_values = [None for i in range(num_nodes)]\n",
    "best_greedy_value = float('inf')\n",
    "best_greedy_i = 0\n",
    "\n",
    "time_best = -1\n",
    "time_current = -1\n",
    "\n",
    "begining = time.time()\n",
    "for i in range(num_nodes):\n",
    "    start = time.time()\n",
    "    greedy_solutions[i] = greedy_linear_arrangement(graph, i)\n",
    "    end = time.time()\n",
    "\n",
    "    duration = float(\"{:.2f}\".format(end - start))\n",
    "\n",
    "    time_current = duration\n",
    "\n",
    "    greedy_values[i] = dg.calculate_total_edge_length(graph, greedy_solutions[i])\n",
    "\n",
    "    print(greedy_solutions[i], greedy_values[i])\n",
    "\n",
    "    if greedy_values[i] < best_greedy_value:\n",
    "        best_greedy_value = greedy_values[i]\n",
    "        best_greedy_i = i\n",
    "        time_best = time_current\n",
    "\n",
    "    if abs(time.time() - begining) >= 650:\n",
    "        print('time limit exceeded')\n",
    "        break    \n",
    "\n",
    "print(greedy_solutions[best_greedy_i], best_greedy_value)    "
   ]
  },
  {
   "cell_type": "code",
   "execution_count": 84,
   "metadata": {},
   "outputs": [],
   "source": [
    "import pandas as pd\n",
    "df = pd.DataFrame({'Dim': num_nodes, 'Method':  'greedy_algorithm', 'Value': best_greedy_value, 'Time': time_best}, index=[0])\n",
    "df.to_csv('comparison_tables/greedy.csv', mode='a', header=not pd.io.common.file_exists('comparison_tables/greedy.csv'), index=False)"
   ]
  },
  {
   "cell_type": "code",
   "execution_count": 85,
   "metadata": {},
   "outputs": [],
   "source": [
    "\n",
    "df_best = pd.read_csv('comparison_tables/bests.csv')\n",
    "df_avg = pd.read_csv('comparison_tables/averages.csv')\n",
    "row_to_update = df_best[df_best['Dim'] == num_nodes]\n",
    "\n",
    "if not row_to_update.empty:\n",
    "\n",
    "    df_best.loc[row_to_update.index, 'greedy'] = best_greedy_value\n",
    "    df_best.loc[row_to_update.index, 'greedy_time'] = duration\n",
    "    df_best.to_csv('comparison_tables/bests.csv', index=False)\n",
    "\n",
    "    #now to write averages...but here there is only one result which is both the best and avg\n",
    "    df_avg.loc[row_to_update.index, 'greedy'] = best_greedy_value\n",
    "    df_avg.loc[row_to_update.index, 'greedy_time'] = duration\n",
    "    df_avg.to_csv('comparison_tables/averages.csv', index=False)\n",
    "else:\n",
    "    new_row_data = {'Dim': num_nodes, 'greedy': best_greedy_value, 'greedy_time': duration}\n",
    "    df_best.loc[len(df)] = new_row_data\n",
    "    df_best.to_csv('comparison_tables/bests.csv', index=False)\n",
    "\n",
    "    df_avg.loc[len(df)] = new_row_data\n",
    "    df_avg.to_csv('comparison_tables/averages.csv', index=False)"
   ]
  },
  {
   "cell_type": "code",
   "execution_count": null,
   "metadata": {},
   "outputs": [],
   "source": []
  }
 ],
 "metadata": {
  "kernelspec": {
   "display_name": "Python 3",
   "language": "python",
   "name": "python3"
  },
  "language_info": {
   "codemirror_mode": {
    "name": "ipython",
    "version": 3
   },
   "file_extension": ".py",
   "mimetype": "text/x-python",
   "name": "python",
   "nbconvert_exporter": "python",
   "pygments_lexer": "ipython3",
   "version": "3.10.11"
  }
 },
 "nbformat": 4,
 "nbformat_minor": 2
}
