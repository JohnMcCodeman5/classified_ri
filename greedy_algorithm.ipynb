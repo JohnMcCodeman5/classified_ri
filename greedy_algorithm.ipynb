{
 "cells": [
  {
   "cell_type": "code",
   "execution_count": 1,
   "metadata": {},
   "outputs": [],
   "source": [
    "import random\n",
    "import numpy as np\n",
    "import pandas as pd\n",
    "from matplotlib import pyplot as plt\n",
    "from copy import deepcopy\n",
    "import data_generation as dg"
   ]
  },
  {
   "cell_type": "code",
   "execution_count": 14,
   "metadata": {},
   "outputs": [],
   "source": [
    "graph, random_solution, total_edge_length = dg.read_scientific_instance('data\\\\nug_23_5.txt')\n",
    "num_nodes = len(graph)"
   ]
  },
  {
   "cell_type": "code",
   "execution_count": 15,
   "metadata": {},
   "outputs": [],
   "source": [
    "#vidi da li moze bolje\n",
    "def greedy_linear_arrangement(graph, start_node):\n",
    "    num_nodes = len(graph)\n",
    "    #linear_arrangement = [random.choice(range(len(graph)))]\n",
    "    linear_arrangement = [start_node]\n",
    "\n",
    "    # Greedy algorithm\n",
    "    for _ in range(num_nodes - 1):\n",
    "        best_node = None\n",
    "        best_cost = float('inf')\n",
    "\n",
    "        for node in range(num_nodes):\n",
    "            if node not in linear_arrangement:\n",
    "                current_cost = 0\n",
    "                for placed_node in linear_arrangement:\n",
    "                    current_cost += graph[node][placed_node]\n",
    "\n",
    "                if current_cost < best_cost:\n",
    "                    best_cost = current_cost\n",
    "                    best_node = node\n",
    "\n",
    "        linear_arrangement.append(best_node)\n",
    "\n",
    "    return linear_arrangement"
   ]
  },
  {
   "cell_type": "code",
   "execution_count": 16,
   "metadata": {},
   "outputs": [
    {
     "name": "stdout",
     "output_type": "stream",
     "text": [
      "[7, 5, 0, 10, 12, 17, 19, 3, 22, 2, 14, 15, 18, 9, 16, 1, 21, 6, 11, 20, 4, 13, 8] 1914\n"
     ]
    }
   ],
   "source": [
    "greedy_solution = greedy_linear_arrangement(graph, 7)\n",
    "greedy_value = dg.calculate_total_edge_length(graph, greedy_solution)\n",
    "print(greedy_solution, greedy_value)"
   ]
  },
  {
   "cell_type": "code",
   "execution_count": 17,
   "metadata": {},
   "outputs": [
    {
     "name": "stdout",
     "output_type": "stream",
     "text": [
      "[0, 5, 7, 10, 12, 17, 19, 3, 22, 2, 14, 15, 18, 9, 16, 1, 21, 6, 11, 20, 4, 13, 8] 1912\n",
      "[1, 11, 6, 16, 21, 4, 13, 20, 0, 5, 7, 10, 12, 17, 19, 3, 22, 2, 18, 9, 14, 15, 8] 1915\n",
      "[2, 17, 7, 22, 12, 3, 19, 10, 0, 5, 14, 15, 18, 9, 16, 1, 21, 6, 11, 20, 4, 13, 8] 1938\n",
      "[3, 12, 10, 19, 17, 0, 2, 22, 7, 5, 14, 15, 18, 9, 16, 1, 21, 6, 11, 20, 4, 13, 8] 1936\n",
      "[4, 6, 11, 13, 20, 0, 1, 16, 21, 5, 7, 10, 12, 17, 19, 3, 22, 2, 18, 9, 14, 15, 8] 1911\n",
      "[5, 0, 7, 10, 12, 17, 19, 3, 22, 2, 14, 15, 18, 9, 16, 1, 21, 6, 11, 20, 4, 13, 8] 1912\n",
      "[6, 4, 11, 13, 20, 0, 1, 16, 21, 5, 7, 10, 12, 17, 19, 3, 22, 2, 18, 9, 14, 15, 8] 1910\n",
      "[7, 5, 0, 10, 12, 17, 19, 3, 22, 2, 14, 15, 18, 9, 16, 1, 21, 6, 11, 20, 4, 13, 8] 1914\n",
      "[8, 0, 5, 7, 10, 12, 17, 19, 3, 22, 2, 14, 15, 18, 9, 16, 1, 21, 6, 11, 20, 4, 13] 1912\n",
      "[9, 18, 2, 16, 1, 6, 11, 21, 4, 13, 20, 0, 5, 7, 17, 22, 12, 10, 19, 3, 14, 15, 8] 1923\n",
      "[10, 0, 5, 7, 12, 17, 19, 3, 22, 2, 14, 15, 18, 9, 16, 1, 21, 6, 11, 20, 4, 13, 8] 1914\n",
      "[11, 1, 6, 16, 21, 4, 13, 20, 0, 5, 7, 10, 12, 17, 19, 3, 22, 2, 18, 9, 14, 15, 8] 1914\n",
      "[12, 3, 10, 19, 17, 0, 2, 22, 7, 5, 14, 15, 18, 9, 16, 1, 21, 6, 11, 20, 4, 13, 8] 1934\n",
      "[13, 4, 6, 11, 20, 0, 1, 16, 21, 5, 7, 10, 12, 17, 19, 3, 22, 2, 18, 9, 14, 15, 8] 1916\n",
      "[14, 5, 0, 7, 10, 12, 17, 19, 3, 22, 2, 15, 18, 9, 16, 1, 21, 6, 11, 20, 4, 13, 8] 1925\n",
      "[15, 0, 5, 7, 10, 12, 17, 19, 3, 22, 2, 14, 18, 9, 16, 1, 21, 6, 11, 20, 4, 13, 8] 1925\n",
      "[16, 1, 6, 11, 21, 4, 13, 20, 0, 5, 7, 10, 12, 17, 19, 3, 22, 2, 18, 9, 14, 15, 8] 1917\n",
      "[17, 2, 7, 22, 12, 3, 19, 10, 0, 5, 14, 15, 18, 9, 16, 1, 21, 6, 11, 20, 4, 13, 8] 1937\n",
      "[18, 2, 9, 16, 1, 6, 11, 21, 4, 13, 20, 0, 5, 7, 17, 22, 12, 10, 19, 3, 14, 15, 8] 1919\n",
      "[19, 3, 10, 12, 17, 0, 2, 22, 7, 5, 14, 15, 18, 9, 16, 1, 21, 6, 11, 20, 4, 13, 8] 1937\n",
      "[20, 0, 4, 5, 6, 11, 13, 21, 1, 16, 7, 10, 12, 17, 19, 3, 22, 2, 18, 9, 14, 15, 8] 1896\n",
      "[21, 1, 5, 0, 6, 11, 16, 20, 4, 13, 7, 10, 12, 17, 19, 3, 22, 2, 18, 9, 14, 15, 8] 1894\n",
      "[22, 2, 7, 17, 12, 3, 19, 10, 0, 5, 14, 15, 18, 9, 16, 1, 21, 6, 11, 20, 4, 13, 8] 1940\n",
      "[21, 1, 5, 0, 6, 11, 16, 20, 4, 13, 7, 10, 12, 17, 19, 3, 22, 2, 18, 9, 14, 15, 8] 1894\n"
     ]
    }
   ],
   "source": [
    "import time\n",
    "\n",
    "greedy_solutions = [None for i in range(num_nodes)]\n",
    "greedy_values = [None for i in range(num_nodes)]\n",
    "best_greedy_value = float('inf')\n",
    "best_greedy_i = 0\n",
    "\n",
    "time_best = -1\n",
    "time_current = -1\n",
    "\n",
    "begining = time.time()\n",
    "for i in range(num_nodes):\n",
    "    start = time.time()\n",
    "    greedy_solutions[i] = greedy_linear_arrangement(graph, i)\n",
    "    end = time.time()\n",
    "\n",
    "    duration = float(\"{:.2f}\".format(end - start))\n",
    "\n",
    "    time_current = duration\n",
    "\n",
    "    greedy_values[i] = dg.calculate_total_edge_length(graph, greedy_solutions[i])\n",
    "\n",
    "    print(greedy_solutions[i], greedy_values[i])\n",
    "\n",
    "    if greedy_values[i] < best_greedy_value:\n",
    "        best_greedy_value = greedy_values[i]\n",
    "        best_greedy_i = i\n",
    "        time_best = time_current\n",
    "\n",
    "    if abs(time.time() - begining) >= 650:\n",
    "        print('time limit exceeded')\n",
    "        break    \n",
    "\n",
    "print(greedy_solutions[best_greedy_i], best_greedy_value)    "
   ]
  },
  {
   "cell_type": "code",
   "execution_count": 18,
   "metadata": {},
   "outputs": [],
   "source": [
    "import pandas as pd\n",
    "df = pd.DataFrame({'Dim': num_nodes, 'Method':  'greedy_algorithm', 'Value': best_greedy_value, 'Time': time_best}, index=[0])\n",
    "df.to_csv('comparison_tables/greedy.csv', mode='a', header=not pd.io.common.file_exists('comparison_tables/greedy.csv'), index=False)"
   ]
  },
  {
   "cell_type": "code",
   "execution_count": 19,
   "metadata": {},
   "outputs": [],
   "source": [
    "\n",
    "df_best = pd.read_csv('comparison_tables/bests.csv')\n",
    "df_avg = pd.read_csv('comparison_tables/averages.csv')\n",
    "row_to_update = df_best[df_best['Dim'] == num_nodes]\n",
    "\n",
    "# Check if the row exists\n",
    "if not row_to_update.empty:\n",
    "    # Update specific columns in the located row\n",
    "    df_best.loc[row_to_update.index, 'greedy'] = best_greedy_value\n",
    "    df_best.loc[row_to_update.index, 'greedy_time'] = duration\n",
    "    df_best.to_csv('comparison_tables/bests.csv', index=False)\n",
    "\n",
    "    #now to write averages...but here there is only one result which is both the best and avg\n",
    "    df_avg.loc[row_to_update.index, 'greedy'] = best_greedy_value\n",
    "    df_avg.loc[row_to_update.index, 'greedy_time'] = duration\n",
    "    df_avg.to_csv('comparison_tables/averages.csv', index=False)\n",
    "else:\n",
    "    new_row_data = {'Dim': num_nodes, 'greedy': best_greedy_value, 'greedy_time': duration}\n",
    "    df_best.loc[len(df)] = new_row_data\n",
    "    df_best.to_csv('comparison_tables/bests.csv', index=False)\n",
    "\n",
    "    df_avg.loc[len(df)] = new_row_data\n",
    "    df_avg.to_csv('comparison_tables/averages.csv', index=False)"
   ]
  },
  {
   "cell_type": "code",
   "execution_count": null,
   "metadata": {},
   "outputs": [],
   "source": []
  }
 ],
 "metadata": {
  "kernelspec": {
   "display_name": "Python 3",
   "language": "python",
   "name": "python3"
  },
  "language_info": {
   "codemirror_mode": {
    "name": "ipython",
    "version": 3
   },
   "file_extension": ".py",
   "mimetype": "text/x-python",
   "name": "python",
   "nbconvert_exporter": "python",
   "pygments_lexer": "ipython3",
   "version": "3.10.11"
  }
 },
 "nbformat": 4,
 "nbformat_minor": 2
}
