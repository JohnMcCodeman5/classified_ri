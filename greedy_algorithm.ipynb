{
 "cells": [
  {
   "cell_type": "code",
   "execution_count": 1,
   "metadata": {},
   "outputs": [],
   "source": [
    "import random\n",
    "import numpy as np\n",
    "import pandas as pd\n",
    "from matplotlib import pyplot as plt\n",
    "from copy import deepcopy\n",
    "import data_generation as dg"
   ]
  },
  {
   "cell_type": "code",
   "execution_count": 2,
   "metadata": {},
   "outputs": [],
   "source": [
    "graph, random_solution, total_edge_length = dg.read_instance('data\\data20.txt')\n",
    "num_nodes = len(graph)"
   ]
  },
  {
   "cell_type": "code",
   "execution_count": 3,
   "metadata": {},
   "outputs": [],
   "source": [
    "#vidi da li moze bolje\n",
    "def greedy_linear_arrangement(graph, start_node):\n",
    "    num_nodes = len(graph)\n",
    "    #linear_arrangement = [random.choice(range(len(graph)))]\n",
    "    linear_arrangement = [start_node]\n",
    "\n",
    "    # Greedy algorithm\n",
    "    for _ in range(num_nodes - 1):\n",
    "        best_node = None\n",
    "        best_cost = float('inf')\n",
    "\n",
    "        for node in range(num_nodes):\n",
    "            if node not in linear_arrangement:\n",
    "                current_cost = 0\n",
    "                for placed_node in linear_arrangement:\n",
    "                    current_cost += graph[node][placed_node]\n",
    "\n",
    "                if current_cost < best_cost:\n",
    "                    best_cost = current_cost\n",
    "                    best_node = node\n",
    "\n",
    "        linear_arrangement.append(best_node)\n",
    "\n",
    "    return linear_arrangement"
   ]
  },
  {
   "cell_type": "code",
   "execution_count": 4,
   "metadata": {},
   "outputs": [
    {
     "name": "stdout",
     "output_type": "stream",
     "text": [
      "[7, 0, 1, 14, 8, 13, 5, 15, 16, 11, 2, 10, 12, 19, 4, 17, 3, 18, 6, 9] 699\n"
     ]
    }
   ],
   "source": [
    "greedy_solution = greedy_linear_arrangement(graph, 7)\n",
    "greedy_value = dg.calculate_total_edge_length(graph, greedy_solution)\n",
    "print(greedy_solution, greedy_value)"
   ]
  },
  {
   "cell_type": "code",
   "execution_count": 5,
   "metadata": {},
   "outputs": [
    {
     "name": "stdout",
     "output_type": "stream",
     "text": [
      "[0, 1, 7, 14, 8, 13, 5, 15, 16, 11, 2, 10, 12, 19, 4, 17, 3, 18, 6, 9] 698\n",
      "[1, 0, 7, 14, 8, 13, 5, 15, 16, 11, 2, 10, 12, 19, 4, 17, 3, 18, 6, 9] 695\n",
      "[2, 3, 8, 13, 15, 5, 1, 4, 12, 19, 7, 10, 11, 14, 16, 0, 17, 18, 6, 9] 709\n",
      "[3, 1, 9, 13, 15, 12, 0, 8, 2, 19, 4, 5, 7, 14, 11, 16, 10, 17, 18, 6] 779\n",
      "[4, 1, 5, 15, 2, 8, 12, 13, 19, 3, 7, 10, 11, 14, 16, 0, 17, 18, 6, 9] 710\n",
      "[5, 1, 4, 15, 2, 8, 12, 13, 19, 3, 7, 10, 11, 14, 16, 0, 17, 18, 6, 9] 702\n",
      "[6, 2, 5, 10, 7, 8, 16, 11, 15, 19, 17, 1, 0, 12, 13, 14, 4, 18, 3, 9] 750\n",
      "[7, 0, 1, 14, 8, 13, 5, 15, 16, 11, 2, 10, 12, 19, 4, 17, 3, 18, 6, 9] 699\n",
      "[8, 0, 7, 14, 16, 11, 5, 10, 1, 15, 17, 2, 13, 19, 12, 4, 3, 18, 6, 9] 734\n",
      "[9, 0, 1, 12, 13, 15, 3, 8, 2, 19, 4, 5, 7, 14, 11, 16, 10, 17, 18, 6] 785\n",
      "[10, 1, 5, 7, 2, 8, 4, 12, 15, 19, 13, 14, 16, 0, 11, 17, 3, 18, 6, 9] 705\n",
      "[11, 0, 7, 14, 16, 8, 5, 10, 1, 15, 17, 2, 13, 19, 12, 4, 3, 18, 6, 9] 754\n",
      "[12, 0, 1, 9, 13, 15, 3, 8, 2, 19, 4, 5, 7, 14, 11, 16, 10, 17, 18, 6] 773\n",
      "[13, 0, 1, 9, 12, 15, 3, 8, 2, 19, 4, 5, 7, 14, 11, 16, 10, 17, 18, 6] 765\n",
      "[14, 0, 1, 7, 8, 13, 5, 15, 16, 11, 2, 10, 12, 19, 4, 17, 3, 18, 6, 9] 705\n",
      "[15, 1, 3, 9, 13, 12, 0, 8, 2, 19, 4, 5, 7, 14, 11, 16, 10, 17, 18, 6] 753\n",
      "[16, 0, 7, 8, 14, 11, 5, 10, 1, 15, 17, 2, 13, 19, 12, 4, 3, 18, 6, 9] 741\n",
      "[17, 0, 1, 5, 7, 8, 10, 11, 16, 14, 15, 2, 13, 19, 12, 4, 3, 18, 6, 9] 730\n",
      "[18, 3, 13, 15, 1, 9, 12, 0, 8, 2, 19, 4, 5, 7, 10, 16, 11, 14, 17, 6] 738\n",
      "[19, 1, 4, 12, 15, 2, 8, 13, 5, 3, 7, 10, 11, 14, 16, 0, 17, 18, 6, 9] 729\n",
      "[1, 0, 7, 14, 8, 13, 5, 15, 16, 11, 2, 10, 12, 19, 4, 17, 3, 18, 6, 9] 695\n"
     ]
    }
   ],
   "source": [
    "import time\n",
    "\n",
    "greedy_solutions = [None for i in range(num_nodes)]\n",
    "greedy_values = [None for i in range(num_nodes)]\n",
    "best_greedy_value = float('inf')\n",
    "best_greedy_i = 0\n",
    "\n",
    "time_best = -1\n",
    "time_current = -1\n",
    "\n",
    "for i in range(num_nodes):\n",
    "    start = time.time()\n",
    "    greedy_solutions[i] = greedy_linear_arrangement(graph, i)\n",
    "    end = time.time()\n",
    "\n",
    "    duration = float(\"{:.2f}\".format(end - start))\n",
    "\n",
    "    time_current = duration\n",
    "\n",
    "    greedy_values[i] = dg.calculate_total_edge_length(graph, greedy_solutions[i])\n",
    "\n",
    "    print(greedy_solutions[i], greedy_values[i])\n",
    "\n",
    "    if greedy_values[i] < best_greedy_value:\n",
    "        best_greedy_value = greedy_values[i]\n",
    "        best_greedy_i = i\n",
    "        time_best = time_current\n",
    "\n",
    "print(greedy_solutions[best_greedy_i], best_greedy_value)    "
   ]
  },
  {
   "cell_type": "code",
   "execution_count": 6,
   "metadata": {},
   "outputs": [],
   "source": [
    "import pandas as pd\n",
    "df = pd.DataFrame({'Dim': num_nodes, 'Method':  'greedy_algorithm', 'Value': best_greedy_value, 'Time': time_best}, index=[0])\n",
    "df.to_csv('comparison_tables/greedy.csv', mode='a', header=not pd.io.common.file_exists('comparison_tables/greedy.csv'), index=False)"
   ]
  }
 ],
 "metadata": {
  "kernelspec": {
   "display_name": "Python 3",
   "language": "python",
   "name": "python3"
  },
  "language_info": {
   "codemirror_mode": {
    "name": "ipython",
    "version": 3
   },
   "file_extension": ".py",
   "mimetype": "text/x-python",
   "name": "python",
   "nbconvert_exporter": "python",
   "pygments_lexer": "ipython3",
   "version": "3.10.11"
  }
 },
 "nbformat": 4,
 "nbformat_minor": 2
}
