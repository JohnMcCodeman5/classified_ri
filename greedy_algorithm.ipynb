{
 "cells": [
  {
   "cell_type": "code",
   "execution_count": 8,
   "metadata": {},
   "outputs": [],
   "source": [
    "import random\n",
    "import numpy as np\n",
    "import pandas as pd\n",
    "from matplotlib import pyplot as plt\n",
    "from copy import deepcopy\n",
    "import data_generation as dg"
   ]
  },
  {
   "cell_type": "code",
   "execution_count": 9,
   "metadata": {},
   "outputs": [],
   "source": [
    "graph, random_solution, total_edge_length = dg.read_instance('data\\data8.txt')\n",
    "num_nodes = len(graph)"
   ]
  },
  {
   "cell_type": "code",
   "execution_count": 10,
   "metadata": {},
   "outputs": [],
   "source": [
    "#vidi da li moze bolje\n",
    "def greedy_linear_arrangement(graph, start_node):\n",
    "    num_nodes = len(graph)\n",
    "    #linear_arrangement = [random.choice(range(len(graph)))]\n",
    "    linear_arrangement = [start_node]\n",
    "\n",
    "    # Greedy algorithm\n",
    "    for _ in range(num_nodes - 1):\n",
    "        best_node = None\n",
    "        best_cost = float('inf')\n",
    "\n",
    "        for node in range(num_nodes):\n",
    "            if node not in linear_arrangement:\n",
    "                current_cost = 0\n",
    "                for placed_node in linear_arrangement:\n",
    "                    current_cost += graph[node][placed_node]\n",
    "\n",
    "                if current_cost < best_cost:\n",
    "                    best_cost = current_cost\n",
    "                    best_node = node\n",
    "\n",
    "        linear_arrangement.append(best_node)\n",
    "\n",
    "    return linear_arrangement"
   ]
  },
  {
   "cell_type": "code",
   "execution_count": 11,
   "metadata": {},
   "outputs": [
    {
     "name": "stdout",
     "output_type": "stream",
     "text": [
      "[7, 3, 5, 6, 2, 0, 1, 4] 58\n"
     ]
    }
   ],
   "source": [
    "greedy_solution = greedy_linear_arrangement(graph, 7)\n",
    "greedy_value = dg.calculate_total_edge_length(graph, greedy_solution)\n",
    "print(greedy_solution, greedy_value)"
   ]
  },
  {
   "cell_type": "code",
   "execution_count": 12,
   "metadata": {},
   "outputs": [
    {
     "name": "stdout",
     "output_type": "stream",
     "text": [
      "[0, 1, 2, 5, 6, 3, 4, 7] 53\n",
      "[1, 0, 2, 5, 6, 3, 4, 7] 52\n",
      "[2, 0, 1, 5, 6, 3, 4, 7] 52\n",
      "[3, 5, 6, 2, 0, 1, 4, 7] 48\n",
      "[4, 1, 0, 2, 5, 6, 3, 7] 58\n",
      "[5, 0, 2, 1, 6, 3, 4, 7] 46\n",
      "[6, 1, 2, 0, 5, 3, 4, 7] 52\n",
      "[7, 3, 5, 6, 2, 0, 1, 4] 58\n",
      "[5, 0, 2, 1, 6, 3, 4, 7] 46\n"
     ]
    }
   ],
   "source": [
    "import time\n",
    "\n",
    "greedy_solutions = [None for i in range(num_nodes)]\n",
    "greedy_values = [None for i in range(num_nodes)]\n",
    "best_greedy_value = float('inf')\n",
    "best_greedy_i = 0\n",
    "\n",
    "time_best = -1\n",
    "time_current = -1\n",
    "\n",
    "for i in range(num_nodes):\n",
    "    start = time.time()\n",
    "    greedy_solutions[i] = greedy_linear_arrangement(graph, i)\n",
    "    end = time.time()\n",
    "\n",
    "    duration = float(\"{:.2f}\".format(end - start))\n",
    "\n",
    "    time_current = duration\n",
    "\n",
    "    greedy_values[i] = dg.calculate_total_edge_length(graph, greedy_solutions[i])\n",
    "\n",
    "    print(greedy_solutions[i], greedy_values[i])\n",
    "\n",
    "    if greedy_values[i] < best_greedy_value:\n",
    "        best_greedy_value = greedy_values[i]\n",
    "        best_greedy_i = i\n",
    "        time_best = time_current\n",
    "\n",
    "print(greedy_solutions[best_greedy_i], best_greedy_value)    "
   ]
  },
  {
   "cell_type": "code",
   "execution_count": 13,
   "metadata": {},
   "outputs": [],
   "source": [
    "import pandas as pd\n",
    "df = pd.DataFrame({'Dim': num_nodes, 'Method':  'greedy_algorithm', 'Value': best_greedy_value, 'Time': time_best}, index=[0])\n",
    "df.to_csv('comparison_tables/greedy.csv', mode='a', header=not pd.io.common.file_exists('comparison_tables/greedy.csv'), index=False)"
   ]
  },
  {
   "cell_type": "code",
   "execution_count": 14,
   "metadata": {},
   "outputs": [],
   "source": [
    "\n",
    "df = pd.read_csv('comparison_tables/bests.csv')\n",
    "row_to_update = df[df['Dim'] == num_nodes]\n",
    "\n",
    "# Check if the row exists\n",
    "if not row_to_update.empty:\n",
    "    # Update specific columns in the located row\n",
    "    df.loc[row_to_update.index, 'greedy'] = best_greedy_value\n",
    "    df.loc[row_to_update.index, 'greedy_time'] = duration\n",
    "\n",
    "    # Save the updated DataFrame back to the CSV file\n",
    "    df.to_csv('comparison_tables/bests.csv', index=False)\n",
    "else:\n",
    "    print(f\"Row with Dim={num_nodes} not found.\")"
   ]
  },
  {
   "cell_type": "code",
   "execution_count": null,
   "metadata": {},
   "outputs": [],
   "source": []
  }
 ],
 "metadata": {
  "kernelspec": {
   "display_name": "Python 3",
   "language": "python",
   "name": "python3"
  },
  "language_info": {
   "codemirror_mode": {
    "name": "ipython",
    "version": 3
   },
   "file_extension": ".py",
   "mimetype": "text/x-python",
   "name": "python",
   "nbconvert_exporter": "python",
   "pygments_lexer": "ipython3",
   "version": "3.10.11"
  }
 },
 "nbformat": 4,
 "nbformat_minor": 2
}
