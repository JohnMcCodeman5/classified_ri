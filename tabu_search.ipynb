{
 "cells": [
  {
   "cell_type": "code",
   "execution_count": 1,
   "metadata": {},
   "outputs": [],
   "source": [
    "import random\n",
    "import numpy as np\n",
    "import pandas as pd\n",
    "from matplotlib import pyplot as plt\n",
    "from copy import deepcopy\n",
    "import data_generation as dg\n",
    "import time"
   ]
  },
  {
   "cell_type": "code",
   "execution_count": 244,
   "metadata": {},
   "outputs": [],
   "source": [
    "graph, random_solution, total_edge_length = dg.read_scientific_instance('data\\\\nug_30_5.txt')\n",
    "num_nodes = len(graph)"
   ]
  },
  {
   "cell_type": "code",
   "execution_count": 245,
   "metadata": {},
   "outputs": [],
   "source": [
    "def tabu_swap_neighbors(solution):\n",
    "    #for each pair of solution elements that are next to eachother, create a solution where they are swaapped\n",
    "    neighbors = []\n",
    "\n",
    "    for i in range(len(solution) - 1):\n",
    "        neighbor = solution.copy()\n",
    "        #this works in python\n",
    "        neighbor[i], neighbor[i + 1] = neighbor[i + 1], neighbor[i]\n",
    "        neighbors.append(neighbor)\n",
    "        \n",
    "    return neighbors"
   ]
  },
  {
   "cell_type": "code",
   "execution_count": 246,
   "metadata": {},
   "outputs": [],
   "source": [
    "def tabu_swap(solution):\n",
    "    #this just creates all possible swap combos, every element is swapped with every other element\n",
    "    #still polynomial, and not even that much slower, even for large N\n",
    "    solutions = []\n",
    "\n",
    "    for i in range(len(solution)):\n",
    "        for j in range(i+1, len(solution)):\n",
    "            solution = solution.copy()\n",
    "            tmp = solution[i]\n",
    "            solution[i] = solution[j]\n",
    "            solution[j] = tmp\n",
    "            solutions.append(solution)\n",
    "            \n",
    "    return solutions"
   ]
  },
  {
   "cell_type": "code",
   "execution_count": 247,
   "metadata": {},
   "outputs": [],
   "source": [
    "def tabu_inverse_complete(solution):\n",
    "    #creates all possible solutions based on inversing every possible part of the starting solution\n",
    "    #seems overkill but - surprisingly good time and results\n",
    "    solutions = []\n",
    "\n",
    "    for i in range(len(solution)):\n",
    "        for j in range(i+1, len(solution)):\n",
    "            new_solution = solution.copy()\n",
    "            new_solution[i:j] = reversed(new_solution[i:j])\n",
    "            solutions.append(new_solution)\n",
    "            \n",
    "    return solutions"
   ]
  },
  {
   "cell_type": "code",
   "execution_count": 248,
   "metadata": {},
   "outputs": [],
   "source": [
    "def tabu_inverse(solution):\n",
    "    #simpler version of the previous method:\n",
    "    #for every position i in the solution, get a random index j after it\n",
    "    #then reverse the solution from i to j\n",
    "    solutions = []\n",
    "\n",
    "    for i in range(len(solution) - 1):\n",
    "        new_solution = solution.copy()\n",
    "        j = random.randrange(i+1, len(solution))\n",
    "        new_solution[i:j] = reversed(new_solution[i:j])\n",
    "        solutions.append(new_solution)\n",
    "        \n",
    "    return solutions"
   ]
  },
  {
   "cell_type": "code",
   "execution_count": 249,
   "metadata": {},
   "outputs": [],
   "source": [
    "def tabu_scramble(solution):\n",
    "    #every time we scramble a part of the solution - we create a new solution\n",
    "    #but keep the original unchanged - the neighbourhood stems exclusivly from the original solution\n",
    "    solutions = []\n",
    "\n",
    "    for i in range(len(solution)):\n",
    "        for j in range(i+1, len(solution)):\n",
    "            new_solution = solution.copy()\n",
    "            sub = new_solution[i:j]\n",
    "            random.shuffle(sub)\n",
    "            new_solution[i:j] = sub\n",
    "            solutions.append(new_solution)\n",
    "            \n",
    "    return solutions"
   ]
  },
  {
   "cell_type": "code",
   "execution_count": 250,
   "metadata": {},
   "outputs": [],
   "source": [
    "def tabu_scramble_continuous(solution):\n",
    "    #a bit more experimental, here we keep continously changing the solution - it fits the term \"neighbourhood\" less\n",
    "    #but it widens the search\n",
    "    solutions = []\n",
    "\n",
    "    for i in range(len(solution)):\n",
    "        for j in range(i+1, len(solution)):\n",
    "            solution = solution.copy()\n",
    "            sub = solution[i:j]\n",
    "            random.shuffle(sub)\n",
    "            solution[i:j] = sub\n",
    "            solutions.append(solution)\n",
    "            \n",
    "    return solutions"
   ]
  },
  {
   "cell_type": "code",
   "execution_count": 251,
   "metadata": {},
   "outputs": [],
   "source": [
    "def tabu_double_bridge_move(solution, num_neighbors=1):\n",
    "    #not our idea, saw it online - bad results and time for MinLA\n",
    "    #still included it\n",
    "    n = len(solution)\n",
    "    if n < 4:\n",
    "        return [solution]\n",
    "\n",
    "    neighbors = []\n",
    "    for _ in range(num_neighbors):\n",
    "        i = random.randint(1, n - 3)\n",
    "        j = random.randint(i + 1, n - 2)\n",
    "        k = random.randint(j + 1, n - 1)\n",
    "\n",
    "        #make sure i, j, and k are distinct\n",
    "        while i == j or j == k or i == k:\n",
    "            i = random.randint(1, n - 3)\n",
    "            j = random.randint(i + 1, n - 2)\n",
    "            k = random.randint(j + 1, n - 1)\n",
    "\n",
    "        neighbor = (\n",
    "            solution[:i] + solution[j:k] + solution[i:j] + solution[k:]\n",
    "        )\n",
    "        neighbors.append(neighbor)\n",
    "\n",
    "    return neighbors"
   ]
  },
  {
   "cell_type": "code",
   "execution_count": 252,
   "metadata": {},
   "outputs": [],
   "source": [
    "def tabu_search(graph, solution, max_iterations, neighbor_gen_func, tabu_tenure):\n",
    "    num_nodes = len(graph)\n",
    "    current_solution = deepcopy(solution)\n",
    "    current_value = dg.calculate_total_edge_length(graph, current_solution)\n",
    "    best_solution = current_solution.copy()\n",
    "    best_value = current_value\n",
    "    tabu_list = []\n",
    "\n",
    "    best_i = -1\n",
    "\n",
    "    for ind in range(max_iterations):\n",
    "        neighbors = neighbor_gen_func(current_solution)\n",
    "        neighbors.sort(key=lambda solution: dg.calculate_total_edge_length(graph, solution))\n",
    "        #print(neighbors[0], calculate_total_edge_length(graph, neighbors[0]))\n",
    "\n",
    "        next_solution = None\n",
    "        for neighbor in neighbors:\n",
    "            if neighbor not in tabu_list:\n",
    "                next_solution = neighbor\n",
    "                break\n",
    "\n",
    "        #if all neighbors are tabu, choose the best one\n",
    "        if next_solution is None:\n",
    "            next_solution = neighbors[0]\n",
    "\n",
    "        #update tabu list\n",
    "        #tenure decides how long already visited solutions will stay forbidden\n",
    "        tabu_list.append(next_solution)\n",
    "        if len(tabu_list) > tabu_tenure:\n",
    "            tabu_list.pop(0)\n",
    "\n",
    "        #update current solution\n",
    "        current_solution = deepcopy(next_solution)\n",
    "        current_value = dg.calculate_total_edge_length(graph, current_solution)\n",
    "\n",
    "        #update best solution\n",
    "        if current_value < best_value:\n",
    "            best_i = ind\n",
    "            best_solution = deepcopy(current_solution)\n",
    "            best_value = current_value\n",
    "\n",
    "    return best_solution, best_value, best_i"
   ]
  },
  {
   "cell_type": "code",
   "execution_count": 253,
   "metadata": {},
   "outputs": [],
   "source": [
    "sols = []\n",
    "values = []\n",
    "iters = []\n",
    "times = []"
   ]
  },
  {
   "cell_type": "code",
   "execution_count": 254,
   "metadata": {},
   "outputs": [
    {
     "name": "stdout",
     "output_type": "stream",
     "text": [
      "[2, 6, 3, 1, 7, 20, 8, 9, 14, 19, 15, 10, 5, 4, 23, 11, 24, 28, 17, 0, 27, 18, 21, 12, 25, 13, 16, 22, 29, 26] 3660 76\n"
     ]
    }
   ],
   "source": [
    "start = time.time()\n",
    "solution, value, iter = tabu_search(graph, random_solution, 500, tabu_swap_neighbors, 5)\n",
    "end = time.time()\n",
    "duration = float(\"{:.2f}\".format(end - start))\n",
    "print(solution, value, iter)\n",
    "sols.append(solution)\n",
    "values.append(value)\n",
    "iters.append(iter)\n",
    "times.append(duration)"
   ]
  },
  {
   "cell_type": "code",
   "execution_count": 255,
   "metadata": {},
   "outputs": [
    {
     "name": "stdout",
     "output_type": "stream",
     "text": [
      "[1, 23, 17, 6, 27, 5, 25, 22, 10, 24, 28, 4, 15, 9, 3, 20, 14, 19, 13, 18, 21, 16, 8, 7, 12, 2, 29, 11, 0, 26] 3554 16\n"
     ]
    }
   ],
   "source": [
    "start = time.time()\n",
    "solution, value, iter = tabu_search(graph, random_solution, 200, tabu_swap, 10)\n",
    "end = time.time()\n",
    "duration = float(\"{:.2f}\".format(end - start))\n",
    "print(solution, value, iter)\n",
    "sols.append(solution)\n",
    "values.append(value)\n",
    "iters.append(iter)\n",
    "times.append(duration)"
   ]
  },
  {
   "cell_type": "code",
   "execution_count": 256,
   "metadata": {},
   "outputs": [
    {
     "name": "stdout",
     "output_type": "stream",
     "text": [
      "[2, 28, 0, 24, 12, 26, 4, 11, 23, 19, 7, 16, 21, 9, 14, 15, 8, 20, 13, 10, 29, 17, 25, 27, 1, 18, 3, 6, 5, 22] 3425 22\n"
     ]
    }
   ],
   "source": [
    "solution, value, iter = tabu_search(graph, random_solution, 200, tabu_inverse_complete, 20)\n",
    "end = time.time()\n",
    "duration = float(\"{:.2f}\".format(end - start))\n",
    "print(solution, value, iter)\n",
    "sols.append(solution)\n",
    "values.append(value)\n",
    "iters.append(iter)\n",
    "times.append(duration)"
   ]
  },
  {
   "cell_type": "code",
   "execution_count": 257,
   "metadata": {},
   "outputs": [
    {
     "name": "stdout",
     "output_type": "stream",
     "text": [
      "[2, 12, 1, 6, 23, 29, 0, 28, 7, 4, 9, 24, 11, 14, 10, 16, 17, 3, 21, 15, 8, 20, 19, 13, 27, 5, 25, 26, 18, 22] 3551 115\n"
     ]
    }
   ],
   "source": [
    "solution, value, iter = tabu_search(graph, random_solution, 500, tabu_inverse, 5)\n",
    "end = time.time()\n",
    "duration = float(\"{:.2f}\".format(end - start))\n",
    "print(solution, value, iter)\n",
    "sols.append(solution)\n",
    "values.append(value)\n",
    "iters.append(iter)\n",
    "times.append(duration)"
   ]
  },
  {
   "cell_type": "code",
   "execution_count": 258,
   "metadata": {},
   "outputs": [
    {
     "name": "stdout",
     "output_type": "stream",
     "text": [
      "[4, 0, 2, 23, 26, 24, 28, 12, 11, 16, 19, 7, 9, 21, 14, 15, 8, 20, 10, 13, 6, 1, 3, 27, 5, 29, 17, 18, 25, 22] 3425 12\n"
     ]
    }
   ],
   "source": [
    "solution, value, iter = tabu_search(graph, random_solution, 200, tabu_scramble, 5)\n",
    "end = time.time()\n",
    "duration = float(\"{:.2f}\".format(end - start))\n",
    "print(solution, value, iter)\n",
    "sols.append(solution)\n",
    "values.append(value)\n",
    "iters.append(iter)\n",
    "times.append(duration)"
   ]
  },
  {
   "cell_type": "code",
   "execution_count": 259,
   "metadata": {},
   "outputs": [
    {
     "name": "stdout",
     "output_type": "stream",
     "text": [
      "[24, 12, 28, 26, 4, 11, 0, 2, 23, 16, 9, 14, 8, 19, 21, 5, 1, 10, 27, 3, 7, 13, 15, 25, 17, 20, 18, 29, 6, 22] 3520 171\n"
     ]
    }
   ],
   "source": [
    "solution, value, iter = tabu_search(graph, random_solution, 300, tabu_scramble_continuous, 5)\n",
    "end = time.time()\n",
    "duration = float(\"{:.2f}\".format(end - start))\n",
    "print(solution, value, iter)\n",
    "sols.append(solution)\n",
    "values.append(value)\n",
    "iters.append(iter)\n",
    "times.append(duration)"
   ]
  },
  {
   "cell_type": "code",
   "execution_count": 260,
   "metadata": {},
   "outputs": [
    {
     "name": "stdout",
     "output_type": "stream",
     "text": [
      "[2, 19, 11, 21, 23, 24, 0, 26, 9, 14, 28, 1, 27, 8, 20, 17, 13, 29, 25, 5, 6, 10, 18, 12, 15, 7, 3, 16, 4, 22] 3694 226\n"
     ]
    }
   ],
   "source": [
    "solution, value, iter = tabu_search(graph, random_solution, 500, tabu_double_bridge_move, 15)\n",
    "end = time.time()\n",
    "duration = float(\"{:.2f}\".format(end - start))\n",
    "print(solution, value, iter)\n",
    "sols.append(solution)\n",
    "values.append(value)\n",
    "iters.append(iter)\n",
    "times.append(duration)"
   ]
  },
  {
   "cell_type": "code",
   "execution_count": 261,
   "metadata": {},
   "outputs": [
    {
     "data": {
      "text/html": [
       "<div>\n",
       "<style scoped>\n",
       "    .dataframe tbody tr th:only-of-type {\n",
       "        vertical-align: middle;\n",
       "    }\n",
       "\n",
       "    .dataframe tbody tr th {\n",
       "        vertical-align: top;\n",
       "    }\n",
       "\n",
       "    .dataframe thead th {\n",
       "        text-align: right;\n",
       "    }\n",
       "</style>\n",
       "<table border=\"1\" class=\"dataframe\">\n",
       "  <thead>\n",
       "    <tr style=\"text-align: right;\">\n",
       "      <th></th>\n",
       "      <th>Dim</th>\n",
       "      <th>Method</th>\n",
       "      <th>Value</th>\n",
       "      <th>Time</th>\n",
       "    </tr>\n",
       "  </thead>\n",
       "  <tbody>\n",
       "    <tr>\n",
       "      <th>0</th>\n",
       "      <td>30</td>\n",
       "      <td>tabu_swap_neighbors</td>\n",
       "      <td>3660</td>\n",
       "      <td>2.77</td>\n",
       "    </tr>\n",
       "    <tr>\n",
       "      <th>1</th>\n",
       "      <td>30</td>\n",
       "      <td>tabu_swap</td>\n",
       "      <td>3554</td>\n",
       "      <td>15.81</td>\n",
       "    </tr>\n",
       "    <tr>\n",
       "      <th>2</th>\n",
       "      <td>30</td>\n",
       "      <td>tabu_inverse_complete</td>\n",
       "      <td>3425</td>\n",
       "      <td>31.68</td>\n",
       "    </tr>\n",
       "    <tr>\n",
       "      <th>3</th>\n",
       "      <td>30</td>\n",
       "      <td>tabu_inverse</td>\n",
       "      <td>3551</td>\n",
       "      <td>34.50</td>\n",
       "    </tr>\n",
       "    <tr>\n",
       "      <th>4</th>\n",
       "      <td>30</td>\n",
       "      <td>tabu_scramble</td>\n",
       "      <td>3425</td>\n",
       "      <td>50.72</td>\n",
       "    </tr>\n",
       "    <tr>\n",
       "      <th>5</th>\n",
       "      <td>30</td>\n",
       "      <td>tabu_scramble_continuous</td>\n",
       "      <td>3520</td>\n",
       "      <td>75.22</td>\n",
       "    </tr>\n",
       "    <tr>\n",
       "      <th>6</th>\n",
       "      <td>30</td>\n",
       "      <td>tabu_double_bridge_move</td>\n",
       "      <td>3694</td>\n",
       "      <td>75.44</td>\n",
       "    </tr>\n",
       "  </tbody>\n",
       "</table>\n",
       "</div>"
      ],
      "text/plain": [
       "   Dim                    Method  Value   Time\n",
       "0   30       tabu_swap_neighbors   3660   2.77\n",
       "1   30                 tabu_swap   3554  15.81\n",
       "2   30     tabu_inverse_complete   3425  31.68\n",
       "3   30              tabu_inverse   3551  34.50\n",
       "4   30             tabu_scramble   3425  50.72\n",
       "5   30  tabu_scramble_continuous   3520  75.22\n",
       "6   30   tabu_double_bridge_move   3694  75.44"
      ]
     },
     "metadata": {},
     "output_type": "display_data"
    }
   ],
   "source": [
    "#generating comparison table\n",
    "from IPython.display import display\n",
    "import pandas as pd\n",
    "dim = num_nodes\n",
    "\n",
    "results = []\n",
    "\n",
    "best = float('inf')\n",
    "best_i = -1\n",
    "\n",
    "average = [0,0,0]\n",
    "\n",
    "number_of_combinations = 0\n",
    "\n",
    "solution_generation = [tabu_swap_neighbors, tabu_swap, tabu_inverse_complete, tabu_inverse, tabu_scramble, tabu_scramble_continuous, tabu_double_bridge_move]\n",
    "for i, sg in enumerate(solution_generation):\n",
    "    method = sg.__name__\n",
    "    results.append({'Dim': dim, 'Method': method, 'Value': values[i], 'Time': times[i], 'Best_Iter': iters[i]})\n",
    "\n",
    "    if values[i] < best:\n",
    "        best = values[i]\n",
    "        best_i = i\n",
    "\n",
    "    average[0] += values[i]\n",
    "    average[1] += times[i] \n",
    "    average[2] += iters[i]\n",
    "\n",
    "    number_of_combinations += 1\n",
    "\n",
    "df = pd.DataFrame(results)\n",
    "#display(df)\n",
    "display(df.drop('Best_Iter', axis=1))  \n",
    "df.to_csv('comparison_tables/tabu_search.csv', mode='a', header=not pd.io.common.file_exists('comparison_tables/tabu_search.csv'), index=False)"
   ]
  },
  {
   "cell_type": "code",
   "execution_count": 262,
   "metadata": {},
   "outputs": [
    {
     "name": "stdout",
     "output_type": "stream",
     "text": [
      "best: tabu_inverse_complete 3425 31.68 22\n"
     ]
    },
    {
     "data": {
      "text/html": [
       "<div>\n",
       "<style scoped>\n",
       "    .dataframe tbody tr th:only-of-type {\n",
       "        vertical-align: middle;\n",
       "    }\n",
       "\n",
       "    .dataframe tbody tr th {\n",
       "        vertical-align: top;\n",
       "    }\n",
       "\n",
       "    .dataframe thead th {\n",
       "        text-align: right;\n",
       "    }\n",
       "</style>\n",
       "<table border=\"1\" class=\"dataframe\">\n",
       "  <thead>\n",
       "    <tr style=\"text-align: right;\">\n",
       "      <th></th>\n",
       "      <th>Dim</th>\n",
       "      <th>Method</th>\n",
       "      <th>Value</th>\n",
       "      <th>Time</th>\n",
       "      <th>Best_Iter</th>\n",
       "    </tr>\n",
       "  </thead>\n",
       "  <tbody>\n",
       "    <tr>\n",
       "      <th>0</th>\n",
       "      <td>30</td>\n",
       "      <td>tabu_inverse_complete</td>\n",
       "      <td>3425</td>\n",
       "      <td>31.68</td>\n",
       "      <td>22</td>\n",
       "    </tr>\n",
       "  </tbody>\n",
       "</table>\n",
       "</div>"
      ],
      "text/plain": [
       "   Dim                 Method  Value   Time  Best_Iter\n",
       "0   30  tabu_inverse_complete   3425  31.68         22"
      ]
     },
     "metadata": {},
     "output_type": "display_data"
    }
   ],
   "source": [
    "print('best:', solution_generation[best_i].__name__, values[best_i], times[best_i], iters[best_i])\n",
    "df_best = pd.DataFrame({'Dim': dim, 'Method':  solution_generation[best_i].__name__, 'Value': values[best_i], 'Time': times[best_i], 'Best_Iter': iters[best_i]}, index=[0])\n",
    "display(df_best)"
   ]
  },
  {
   "cell_type": "code",
   "execution_count": 263,
   "metadata": {},
   "outputs": [],
   "source": [
    "df = pd.read_csv('comparison_tables/bests.csv')\n",
    "row_to_update = df[df['Dim'] == num_nodes]\n",
    "\n",
    "if not row_to_update.empty:\n",
    "    \n",
    "    df.loc[row_to_update.index, 'tabu'] = values[best_i]\n",
    "    df.loc[row_to_update.index, 'tabu_time'] = times[best_i]\n",
    "\n",
    "    df.to_csv('comparison_tables/bests.csv', index=False)\n",
    "else:\n",
    "    new_row_data = {'Dim': num_nodes, 'tabu': values[best_i], 'tabu_time': times[best_i]}\n",
    "    df.loc[len(df)] = new_row_data\n",
    "    df.to_csv('comparison_tables/bests.csv', index=False)"
   ]
  },
  {
   "cell_type": "code",
   "execution_count": 264,
   "metadata": {},
   "outputs": [
    {
     "name": "stdout",
     "output_type": "stream",
     "text": [
      "average: [3547.0, 40.88, 91.14]\n"
     ]
    },
    {
     "data": {
      "text/html": [
       "<div>\n",
       "<style scoped>\n",
       "    .dataframe tbody tr th:only-of-type {\n",
       "        vertical-align: middle;\n",
       "    }\n",
       "\n",
       "    .dataframe tbody tr th {\n",
       "        vertical-align: top;\n",
       "    }\n",
       "\n",
       "    .dataframe thead th {\n",
       "        text-align: right;\n",
       "    }\n",
       "</style>\n",
       "<table border=\"1\" class=\"dataframe\">\n",
       "  <thead>\n",
       "    <tr style=\"text-align: right;\">\n",
       "      <th></th>\n",
       "      <th>Dim</th>\n",
       "      <th>Value</th>\n",
       "      <th>Time</th>\n",
       "      <th>Best_Iter</th>\n",
       "    </tr>\n",
       "  </thead>\n",
       "  <tbody>\n",
       "    <tr>\n",
       "      <th>0</th>\n",
       "      <td>30</td>\n",
       "      <td>3547.0</td>\n",
       "      <td>40.88</td>\n",
       "      <td>91.14</td>\n",
       "    </tr>\n",
       "  </tbody>\n",
       "</table>\n",
       "</div>"
      ],
      "text/plain": [
       "   Dim   Value   Time  Best_Iter\n",
       "0   30  3547.0  40.88      91.14"
      ]
     },
     "metadata": {},
     "output_type": "display_data"
    }
   ],
   "source": [
    "average = [average[0] / number_of_combinations, average[1] / number_of_combinations, average[2] / number_of_combinations]\n",
    "average = [round(num, 2) for num in average]\n",
    "print('average:', average)\n",
    "df_avg = pd.DataFrame({'Dim': dim, 'Value': average[0], 'Time': average[1], 'Best_Iter': average[2]}, index=[0])\n",
    "display(df_avg)"
   ]
  },
  {
   "cell_type": "code",
   "execution_count": 265,
   "metadata": {},
   "outputs": [],
   "source": [
    "df = pd.read_csv('comparison_tables/averages.csv')\n",
    "row_to_update = df[df['Dim'] == num_nodes]\n",
    "\n",
    "if not row_to_update.empty:\n",
    "\n",
    "    df.loc[row_to_update.index, 'tabu'] = average[0]\n",
    "    df.loc[row_to_update.index, 'tabu_time'] = average[1]\n",
    "\n",
    "    df.to_csv('comparison_tables/averages.csv', index=False)\n",
    "else:\n",
    "    new_row_data = {'Dim': num_nodes, 'tabu': values[best_i], 'tabu_time': times[best_i]}\n",
    "    df.loc[len(df)] = new_row_data\n",
    "    df.to_csv('comparison_tables/averages.csv', index=False)"
   ]
  }
 ],
 "metadata": {
  "kernelspec": {
   "display_name": "Python 3",
   "language": "python",
   "name": "python3"
  },
  "language_info": {
   "codemirror_mode": {
    "name": "ipython",
    "version": 3
   },
   "file_extension": ".py",
   "mimetype": "text/x-python",
   "name": "python",
   "nbconvert_exporter": "python",
   "pygments_lexer": "ipython3",
   "version": "3.10.11"
  }
 },
 "nbformat": 4,
 "nbformat_minor": 2
}
