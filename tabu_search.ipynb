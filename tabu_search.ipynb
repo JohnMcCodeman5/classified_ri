{
 "cells": [
  {
   "cell_type": "code",
   "execution_count": 24,
   "metadata": {},
   "outputs": [],
   "source": [
    "import random\n",
    "import numpy as np\n",
    "import pandas as pd\n",
    "from matplotlib import pyplot as plt\n",
    "from copy import deepcopy\n",
    "import data_generation as dg\n",
    "import time"
   ]
  },
  {
   "cell_type": "code",
   "execution_count": 91,
   "metadata": {},
   "outputs": [],
   "source": [
    "graph, random_solution, total_edge_length = dg.read_scientific_instance('data\\\\nug_23_5.txt')\n",
    "num_nodes = len(graph)"
   ]
  },
  {
   "cell_type": "code",
   "execution_count": 92,
   "metadata": {},
   "outputs": [],
   "source": [
    "def tabu_swap_neighbors(solution):\n",
    "    neighbors = []\n",
    "\n",
    "    for i in range(len(solution) - 1):\n",
    "        neighbor = solution.copy()\n",
    "        neighbor[i], neighbor[i + 1] = neighbor[i + 1], neighbor[i]\n",
    "        neighbors.append(neighbor)\n",
    "        \n",
    "    return neighbors"
   ]
  },
  {
   "cell_type": "code",
   "execution_count": 93,
   "metadata": {},
   "outputs": [],
   "source": [
    "def tabu_swap(solution):\n",
    "    solutions = []\n",
    "\n",
    "    for i in range(len(solution)):\n",
    "        for j in range(i+1, len(solution)):\n",
    "            solution = solution.copy()\n",
    "            tmp = solution[i]\n",
    "            solution[i] = solution[j]\n",
    "            solution[j] = tmp\n",
    "            solutions.append(solution)\n",
    "            \n",
    "    return solutions"
   ]
  },
  {
   "cell_type": "code",
   "execution_count": 94,
   "metadata": {},
   "outputs": [],
   "source": [
    "def tabu_inverse_complete(solution):\n",
    "    solutions = []\n",
    "\n",
    "    for i in range(len(solution)):\n",
    "        for j in range(i+1, len(solution)):\n",
    "            new_solution = solution.copy()\n",
    "            new_solution[i:j] = reversed(new_solution[i:j])\n",
    "            solutions.append(new_solution)\n",
    "            \n",
    "    return solutions"
   ]
  },
  {
   "cell_type": "code",
   "execution_count": 95,
   "metadata": {},
   "outputs": [],
   "source": [
    "def tabu_inverse(solution):\n",
    "    solutions = []\n",
    "\n",
    "    for i in range(len(solution) - 1):\n",
    "        new_solution = solution.copy()\n",
    "        j = random.randrange(i+1, len(solution))\n",
    "        new_solution[i:j] = reversed(new_solution[i:j])\n",
    "        solutions.append(new_solution)\n",
    "        \n",
    "    return solutions"
   ]
  },
  {
   "cell_type": "code",
   "execution_count": 96,
   "metadata": {},
   "outputs": [],
   "source": [
    "def tabu_scramble(solution):\n",
    "    solutions = []\n",
    "\n",
    "    for i in range(len(solution)):\n",
    "        for j in range(i+1, len(solution)):\n",
    "            new_solution = solution.copy()\n",
    "            sub = new_solution[i:j]\n",
    "            random.shuffle(sub)\n",
    "            new_solution[i:j] = sub\n",
    "            solutions.append(new_solution)\n",
    "            \n",
    "    return solutions"
   ]
  },
  {
   "cell_type": "code",
   "execution_count": 97,
   "metadata": {},
   "outputs": [],
   "source": [
    "def tabu_scramble_continuous(solution):\n",
    "    solutions = []\n",
    "\n",
    "    for i in range(len(solution)):\n",
    "        for j in range(i+1, len(solution)):\n",
    "            solution = solution.copy()\n",
    "            sub = solution[i:j]\n",
    "            random.shuffle(sub)\n",
    "            solution[i:j] = sub\n",
    "            solutions.append(solution)\n",
    "            \n",
    "    return solutions"
   ]
  },
  {
   "cell_type": "code",
   "execution_count": 98,
   "metadata": {},
   "outputs": [],
   "source": [
    "def tabu_double_bridge_move(solution, num_neighbors=1):\n",
    "    n = len(solution)\n",
    "    if n < 4:\n",
    "        return [solution]\n",
    "\n",
    "    neighbors = []\n",
    "    for _ in range(num_neighbors):\n",
    "        i = random.randint(1, n - 3)\n",
    "        j = random.randint(i + 1, n - 2)\n",
    "        k = random.randint(j + 1, n - 1)\n",
    "\n",
    "        # Ensure i, j, and k are distinct\n",
    "        while i == j or j == k or i == k:\n",
    "            i = random.randint(1, n - 3)\n",
    "            j = random.randint(i + 1, n - 2)\n",
    "            k = random.randint(j + 1, n - 1)\n",
    "\n",
    "        neighbor = (\n",
    "            solution[:i] + solution[j:k] + solution[i:j] + solution[k:]\n",
    "        )\n",
    "        neighbors.append(neighbor)\n",
    "\n",
    "    return neighbors"
   ]
  },
  {
   "cell_type": "code",
   "execution_count": 99,
   "metadata": {},
   "outputs": [],
   "source": [
    "def tabu_search(graph, solution, max_iterations, neighbor_gen_func, tabu_tenure):\n",
    "    num_nodes = len(graph)\n",
    "    current_solution = deepcopy(solution)\n",
    "    current_value = dg.calculate_total_edge_length(graph, current_solution)\n",
    "    best_solution = current_solution.copy()\n",
    "    best_value = current_value\n",
    "    tabu_list = []\n",
    "\n",
    "    best_i = -1\n",
    "\n",
    "    for ind in range(max_iterations):\n",
    "        neighbors = neighbor_gen_func(current_solution)\n",
    "        neighbors.sort(key=lambda solution: dg.calculate_total_edge_length(graph, solution))\n",
    "        #print(neighbors[0], calculate_total_edge_length(graph, neighbors[0]))\n",
    "\n",
    "        next_solution = None\n",
    "        for neighbor in neighbors:\n",
    "            if neighbor not in tabu_list:\n",
    "                next_solution = neighbor\n",
    "                break\n",
    "\n",
    "        #if all neighbors are tabu, choose the best one\n",
    "        if next_solution is None:\n",
    "            next_solution = neighbors[0]\n",
    "\n",
    "        #update tabu list\n",
    "        tabu_list.append(next_solution)\n",
    "        if len(tabu_list) > tabu_tenure:\n",
    "            tabu_list.pop(0)\n",
    "\n",
    "        #update current solution\n",
    "        current_solution = deepcopy(next_solution)\n",
    "        current_value = dg.calculate_total_edge_length(graph, current_solution)\n",
    "\n",
    "        #update best solution\n",
    "        if current_value < best_value:\n",
    "            best_i = ind\n",
    "            best_solution = deepcopy(current_solution)\n",
    "            best_value = current_value\n",
    "\n",
    "    return best_solution, best_value, best_i"
   ]
  },
  {
   "cell_type": "code",
   "execution_count": 100,
   "metadata": {},
   "outputs": [],
   "source": [
    "sols = []\n",
    "values = []\n",
    "iters = []\n",
    "times = []"
   ]
  },
  {
   "cell_type": "code",
   "execution_count": 101,
   "metadata": {},
   "outputs": [
    {
     "name": "stdout",
     "output_type": "stream",
     "text": [
      "[12, 5, 11, 18, 20, 10, 15, 1, 22, 4, 3, 8, 9, 19, 16, 14, 21, 2, 7, 13, 0, 6, 17] 1689 52\n"
     ]
    }
   ],
   "source": [
    "start = time.time()\n",
    "solution, value, iter = tabu_search(graph, random_solution, 500, tabu_swap_neighbors, 5)\n",
    "end = time.time()\n",
    "duration = float(\"{:.2f}\".format(end - start))\n",
    "print(solution, value, iter)\n",
    "sols.append(solution)\n",
    "values.append(value)\n",
    "iters.append(iter)\n",
    "times.append(duration)"
   ]
  },
  {
   "cell_type": "code",
   "execution_count": 102,
   "metadata": {},
   "outputs": [
    {
     "name": "stdout",
     "output_type": "stream",
     "text": [
      "[11, 17, 5, 22, 10, 16, 4, 21, 20, 15, 9, 3, 13, 8, 18, 1, 14, 2, 7, 19, 0, 12, 6] 1617 17\n"
     ]
    }
   ],
   "source": [
    "start = time.time()\n",
    "solution, value, iter = tabu_search(graph, random_solution, 200, tabu_swap, 10)\n",
    "end = time.time()\n",
    "duration = float(\"{:.2f}\".format(end - start))\n",
    "print(solution, value, iter)\n",
    "sols.append(solution)\n",
    "values.append(value)\n",
    "iters.append(iter)\n",
    "times.append(duration)"
   ]
  },
  {
   "cell_type": "code",
   "execution_count": 103,
   "metadata": {},
   "outputs": [
    {
     "name": "stdout",
     "output_type": "stream",
     "text": [
      "[0, 12, 11, 19, 7, 16, 4, 2, 21, 14, 9, 8, 15, 13, 3, 20, 18, 10, 1, 22, 5, 6, 17] 1581 18\n"
     ]
    }
   ],
   "source": [
    "solution, value, iter = tabu_search(graph, random_solution, 200, tabu_inverse_complete, 20)\n",
    "end = time.time()\n",
    "duration = float(\"{:.2f}\".format(end - start))\n",
    "print(solution, value, iter)\n",
    "sols.append(solution)\n",
    "values.append(value)\n",
    "iters.append(iter)\n",
    "times.append(duration)"
   ]
  },
  {
   "cell_type": "code",
   "execution_count": 104,
   "metadata": {},
   "outputs": [
    {
     "name": "stdout",
     "output_type": "stream",
     "text": [
      "[5, 12, 6, 20, 18, 1, 19, 13, 15, 7, 2, 8, 10, 14, 9, 3, 22, 16, 21, 4, 0, 11, 17] 1600 43\n"
     ]
    }
   ],
   "source": [
    "solution, value, iter = tabu_search(graph, random_solution, 500, tabu_inverse, 5)\n",
    "end = time.time()\n",
    "duration = float(\"{:.2f}\".format(end - start))\n",
    "print(solution, value, iter)\n",
    "sols.append(solution)\n",
    "values.append(value)\n",
    "iters.append(iter)\n",
    "times.append(duration)"
   ]
  },
  {
   "cell_type": "code",
   "execution_count": 105,
   "metadata": {},
   "outputs": [
    {
     "name": "stdout",
     "output_type": "stream",
     "text": [
      "[0, 11, 12, 2, 7, 19, 16, 4, 21, 9, 14, 8, 15, 13, 3, 20, 18, 22, 1, 10, 6, 5, 17] 1581 14\n"
     ]
    }
   ],
   "source": [
    "solution, value, iter = tabu_search(graph, random_solution, 200, tabu_scramble, 5)\n",
    "end = time.time()\n",
    "duration = float(\"{:.2f}\".format(end - start))\n",
    "print(solution, value, iter)\n",
    "sols.append(solution)\n",
    "values.append(value)\n",
    "iters.append(iter)\n",
    "times.append(duration)"
   ]
  },
  {
   "cell_type": "code",
   "execution_count": 106,
   "metadata": {},
   "outputs": [
    {
     "name": "stdout",
     "output_type": "stream",
     "text": [
      "[12, 11, 16, 7, 21, 2, 19, 14, 15, 9, 10, 13, 8, 4, 20, 1, 18, 3, 0, 6, 22, 5, 17] 1630 41\n"
     ]
    }
   ],
   "source": [
    "solution, value, iter = tabu_search(graph, random_solution, 300, tabu_scramble_continuous, 5)\n",
    "end = time.time()\n",
    "duration = float(\"{:.2f}\".format(end - start))\n",
    "print(solution, value, iter)\n",
    "sols.append(solution)\n",
    "values.append(value)\n",
    "iters.append(iter)\n",
    "times.append(duration)"
   ]
  },
  {
   "cell_type": "code",
   "execution_count": 107,
   "metadata": {},
   "outputs": [
    {
     "name": "stdout",
     "output_type": "stream",
     "text": [
      "[3, 13, 21, 11, 18, 14, 7, 19, 8, 12, 0, 6, 2, 15, 4, 9, 20, 5, 22, 1, 16, 10, 17] 1708 257\n"
     ]
    }
   ],
   "source": [
    "solution, value, iter = tabu_search(graph, random_solution, 500, tabu_double_bridge_move, 15)\n",
    "end = time.time()\n",
    "duration = float(\"{:.2f}\".format(end - start))\n",
    "print(solution, value, iter)\n",
    "sols.append(solution)\n",
    "values.append(value)\n",
    "iters.append(iter)\n",
    "times.append(duration)"
   ]
  },
  {
   "cell_type": "code",
   "execution_count": 108,
   "metadata": {},
   "outputs": [
    {
     "data": {
      "text/html": [
       "<div>\n",
       "<style scoped>\n",
       "    .dataframe tbody tr th:only-of-type {\n",
       "        vertical-align: middle;\n",
       "    }\n",
       "\n",
       "    .dataframe tbody tr th {\n",
       "        vertical-align: top;\n",
       "    }\n",
       "\n",
       "    .dataframe thead th {\n",
       "        text-align: right;\n",
       "    }\n",
       "</style>\n",
       "<table border=\"1\" class=\"dataframe\">\n",
       "  <thead>\n",
       "    <tr style=\"text-align: right;\">\n",
       "      <th></th>\n",
       "      <th>Dim</th>\n",
       "      <th>Method</th>\n",
       "      <th>Value</th>\n",
       "      <th>Time</th>\n",
       "    </tr>\n",
       "  </thead>\n",
       "  <tbody>\n",
       "    <tr>\n",
       "      <th>0</th>\n",
       "      <td>23</td>\n",
       "      <td>tabu_swap_neighbors</td>\n",
       "      <td>1689</td>\n",
       "      <td>2.27</td>\n",
       "    </tr>\n",
       "    <tr>\n",
       "      <th>1</th>\n",
       "      <td>23</td>\n",
       "      <td>tabu_swap</td>\n",
       "      <td>1617</td>\n",
       "      <td>9.61</td>\n",
       "    </tr>\n",
       "    <tr>\n",
       "      <th>2</th>\n",
       "      <td>23</td>\n",
       "      <td>tabu_inverse_complete</td>\n",
       "      <td>1581</td>\n",
       "      <td>19.27</td>\n",
       "    </tr>\n",
       "    <tr>\n",
       "      <th>3</th>\n",
       "      <td>23</td>\n",
       "      <td>tabu_inverse</td>\n",
       "      <td>1600</td>\n",
       "      <td>21.53</td>\n",
       "    </tr>\n",
       "    <tr>\n",
       "      <th>4</th>\n",
       "      <td>23</td>\n",
       "      <td>tabu_scramble</td>\n",
       "      <td>1581</td>\n",
       "      <td>31.45</td>\n",
       "    </tr>\n",
       "    <tr>\n",
       "      <th>5</th>\n",
       "      <td>23</td>\n",
       "      <td>tabu_scramble_continuous</td>\n",
       "      <td>1630</td>\n",
       "      <td>46.29</td>\n",
       "    </tr>\n",
       "    <tr>\n",
       "      <th>6</th>\n",
       "      <td>23</td>\n",
       "      <td>tabu_double_bridge_move</td>\n",
       "      <td>1708</td>\n",
       "      <td>46.59</td>\n",
       "    </tr>\n",
       "  </tbody>\n",
       "</table>\n",
       "</div>"
      ],
      "text/plain": [
       "   Dim                    Method  Value   Time\n",
       "0   23       tabu_swap_neighbors   1689   2.27\n",
       "1   23                 tabu_swap   1617   9.61\n",
       "2   23     tabu_inverse_complete   1581  19.27\n",
       "3   23              tabu_inverse   1600  21.53\n",
       "4   23             tabu_scramble   1581  31.45\n",
       "5   23  tabu_scramble_continuous   1630  46.29\n",
       "6   23   tabu_double_bridge_move   1708  46.59"
      ]
     },
     "metadata": {},
     "output_type": "display_data"
    }
   ],
   "source": [
    "#generating comparison table\n",
    "from IPython.display import display\n",
    "import pandas as pd\n",
    "dim = num_nodes\n",
    "\n",
    "results = []\n",
    "\n",
    "best = float('inf')\n",
    "best_i = -1\n",
    "\n",
    "average = [0,0,0]\n",
    "\n",
    "number_of_combinations = 0\n",
    "\n",
    "solution_generation = [tabu_swap_neighbors, tabu_swap, tabu_inverse_complete, tabu_inverse, tabu_scramble, tabu_scramble_continuous, tabu_double_bridge_move]\n",
    "for i, sg in enumerate(solution_generation):\n",
    "    method = sg.__name__\n",
    "    results.append({'Dim': dim, 'Method': method, 'Value': values[i], 'Time': times[i], 'Best_Iter': iters[i]})\n",
    "\n",
    "    if values[i] < best:\n",
    "        best = values[i]\n",
    "        best_i = i\n",
    "\n",
    "    average[0] += values[i]\n",
    "    average[1] += times[i] \n",
    "    average[2] += iters[i]\n",
    "\n",
    "    number_of_combinations += 1\n",
    "\n",
    "df = pd.DataFrame(results)\n",
    "#display(df)\n",
    "display(df.drop('Best_Iter', axis=1))  \n",
    "df.to_csv('comparison_tables/tabu_search.csv', mode='a', header=not pd.io.common.file_exists('data.csv'), index=False)"
   ]
  },
  {
   "cell_type": "code",
   "execution_count": 109,
   "metadata": {},
   "outputs": [
    {
     "name": "stdout",
     "output_type": "stream",
     "text": [
      "best: tabu_inverse_complete 1581 19.27 18\n"
     ]
    },
    {
     "data": {
      "text/html": [
       "<div>\n",
       "<style scoped>\n",
       "    .dataframe tbody tr th:only-of-type {\n",
       "        vertical-align: middle;\n",
       "    }\n",
       "\n",
       "    .dataframe tbody tr th {\n",
       "        vertical-align: top;\n",
       "    }\n",
       "\n",
       "    .dataframe thead th {\n",
       "        text-align: right;\n",
       "    }\n",
       "</style>\n",
       "<table border=\"1\" class=\"dataframe\">\n",
       "  <thead>\n",
       "    <tr style=\"text-align: right;\">\n",
       "      <th></th>\n",
       "      <th>Dim</th>\n",
       "      <th>Method</th>\n",
       "      <th>Value</th>\n",
       "      <th>Time</th>\n",
       "      <th>Best_Iter</th>\n",
       "    </tr>\n",
       "  </thead>\n",
       "  <tbody>\n",
       "    <tr>\n",
       "      <th>0</th>\n",
       "      <td>23</td>\n",
       "      <td>tabu_inverse_complete</td>\n",
       "      <td>1581</td>\n",
       "      <td>19.27</td>\n",
       "      <td>18</td>\n",
       "    </tr>\n",
       "  </tbody>\n",
       "</table>\n",
       "</div>"
      ],
      "text/plain": [
       "   Dim                 Method  Value   Time  Best_Iter\n",
       "0   23  tabu_inverse_complete   1581  19.27         18"
      ]
     },
     "metadata": {},
     "output_type": "display_data"
    }
   ],
   "source": [
    "print('best:', solution_generation[best_i].__name__, values[best_i], times[best_i], iters[best_i])\n",
    "df_best = pd.DataFrame({'Dim': dim, 'Method':  solution_generation[best_i].__name__, 'Value': values[best_i], 'Time': times[best_i], 'Best_Iter': iters[best_i]}, index=[0])\n",
    "display(df_best)"
   ]
  },
  {
   "cell_type": "code",
   "execution_count": 110,
   "metadata": {},
   "outputs": [],
   "source": [
    "df = pd.read_csv('comparison_tables/bests.csv')\n",
    "row_to_update = df[df['Dim'] == num_nodes]\n",
    "\n",
    "# Check if the row exists\n",
    "if not row_to_update.empty:\n",
    "    # Update specific columns in the located row\n",
    "    df.loc[row_to_update.index, 'tabu'] = values[best_i]\n",
    "    df.loc[row_to_update.index, 'tabu_time'] = times[best_i]\n",
    "\n",
    "    # Save the updated DataFrame back to the CSV file\n",
    "    df.to_csv('comparison_tables/bests.csv', index=False)\n",
    "else:\n",
    "    new_row_data = {'Dim': num_nodes, 'tabu': values[best_i], 'tabu_time': times[best_i]}\n",
    "    df.loc[len(df)] = new_row_data\n",
    "    df.to_csv('comparison_tables/bests.csv', index=False)"
   ]
  },
  {
   "cell_type": "code",
   "execution_count": 111,
   "metadata": {},
   "outputs": [
    {
     "name": "stdout",
     "output_type": "stream",
     "text": [
      "average: [1629.43, 25.29, 63.14]\n"
     ]
    },
    {
     "data": {
      "text/html": [
       "<div>\n",
       "<style scoped>\n",
       "    .dataframe tbody tr th:only-of-type {\n",
       "        vertical-align: middle;\n",
       "    }\n",
       "\n",
       "    .dataframe tbody tr th {\n",
       "        vertical-align: top;\n",
       "    }\n",
       "\n",
       "    .dataframe thead th {\n",
       "        text-align: right;\n",
       "    }\n",
       "</style>\n",
       "<table border=\"1\" class=\"dataframe\">\n",
       "  <thead>\n",
       "    <tr style=\"text-align: right;\">\n",
       "      <th></th>\n",
       "      <th>Dim</th>\n",
       "      <th>Value</th>\n",
       "      <th>Time</th>\n",
       "      <th>Best_Iter</th>\n",
       "    </tr>\n",
       "  </thead>\n",
       "  <tbody>\n",
       "    <tr>\n",
       "      <th>0</th>\n",
       "      <td>23</td>\n",
       "      <td>1629.43</td>\n",
       "      <td>25.29</td>\n",
       "      <td>63.14</td>\n",
       "    </tr>\n",
       "  </tbody>\n",
       "</table>\n",
       "</div>"
      ],
      "text/plain": [
       "   Dim    Value   Time  Best_Iter\n",
       "0   23  1629.43  25.29      63.14"
      ]
     },
     "metadata": {},
     "output_type": "display_data"
    }
   ],
   "source": [
    "average = [average[0] / number_of_combinations, average[1] / number_of_combinations, average[2] / number_of_combinations]\n",
    "average = [round(num, 2) for num in average]\n",
    "print('average:', average)\n",
    "df_avg = pd.DataFrame({'Dim': dim, 'Value': average[0], 'Time': average[1], 'Best_Iter': average[2]}, index=[0])\n",
    "display(df_avg)"
   ]
  },
  {
   "cell_type": "code",
   "execution_count": 112,
   "metadata": {},
   "outputs": [],
   "source": [
    "df = pd.read_csv('comparison_tables/averages.csv')\n",
    "row_to_update = df[df['Dim'] == num_nodes]\n",
    "\n",
    "# Check if the row exists\n",
    "if not row_to_update.empty:\n",
    "    # Update specific columns in the located row\n",
    "    df.loc[row_to_update.index, 'tabu'] = average[0]\n",
    "    df.loc[row_to_update.index, 'tabu_time'] = average[1]\n",
    "\n",
    "    # Save the updated DataFrame back to the CSV file\n",
    "    df.to_csv('comparison_tables/averages.csv', index=False)\n",
    "else:\n",
    "    new_row_data = {'Dim': num_nodes, 'tabu': values[best_i], 'tabu_time': times[best_i]}\n",
    "    df.loc[len(df)] = new_row_data\n",
    "    df.to_csv('comparison_tables/averages.csv', index=False)"
   ]
  }
 ],
 "metadata": {
  "kernelspec": {
   "display_name": "Python 3",
   "language": "python",
   "name": "python3"
  },
  "language_info": {
   "codemirror_mode": {
    "name": "ipython",
    "version": 3
   },
   "file_extension": ".py",
   "mimetype": "text/x-python",
   "name": "python",
   "nbconvert_exporter": "python",
   "pygments_lexer": "ipython3",
   "version": "3.10.11"
  }
 },
 "nbformat": 4,
 "nbformat_minor": 2
}
