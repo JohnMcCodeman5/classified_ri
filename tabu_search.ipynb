{
 "cells": [
  {
   "cell_type": "code",
   "execution_count": 173,
   "metadata": {},
   "outputs": [],
   "source": [
    "import random\n",
    "import numpy as np\n",
    "import pandas as pd\n",
    "from matplotlib import pyplot as plt\n",
    "from copy import deepcopy\n",
    "import data_generation as dg\n",
    "import time"
   ]
  },
  {
   "cell_type": "code",
   "execution_count": 174,
   "metadata": {},
   "outputs": [],
   "source": [
    "graph, random_solution, total_edge_length = dg.read_instance('data\\data15.txt')\n",
    "num_nodes = len(graph)"
   ]
  },
  {
   "cell_type": "code",
   "execution_count": 175,
   "metadata": {},
   "outputs": [],
   "source": [
    "def tabu_swap_neighbors(solution):\n",
    "    neighbors = []\n",
    "\n",
    "    for i in range(len(solution) - 1):\n",
    "        neighbor = solution.copy()\n",
    "        neighbor[i], neighbor[i + 1] = neighbor[i + 1], neighbor[i]\n",
    "        neighbors.append(neighbor)\n",
    "        \n",
    "    return neighbors"
   ]
  },
  {
   "cell_type": "code",
   "execution_count": 176,
   "metadata": {},
   "outputs": [],
   "source": [
    "def tabu_swap(solution):\n",
    "    solutions = []\n",
    "\n",
    "    for i in range(len(solution)):\n",
    "        for j in range(i+1, len(solution)):\n",
    "            solution = solution.copy()\n",
    "            tmp = solution[i]\n",
    "            solution[i] = solution[j]\n",
    "            solution[j] = tmp\n",
    "            solutions.append(solution)\n",
    "            \n",
    "    return solutions"
   ]
  },
  {
   "cell_type": "code",
   "execution_count": 177,
   "metadata": {},
   "outputs": [],
   "source": [
    "def tabu_inverse_complete(solution):\n",
    "    solutions = []\n",
    "\n",
    "    for i in range(len(solution)):\n",
    "        for j in range(i+1, len(solution)):\n",
    "            new_solution = solution.copy()\n",
    "            new_solution[i:j] = reversed(new_solution[i:j])\n",
    "            solutions.append(new_solution)\n",
    "            \n",
    "    return solutions"
   ]
  },
  {
   "cell_type": "code",
   "execution_count": 178,
   "metadata": {},
   "outputs": [],
   "source": [
    "def tabu_inverse(solution):\n",
    "    solutions = []\n",
    "\n",
    "    for i in range(len(solution) - 1):\n",
    "        new_solution = solution.copy()\n",
    "        j = random.randrange(i+1, len(solution))\n",
    "        new_solution[i:j] = reversed(new_solution[i:j])\n",
    "        solutions.append(new_solution)\n",
    "        \n",
    "    return solutions"
   ]
  },
  {
   "cell_type": "code",
   "execution_count": 179,
   "metadata": {},
   "outputs": [],
   "source": [
    "def tabu_scramble(solution):\n",
    "    solutions = []\n",
    "\n",
    "    for i in range(len(solution)):\n",
    "        for j in range(i+1, len(solution)):\n",
    "            new_solution = solution.copy()\n",
    "            sub = new_solution[i:j]\n",
    "            random.shuffle(sub)\n",
    "            new_solution[i:j] = sub\n",
    "            solutions.append(new_solution)\n",
    "            \n",
    "    return solutions"
   ]
  },
  {
   "cell_type": "code",
   "execution_count": 180,
   "metadata": {},
   "outputs": [],
   "source": [
    "def tabu_scramble_continuous(solution):\n",
    "    solutions = []\n",
    "\n",
    "    for i in range(len(solution)):\n",
    "        for j in range(i+1, len(solution)):\n",
    "            solution = solution.copy()\n",
    "            sub = solution[i:j]\n",
    "            random.shuffle(sub)\n",
    "            solution[i:j] = sub\n",
    "            solutions.append(solution)\n",
    "            \n",
    "    return solutions"
   ]
  },
  {
   "cell_type": "code",
   "execution_count": 181,
   "metadata": {},
   "outputs": [],
   "source": [
    "def tabu_double_bridge_move(solution, num_neighbors=1):\n",
    "    n = len(solution)\n",
    "    if n < 4:\n",
    "        return [solution]\n",
    "\n",
    "    neighbors = []\n",
    "    for _ in range(num_neighbors):\n",
    "        i = random.randint(1, n - 3)\n",
    "        j = random.randint(i + 1, n - 2)\n",
    "        k = random.randint(j + 1, n - 1)\n",
    "\n",
    "        # Ensure i, j, and k are distinct\n",
    "        while i == j or j == k or i == k:\n",
    "            i = random.randint(1, n - 3)\n",
    "            j = random.randint(i + 1, n - 2)\n",
    "            k = random.randint(j + 1, n - 1)\n",
    "\n",
    "        neighbor = (\n",
    "            solution[:i] + solution[j:k] + solution[i:j] + solution[k:]\n",
    "        )\n",
    "        neighbors.append(neighbor)\n",
    "\n",
    "    return neighbors"
   ]
  },
  {
   "cell_type": "code",
   "execution_count": 182,
   "metadata": {},
   "outputs": [],
   "source": [
    "#TODO rename neighbors into solutions so it makes more sense\n",
    "def tabu_search(graph, solution, max_iterations, neighbor_gen_func, tabu_tenure):\n",
    "    num_nodes = len(graph)\n",
    "    current_solution = deepcopy(solution)\n",
    "    current_value = dg.calculate_total_edge_length(graph, current_solution)\n",
    "    best_solution = current_solution.copy()\n",
    "    best_value = current_value\n",
    "    tabu_list = []\n",
    "\n",
    "    best_i = -1\n",
    "\n",
    "    for ind in range(max_iterations):\n",
    "        neighbors = neighbor_gen_func(current_solution)\n",
    "        neighbors.sort(key=lambda solution: dg.calculate_total_edge_length(graph, solution))\n",
    "        #print(neighbors[0], calculate_total_edge_length(graph, neighbors[0]))\n",
    "\n",
    "        # Find the best non-tabu neighbor\n",
    "        next_solution = None\n",
    "        for neighbor in neighbors:\n",
    "            if neighbor not in tabu_list:\n",
    "                next_solution = neighbor\n",
    "                break\n",
    "\n",
    "        # If all neighbors are tabu, choose the best one\n",
    "        if next_solution is None:\n",
    "            next_solution = neighbors[0]\n",
    "\n",
    "        # Update tabu list\n",
    "        tabu_list.append(next_solution)\n",
    "        if len(tabu_list) > tabu_tenure:\n",
    "            tabu_list.pop(0)\n",
    "\n",
    "        # Update current solution\n",
    "        current_solution = deepcopy(next_solution)\n",
    "        current_value = dg.calculate_total_edge_length(graph, current_solution)\n",
    "\n",
    "        # Update best solution\n",
    "        if current_value < best_value:\n",
    "            #print(current_value)\n",
    "            best_i = ind\n",
    "            #print('promena best_i', best_i)\n",
    "            best_solution = deepcopy(current_solution)\n",
    "            best_value = current_value\n",
    "\n",
    "    return best_solution, best_value, best_i"
   ]
  },
  {
   "cell_type": "code",
   "execution_count": 183,
   "metadata": {},
   "outputs": [],
   "source": [
    "sols = []\n",
    "values = []\n",
    "iters = []\n",
    "times = []"
   ]
  },
  {
   "cell_type": "code",
   "execution_count": 184,
   "metadata": {},
   "outputs": [
    {
     "name": "stdout",
     "output_type": "stream",
     "text": [
      "[10, 5, 12, 2, 7, 4, 13, 14, 1, 8, 0, 6, 9, 3, 11] 186 32\n"
     ]
    }
   ],
   "source": [
    "start = time.time()\n",
    "solution, value, iter = tabu_search(graph, random_solution, 500, tabu_swap_neighbors, 5)\n",
    "end = time.time()\n",
    "duration = float(\"{:.2f}\".format(end - start))\n",
    "print(solution, value, iter)\n",
    "sols.append(solution)\n",
    "values.append(value)\n",
    "iters.append(iter)\n",
    "times.append(duration)"
   ]
  },
  {
   "cell_type": "code",
   "execution_count": 185,
   "metadata": {},
   "outputs": [
    {
     "name": "stdout",
     "output_type": "stream",
     "text": [
      "[10, 5, 12, 14, 7, 2, 1, 13, 8, 4, 0, 9, 6, 3, 11] 198 5\n"
     ]
    }
   ],
   "source": [
    "start = time.time()\n",
    "solution, value, iter = tabu_search(graph, random_solution, 200, tabu_swap, 10)\n",
    "end = time.time()\n",
    "duration = float(\"{:.2f}\".format(end - start))\n",
    "print(solution, value, iter)\n",
    "sols.append(solution)\n",
    "values.append(value)\n",
    "iters.append(iter)\n",
    "times.append(duration)"
   ]
  },
  {
   "cell_type": "code",
   "execution_count": 186,
   "metadata": {},
   "outputs": [
    {
     "name": "stdout",
     "output_type": "stream",
     "text": [
      "[10, 5, 12, 2, 7, 4, 13, 14, 1, 8, 11, 6, 3, 9, 0] 189 18\n"
     ]
    }
   ],
   "source": [
    "solution, value, iter = tabu_search(graph, random_solution, 200, tabu_inverse_complete, 20)\n",
    "end = time.time()\n",
    "duration = float(\"{:.2f}\".format(end - start))\n",
    "print(solution, value, iter)\n",
    "sols.append(solution)\n",
    "values.append(value)\n",
    "iters.append(iter)\n",
    "times.append(duration)"
   ]
  },
  {
   "cell_type": "code",
   "execution_count": 187,
   "metadata": {},
   "outputs": [
    {
     "name": "stdout",
     "output_type": "stream",
     "text": [
      "[10, 5, 12, 2, 7, 4, 13, 1, 14, 8, 11, 6, 3, 9, 0] 189 75\n"
     ]
    }
   ],
   "source": [
    "solution, value, iter = tabu_search(graph, random_solution, 500, tabu_inverse, 5)\n",
    "end = time.time()\n",
    "duration = float(\"{:.2f}\".format(end - start))\n",
    "print(solution, value, iter)\n",
    "sols.append(solution)\n",
    "values.append(value)\n",
    "iters.append(iter)\n",
    "times.append(duration)"
   ]
  },
  {
   "cell_type": "code",
   "execution_count": 188,
   "metadata": {},
   "outputs": [
    {
     "name": "stdout",
     "output_type": "stream",
     "text": [
      "[10, 5, 12, 2, 7, 4, 13, 14, 1, 8, 11, 6, 3, 9, 0] 189 8\n"
     ]
    }
   ],
   "source": [
    "solution, value, iter = tabu_search(graph, random_solution, 200, tabu_scramble, 5)\n",
    "end = time.time()\n",
    "duration = float(\"{:.2f}\".format(end - start))\n",
    "print(solution, value, iter)\n",
    "sols.append(solution)\n",
    "values.append(value)\n",
    "iters.append(iter)\n",
    "times.append(duration)"
   ]
  },
  {
   "cell_type": "code",
   "execution_count": 189,
   "metadata": {},
   "outputs": [
    {
     "name": "stdout",
     "output_type": "stream",
     "text": [
      "[11, 14, 1, 8, 6, 13, 9, 3, 12, 4, 5, 2, 7, 10, 0] 201 92\n"
     ]
    }
   ],
   "source": [
    "solution, value, iter = tabu_search(graph, random_solution, 300, tabu_scramble_continuous, 5)\n",
    "end = time.time()\n",
    "duration = float(\"{:.2f}\".format(end - start))\n",
    "print(solution, value, iter)\n",
    "sols.append(solution)\n",
    "values.append(value)\n",
    "iters.append(iter)\n",
    "times.append(duration)"
   ]
  },
  {
   "cell_type": "code",
   "execution_count": 190,
   "metadata": {},
   "outputs": [
    {
     "name": "stdout",
     "output_type": "stream",
     "text": [
      "[7, 5, 10, 1, 13, 4, 12, 6, 8, 2, 14, 9, 11, 3, 0] 226 144\n"
     ]
    }
   ],
   "source": [
    "solution, value, iter = tabu_search(graph, random_solution, 500, tabu_double_bridge_move, 15)\n",
    "end = time.time()\n",
    "duration = float(\"{:.2f}\".format(end - start))\n",
    "print(solution, value, iter)\n",
    "sols.append(solution)\n",
    "values.append(value)\n",
    "iters.append(iter)\n",
    "times.append(duration)"
   ]
  },
  {
   "cell_type": "code",
   "execution_count": 196,
   "metadata": {},
   "outputs": [
    {
     "data": {
      "text/html": [
       "<div>\n",
       "<style scoped>\n",
       "    .dataframe tbody tr th:only-of-type {\n",
       "        vertical-align: middle;\n",
       "    }\n",
       "\n",
       "    .dataframe tbody tr th {\n",
       "        vertical-align: top;\n",
       "    }\n",
       "\n",
       "    .dataframe thead th {\n",
       "        text-align: right;\n",
       "    }\n",
       "</style>\n",
       "<table border=\"1\" class=\"dataframe\">\n",
       "  <thead>\n",
       "    <tr style=\"text-align: right;\">\n",
       "      <th></th>\n",
       "      <th>Dim</th>\n",
       "      <th>Method</th>\n",
       "      <th>Value</th>\n",
       "      <th>Time</th>\n",
       "    </tr>\n",
       "  </thead>\n",
       "  <tbody>\n",
       "    <tr>\n",
       "      <th>0</th>\n",
       "      <td>15</td>\n",
       "      <td>tabu_swap_neighbors</td>\n",
       "      <td>186</td>\n",
       "      <td>0.41</td>\n",
       "    </tr>\n",
       "    <tr>\n",
       "      <th>1</th>\n",
       "      <td>15</td>\n",
       "      <td>tabu_swap</td>\n",
       "      <td>198</td>\n",
       "      <td>0.99</td>\n",
       "    </tr>\n",
       "    <tr>\n",
       "      <th>2</th>\n",
       "      <td>15</td>\n",
       "      <td>tabu_inverse_complete</td>\n",
       "      <td>189</td>\n",
       "      <td>2.07</td>\n",
       "    </tr>\n",
       "    <tr>\n",
       "      <th>3</th>\n",
       "      <td>15</td>\n",
       "      <td>tabu_inverse</td>\n",
       "      <td>189</td>\n",
       "      <td>2.48</td>\n",
       "    </tr>\n",
       "    <tr>\n",
       "      <th>4</th>\n",
       "      <td>15</td>\n",
       "      <td>tabu_scramble</td>\n",
       "      <td>189</td>\n",
       "      <td>3.69</td>\n",
       "    </tr>\n",
       "    <tr>\n",
       "      <th>5</th>\n",
       "      <td>15</td>\n",
       "      <td>tabu_scramble_continuous</td>\n",
       "      <td>201</td>\n",
       "      <td>5.35</td>\n",
       "    </tr>\n",
       "    <tr>\n",
       "      <th>6</th>\n",
       "      <td>15</td>\n",
       "      <td>tabu_double_bridge_move</td>\n",
       "      <td>226</td>\n",
       "      <td>5.44</td>\n",
       "    </tr>\n",
       "  </tbody>\n",
       "</table>\n",
       "</div>"
      ],
      "text/plain": [
       "   Dim                    Method  Value  Time\n",
       "0   15       tabu_swap_neighbors    186  0.41\n",
       "1   15                 tabu_swap    198  0.99\n",
       "2   15     tabu_inverse_complete    189  2.07\n",
       "3   15              tabu_inverse    189  2.48\n",
       "4   15             tabu_scramble    189  3.69\n",
       "5   15  tabu_scramble_continuous    201  5.35\n",
       "6   15   tabu_double_bridge_move    226  5.44"
      ]
     },
     "metadata": {},
     "output_type": "display_data"
    }
   ],
   "source": [
    "#generating comparison table\n",
    "from IPython.display import display\n",
    "import pandas as pd\n",
    "dim = num_nodes\n",
    "\n",
    "results = []\n",
    "\n",
    "best = float('inf')\n",
    "best_i = -1\n",
    "\n",
    "average = [0,0,0]\n",
    "\n",
    "number_of_combinations = 0\n",
    "\n",
    "solution_generation = [tabu_swap_neighbors, tabu_swap, tabu_inverse_complete, tabu_inverse, tabu_scramble, tabu_scramble_continuous, tabu_double_bridge_move]\n",
    "for i, sg in enumerate(solution_generation):\n",
    "    method = sg.__name__\n",
    "    results.append({'Dim': dim, 'Method': method, 'Value': values[i], 'Time': times[i], 'Best_Iter': iters[i]})\n",
    "\n",
    "    if values[i] < best:\n",
    "        best = values[i]\n",
    "        best_i = i\n",
    "\n",
    "    average[0] += values[i]\n",
    "    average[1] += times[i] \n",
    "    average[2] += iters[i]\n",
    "\n",
    "    number_of_combinations += 1\n",
    "\n",
    "df = pd.DataFrame(results)\n",
    "#display(df)\n",
    "display(df.drop('Best_Iter', axis=1))  \n",
    "df.to_csv('comparison_tables/tabu_search.csv', mode='a', header=not pd.io.common.file_exists('data.csv'), index=False)"
   ]
  },
  {
   "cell_type": "code",
   "execution_count": 192,
   "metadata": {},
   "outputs": [
    {
     "name": "stdout",
     "output_type": "stream",
     "text": [
      "best: tabu_swap_neighbors 186 0.41 32\n"
     ]
    },
    {
     "data": {
      "text/html": [
       "<div>\n",
       "<style scoped>\n",
       "    .dataframe tbody tr th:only-of-type {\n",
       "        vertical-align: middle;\n",
       "    }\n",
       "\n",
       "    .dataframe tbody tr th {\n",
       "        vertical-align: top;\n",
       "    }\n",
       "\n",
       "    .dataframe thead th {\n",
       "        text-align: right;\n",
       "    }\n",
       "</style>\n",
       "<table border=\"1\" class=\"dataframe\">\n",
       "  <thead>\n",
       "    <tr style=\"text-align: right;\">\n",
       "      <th></th>\n",
       "      <th>Dim</th>\n",
       "      <th>Method</th>\n",
       "      <th>Value</th>\n",
       "      <th>Time</th>\n",
       "      <th>Best_Iter</th>\n",
       "    </tr>\n",
       "  </thead>\n",
       "  <tbody>\n",
       "    <tr>\n",
       "      <th>0</th>\n",
       "      <td>15</td>\n",
       "      <td>tabu_swap_neighbors</td>\n",
       "      <td>186</td>\n",
       "      <td>0.41</td>\n",
       "      <td>32</td>\n",
       "    </tr>\n",
       "  </tbody>\n",
       "</table>\n",
       "</div>"
      ],
      "text/plain": [
       "   Dim               Method  Value  Time  Best_Iter\n",
       "0   15  tabu_swap_neighbors    186  0.41         32"
      ]
     },
     "metadata": {},
     "output_type": "display_data"
    }
   ],
   "source": [
    "print('best:', solution_generation[best_i].__name__, values[best_i], times[best_i], iters[best_i])\n",
    "df_best = pd.DataFrame({'Dim': dim, 'Method':  solution_generation[best_i].__name__, 'Value': values[best_i], 'Time': times[best_i], 'Best_Iter': iters[best_i]}, index=[0])\n",
    "display(df_best)"
   ]
  },
  {
   "cell_type": "code",
   "execution_count": 193,
   "metadata": {},
   "outputs": [
    {
     "name": "stdout",
     "output_type": "stream",
     "text": [
      "average: [196.86, 2.92, 53.43]\n"
     ]
    },
    {
     "data": {
      "text/html": [
       "<div>\n",
       "<style scoped>\n",
       "    .dataframe tbody tr th:only-of-type {\n",
       "        vertical-align: middle;\n",
       "    }\n",
       "\n",
       "    .dataframe tbody tr th {\n",
       "        vertical-align: top;\n",
       "    }\n",
       "\n",
       "    .dataframe thead th {\n",
       "        text-align: right;\n",
       "    }\n",
       "</style>\n",
       "<table border=\"1\" class=\"dataframe\">\n",
       "  <thead>\n",
       "    <tr style=\"text-align: right;\">\n",
       "      <th></th>\n",
       "      <th>Dim</th>\n",
       "      <th>Value</th>\n",
       "      <th>Time</th>\n",
       "      <th>Best_Iter</th>\n",
       "    </tr>\n",
       "  </thead>\n",
       "  <tbody>\n",
       "    <tr>\n",
       "      <th>0</th>\n",
       "      <td>15</td>\n",
       "      <td>196.86</td>\n",
       "      <td>2.92</td>\n",
       "      <td>53.43</td>\n",
       "    </tr>\n",
       "  </tbody>\n",
       "</table>\n",
       "</div>"
      ],
      "text/plain": [
       "   Dim   Value  Time  Best_Iter\n",
       "0   15  196.86  2.92      53.43"
      ]
     },
     "metadata": {},
     "output_type": "display_data"
    }
   ],
   "source": [
    "average = [average[0] / number_of_combinations, average[1] / number_of_combinations, average[2] / number_of_combinations]\n",
    "average = [round(num, 2) for num in average]\n",
    "print('average:', average)\n",
    "df_best = pd.DataFrame({'Dim': dim, 'Value': average[0], 'Time': average[1], 'Best_Iter': average[2]}, index=[0])\n",
    "display(df_best)"
   ]
  },
  {
   "cell_type": "code",
   "execution_count": null,
   "metadata": {},
   "outputs": [],
   "source": []
  }
 ],
 "metadata": {
  "kernelspec": {
   "display_name": "Python 3",
   "language": "python",
   "name": "python3"
  },
  "language_info": {
   "codemirror_mode": {
    "name": "ipython",
    "version": 3
   },
   "file_extension": ".py",
   "mimetype": "text/x-python",
   "name": "python",
   "nbconvert_exporter": "python",
   "pygments_lexer": "ipython3",
   "version": "3.10.11"
  }
 },
 "nbformat": 4,
 "nbformat_minor": 2
}
